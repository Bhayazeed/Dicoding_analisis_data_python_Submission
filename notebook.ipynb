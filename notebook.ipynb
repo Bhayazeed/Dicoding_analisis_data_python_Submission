{
  "cells": [
    {
      "cell_type": "markdown",
      "metadata": {
        "id": "H9wADwK78DCz"
      },
      "source": [
        "# Proyek Analisis Data: E-Commerce Public Dataset\n",
        "\n",
        "- **Nama:** M. Bhayaziid Amalin\n",
        "- **Email:** mbhayaziidamalin@gmail.com\n",
        "- **ID Dicoding:** ziidsbox\n"
      ]
    },
    {
      "cell_type": "markdown",
      "metadata": {
        "id": "eE0raob58DC0"
      },
      "source": [
        "## Menentukan Pertanyaan Bisnis\n"
      ]
    },
    {
      "cell_type": "markdown",
      "metadata": {
        "id": "GmQeQ5YF8DC0"
      },
      "source": [
        "- Dari negara bagian mana pelanggan cenderung menggunakan cicilan, dan seberapa sering pelanggan memilih cicilan lebih dari 3 kali untuk kategori produk tertentu di tahun 2017? (customers, geolocation, order, order_payments)\n",
        "- Bagaimana perbandingan tingkat ketepatan waktu pengiriman selama periode puncak (November - Desember) 2017 dibandingkan dengan rata-rata bulanan ditahun yang sama? (memakai orders_dataset)\n"
      ]
    },
    {
      "cell_type": "markdown",
      "metadata": {
        "id": "H-z4QGlO8DC1"
      },
      "source": [
        "## Import Semua Packages/Library yang Digunakan\n"
      ]
    },
    {
      "cell_type": "code",
      "execution_count": 26,
      "metadata": {
        "id": "FVYwaObI8DC1"
      },
      "outputs": [],
      "source": [
        "import pandas as pd\n",
        "import matplotlib.pyplot as plt\n",
        "import seaborn as sns"
      ]
    },
    {
      "cell_type": "markdown",
      "metadata": {
        "id": "h_Sh51Xy8DC1"
      },
      "source": [
        "## Data Wrangling\n"
      ]
    },
    {
      "cell_type": "markdown",
      "metadata": {
        "id": "sXU2GBYu8DC1"
      },
      "source": [
        "### Gathering Data\n"
      ]
    },
    {
      "cell_type": "code",
      "execution_count": 27,
      "metadata": {
        "colab": {
          "base_uri": "https://localhost:8080/",
          "height": 261
        },
        "id": "zjCBk1BI8DC1",
        "outputId": "9606c42b-1e05-4f41-9387-6a7960c954ae"
      },
      "outputs": [
        {
          "name": "stderr",
          "output_type": "stream",
          "text": [
            "<>:1: SyntaxWarning: invalid escape sequence '\\c'\n",
            "<>:1: SyntaxWarning: invalid escape sequence '\\c'\n",
            "C:\\Users\\Lenovo\\AppData\\Local\\Temp\\ipykernel_16368\\1782393440.py:1: SyntaxWarning: invalid escape sequence '\\c'\n",
            "  customers_df_ziid = pd.read_csv(\"data\\customers_dataset.csv\")\n"
          ]
        },
        {
          "data": {
            "text/html": [
              "<div>\n",
              "<style scoped>\n",
              "    .dataframe tbody tr th:only-of-type {\n",
              "        vertical-align: middle;\n",
              "    }\n",
              "\n",
              "    .dataframe tbody tr th {\n",
              "        vertical-align: top;\n",
              "    }\n",
              "\n",
              "    .dataframe thead th {\n",
              "        text-align: right;\n",
              "    }\n",
              "</style>\n",
              "<table border=\"1\" class=\"dataframe\">\n",
              "  <thead>\n",
              "    <tr style=\"text-align: right;\">\n",
              "      <th></th>\n",
              "      <th>customer_id</th>\n",
              "      <th>customer_unique_id</th>\n",
              "      <th>customer_zip_code_prefix</th>\n",
              "      <th>customer_city</th>\n",
              "      <th>customer_state</th>\n",
              "    </tr>\n",
              "  </thead>\n",
              "  <tbody>\n",
              "    <tr>\n",
              "      <th>0</th>\n",
              "      <td>06b8999e2fba1a1fbc88172c00ba8bc7</td>\n",
              "      <td>861eff4711a542e4b93843c6dd7febb0</td>\n",
              "      <td>14409</td>\n",
              "      <td>franca</td>\n",
              "      <td>SP</td>\n",
              "    </tr>\n",
              "    <tr>\n",
              "      <th>1</th>\n",
              "      <td>18955e83d337fd6b2def6b18a428ac77</td>\n",
              "      <td>290c77bc529b7ac935b93aa66c333dc3</td>\n",
              "      <td>9790</td>\n",
              "      <td>sao bernardo do campo</td>\n",
              "      <td>SP</td>\n",
              "    </tr>\n",
              "    <tr>\n",
              "      <th>2</th>\n",
              "      <td>4e7b3e00288586ebd08712fdd0374a03</td>\n",
              "      <td>060e732b5b29e8181a18229c7b0b2b5e</td>\n",
              "      <td>1151</td>\n",
              "      <td>sao paulo</td>\n",
              "      <td>SP</td>\n",
              "    </tr>\n",
              "    <tr>\n",
              "      <th>3</th>\n",
              "      <td>b2b6027bc5c5109e529d4dc6358b12c3</td>\n",
              "      <td>259dac757896d24d7702b9acbbff3f3c</td>\n",
              "      <td>8775</td>\n",
              "      <td>mogi das cruzes</td>\n",
              "      <td>SP</td>\n",
              "    </tr>\n",
              "    <tr>\n",
              "      <th>4</th>\n",
              "      <td>4f2d8ab171c80ec8364f7c12e35b23ad</td>\n",
              "      <td>345ecd01c38d18a9036ed96c73b8d066</td>\n",
              "      <td>13056</td>\n",
              "      <td>campinas</td>\n",
              "      <td>SP</td>\n",
              "    </tr>\n",
              "  </tbody>\n",
              "</table>\n",
              "</div>"
            ],
            "text/plain": [
              "                        customer_id                customer_unique_id  \\\n",
              "0  06b8999e2fba1a1fbc88172c00ba8bc7  861eff4711a542e4b93843c6dd7febb0   \n",
              "1  18955e83d337fd6b2def6b18a428ac77  290c77bc529b7ac935b93aa66c333dc3   \n",
              "2  4e7b3e00288586ebd08712fdd0374a03  060e732b5b29e8181a18229c7b0b2b5e   \n",
              "3  b2b6027bc5c5109e529d4dc6358b12c3  259dac757896d24d7702b9acbbff3f3c   \n",
              "4  4f2d8ab171c80ec8364f7c12e35b23ad  345ecd01c38d18a9036ed96c73b8d066   \n",
              "\n",
              "   customer_zip_code_prefix          customer_city customer_state  \n",
              "0                     14409                 franca             SP  \n",
              "1                      9790  sao bernardo do campo             SP  \n",
              "2                      1151              sao paulo             SP  \n",
              "3                      8775        mogi das cruzes             SP  \n",
              "4                     13056               campinas             SP  "
            ]
          },
          "execution_count": 27,
          "metadata": {},
          "output_type": "execute_result"
        }
      ],
      "source": [
        "customers_df_ziid = pd.read_csv(\"data\\customers_dataset.csv\")\n",
        "customers_df_ziid.head()"
      ]
    },
    {
      "cell_type": "code",
      "execution_count": 28,
      "metadata": {
        "colab": {
          "base_uri": "https://localhost:8080/",
          "height": 226
        },
        "id": "30s1pfeGN62l",
        "outputId": "76377007-b64b-4cc6-93f8-5ff10fc4a210"
      },
      "outputs": [
        {
          "name": "stderr",
          "output_type": "stream",
          "text": [
            "<>:1: SyntaxWarning: invalid escape sequence '\\o'\n",
            "<>:1: SyntaxWarning: invalid escape sequence '\\o'\n",
            "C:\\Users\\Lenovo\\AppData\\Local\\Temp\\ipykernel_16368\\1866270885.py:1: SyntaxWarning: invalid escape sequence '\\o'\n",
            "  orders_df_ziid = pd.read_csv(\"data\\orders_dataset.csv\")\n"
          ]
        },
        {
          "data": {
            "text/html": [
              "<div>\n",
              "<style scoped>\n",
              "    .dataframe tbody tr th:only-of-type {\n",
              "        vertical-align: middle;\n",
              "    }\n",
              "\n",
              "    .dataframe tbody tr th {\n",
              "        vertical-align: top;\n",
              "    }\n",
              "\n",
              "    .dataframe thead th {\n",
              "        text-align: right;\n",
              "    }\n",
              "</style>\n",
              "<table border=\"1\" class=\"dataframe\">\n",
              "  <thead>\n",
              "    <tr style=\"text-align: right;\">\n",
              "      <th></th>\n",
              "      <th>order_id</th>\n",
              "      <th>customer_id</th>\n",
              "      <th>order_status</th>\n",
              "      <th>order_purchase_timestamp</th>\n",
              "      <th>order_approved_at</th>\n",
              "      <th>order_delivered_carrier_date</th>\n",
              "      <th>order_delivered_customer_date</th>\n",
              "      <th>order_estimated_delivery_date</th>\n",
              "    </tr>\n",
              "  </thead>\n",
              "  <tbody>\n",
              "    <tr>\n",
              "      <th>0</th>\n",
              "      <td>e481f51cbdc54678b7cc49136f2d6af7</td>\n",
              "      <td>9ef432eb6251297304e76186b10a928d</td>\n",
              "      <td>delivered</td>\n",
              "      <td>2017-10-02 10:56:33</td>\n",
              "      <td>2017-10-02 11:07:15</td>\n",
              "      <td>2017-10-04 19:55:00</td>\n",
              "      <td>2017-10-10 21:25:13</td>\n",
              "      <td>2017-10-18 00:00:00</td>\n",
              "    </tr>\n",
              "    <tr>\n",
              "      <th>1</th>\n",
              "      <td>53cdb2fc8bc7dce0b6741e2150273451</td>\n",
              "      <td>b0830fb4747a6c6d20dea0b8c802d7ef</td>\n",
              "      <td>delivered</td>\n",
              "      <td>2018-07-24 20:41:37</td>\n",
              "      <td>2018-07-26 03:24:27</td>\n",
              "      <td>2018-07-26 14:31:00</td>\n",
              "      <td>2018-08-07 15:27:45</td>\n",
              "      <td>2018-08-13 00:00:00</td>\n",
              "    </tr>\n",
              "    <tr>\n",
              "      <th>2</th>\n",
              "      <td>47770eb9100c2d0c44946d9cf07ec65d</td>\n",
              "      <td>41ce2a54c0b03bf3443c3d931a367089</td>\n",
              "      <td>delivered</td>\n",
              "      <td>2018-08-08 08:38:49</td>\n",
              "      <td>2018-08-08 08:55:23</td>\n",
              "      <td>2018-08-08 13:50:00</td>\n",
              "      <td>2018-08-17 18:06:29</td>\n",
              "      <td>2018-09-04 00:00:00</td>\n",
              "    </tr>\n",
              "    <tr>\n",
              "      <th>3</th>\n",
              "      <td>949d5b44dbf5de918fe9c16f97b45f8a</td>\n",
              "      <td>f88197465ea7920adcdbec7375364d82</td>\n",
              "      <td>delivered</td>\n",
              "      <td>2017-11-18 19:28:06</td>\n",
              "      <td>2017-11-18 19:45:59</td>\n",
              "      <td>2017-11-22 13:39:59</td>\n",
              "      <td>2017-12-02 00:28:42</td>\n",
              "      <td>2017-12-15 00:00:00</td>\n",
              "    </tr>\n",
              "    <tr>\n",
              "      <th>4</th>\n",
              "      <td>ad21c59c0840e6cb83a9ceb5573f8159</td>\n",
              "      <td>8ab97904e6daea8866dbdbc4fb7aad2c</td>\n",
              "      <td>delivered</td>\n",
              "      <td>2018-02-13 21:18:39</td>\n",
              "      <td>2018-02-13 22:20:29</td>\n",
              "      <td>2018-02-14 19:46:34</td>\n",
              "      <td>2018-02-16 18:17:02</td>\n",
              "      <td>2018-02-26 00:00:00</td>\n",
              "    </tr>\n",
              "  </tbody>\n",
              "</table>\n",
              "</div>"
            ],
            "text/plain": [
              "                           order_id                       customer_id  \\\n",
              "0  e481f51cbdc54678b7cc49136f2d6af7  9ef432eb6251297304e76186b10a928d   \n",
              "1  53cdb2fc8bc7dce0b6741e2150273451  b0830fb4747a6c6d20dea0b8c802d7ef   \n",
              "2  47770eb9100c2d0c44946d9cf07ec65d  41ce2a54c0b03bf3443c3d931a367089   \n",
              "3  949d5b44dbf5de918fe9c16f97b45f8a  f88197465ea7920adcdbec7375364d82   \n",
              "4  ad21c59c0840e6cb83a9ceb5573f8159  8ab97904e6daea8866dbdbc4fb7aad2c   \n",
              "\n",
              "  order_status order_purchase_timestamp    order_approved_at  \\\n",
              "0    delivered      2017-10-02 10:56:33  2017-10-02 11:07:15   \n",
              "1    delivered      2018-07-24 20:41:37  2018-07-26 03:24:27   \n",
              "2    delivered      2018-08-08 08:38:49  2018-08-08 08:55:23   \n",
              "3    delivered      2017-11-18 19:28:06  2017-11-18 19:45:59   \n",
              "4    delivered      2018-02-13 21:18:39  2018-02-13 22:20:29   \n",
              "\n",
              "  order_delivered_carrier_date order_delivered_customer_date  \\\n",
              "0          2017-10-04 19:55:00           2017-10-10 21:25:13   \n",
              "1          2018-07-26 14:31:00           2018-08-07 15:27:45   \n",
              "2          2018-08-08 13:50:00           2018-08-17 18:06:29   \n",
              "3          2017-11-22 13:39:59           2017-12-02 00:28:42   \n",
              "4          2018-02-14 19:46:34           2018-02-16 18:17:02   \n",
              "\n",
              "  order_estimated_delivery_date  \n",
              "0           2017-10-18 00:00:00  \n",
              "1           2018-08-13 00:00:00  \n",
              "2           2018-09-04 00:00:00  \n",
              "3           2017-12-15 00:00:00  \n",
              "4           2018-02-26 00:00:00  "
            ]
          },
          "execution_count": 28,
          "metadata": {},
          "output_type": "execute_result"
        }
      ],
      "source": [
        "orders_df_ziid = pd.read_csv(\"data\\orders_dataset.csv\")\n",
        "orders_df_ziid.head()"
      ]
    },
    {
      "cell_type": "code",
      "execution_count": 29,
      "metadata": {
        "colab": {
          "base_uri": "https://localhost:8080/",
          "height": 226
        },
        "id": "SdpAn0gEsJB3",
        "outputId": "bb386c01-89cc-451f-9759-4e3df953e498"
      },
      "outputs": [
        {
          "name": "stderr",
          "output_type": "stream",
          "text": [
            "<>:1: SyntaxWarning: invalid escape sequence '\\o'\n",
            "<>:1: SyntaxWarning: invalid escape sequence '\\o'\n",
            "C:\\Users\\Lenovo\\AppData\\Local\\Temp\\ipykernel_16368\\100958634.py:1: SyntaxWarning: invalid escape sequence '\\o'\n",
            "  order_items_df_ziid = pd.read_csv(\"data\\order_items_dataset.csv\")\n"
          ]
        },
        {
          "data": {
            "text/html": [
              "<div>\n",
              "<style scoped>\n",
              "    .dataframe tbody tr th:only-of-type {\n",
              "        vertical-align: middle;\n",
              "    }\n",
              "\n",
              "    .dataframe tbody tr th {\n",
              "        vertical-align: top;\n",
              "    }\n",
              "\n",
              "    .dataframe thead th {\n",
              "        text-align: right;\n",
              "    }\n",
              "</style>\n",
              "<table border=\"1\" class=\"dataframe\">\n",
              "  <thead>\n",
              "    <tr style=\"text-align: right;\">\n",
              "      <th></th>\n",
              "      <th>order_id</th>\n",
              "      <th>order_item_id</th>\n",
              "      <th>product_id</th>\n",
              "      <th>seller_id</th>\n",
              "      <th>shipping_limit_date</th>\n",
              "      <th>price</th>\n",
              "      <th>freight_value</th>\n",
              "    </tr>\n",
              "  </thead>\n",
              "  <tbody>\n",
              "    <tr>\n",
              "      <th>0</th>\n",
              "      <td>00010242fe8c5a6d1ba2dd792cb16214</td>\n",
              "      <td>1</td>\n",
              "      <td>4244733e06e7ecb4970a6e2683c13e61</td>\n",
              "      <td>48436dade18ac8b2bce089ec2a041202</td>\n",
              "      <td>2017-09-19 09:45:35</td>\n",
              "      <td>58.90</td>\n",
              "      <td>13.29</td>\n",
              "    </tr>\n",
              "    <tr>\n",
              "      <th>1</th>\n",
              "      <td>00018f77f2f0320c557190d7a144bdd3</td>\n",
              "      <td>1</td>\n",
              "      <td>e5f2d52b802189ee658865ca93d83a8f</td>\n",
              "      <td>dd7ddc04e1b6c2c614352b383efe2d36</td>\n",
              "      <td>2017-05-03 11:05:13</td>\n",
              "      <td>239.90</td>\n",
              "      <td>19.93</td>\n",
              "    </tr>\n",
              "    <tr>\n",
              "      <th>2</th>\n",
              "      <td>000229ec398224ef6ca0657da4fc703e</td>\n",
              "      <td>1</td>\n",
              "      <td>c777355d18b72b67abbeef9df44fd0fd</td>\n",
              "      <td>5b51032eddd242adc84c38acab88f23d</td>\n",
              "      <td>2018-01-18 14:48:30</td>\n",
              "      <td>199.00</td>\n",
              "      <td>17.87</td>\n",
              "    </tr>\n",
              "    <tr>\n",
              "      <th>3</th>\n",
              "      <td>00024acbcdf0a6daa1e931b038114c75</td>\n",
              "      <td>1</td>\n",
              "      <td>7634da152a4610f1595efa32f14722fc</td>\n",
              "      <td>9d7a1d34a5052409006425275ba1c2b4</td>\n",
              "      <td>2018-08-15 10:10:18</td>\n",
              "      <td>12.99</td>\n",
              "      <td>12.79</td>\n",
              "    </tr>\n",
              "    <tr>\n",
              "      <th>4</th>\n",
              "      <td>00042b26cf59d7ce69dfabb4e55b4fd9</td>\n",
              "      <td>1</td>\n",
              "      <td>ac6c3623068f30de03045865e4e10089</td>\n",
              "      <td>df560393f3a51e74553ab94004ba5c87</td>\n",
              "      <td>2017-02-13 13:57:51</td>\n",
              "      <td>199.90</td>\n",
              "      <td>18.14</td>\n",
              "    </tr>\n",
              "  </tbody>\n",
              "</table>\n",
              "</div>"
            ],
            "text/plain": [
              "                           order_id  order_item_id  \\\n",
              "0  00010242fe8c5a6d1ba2dd792cb16214              1   \n",
              "1  00018f77f2f0320c557190d7a144bdd3              1   \n",
              "2  000229ec398224ef6ca0657da4fc703e              1   \n",
              "3  00024acbcdf0a6daa1e931b038114c75              1   \n",
              "4  00042b26cf59d7ce69dfabb4e55b4fd9              1   \n",
              "\n",
              "                         product_id                         seller_id  \\\n",
              "0  4244733e06e7ecb4970a6e2683c13e61  48436dade18ac8b2bce089ec2a041202   \n",
              "1  e5f2d52b802189ee658865ca93d83a8f  dd7ddc04e1b6c2c614352b383efe2d36   \n",
              "2  c777355d18b72b67abbeef9df44fd0fd  5b51032eddd242adc84c38acab88f23d   \n",
              "3  7634da152a4610f1595efa32f14722fc  9d7a1d34a5052409006425275ba1c2b4   \n",
              "4  ac6c3623068f30de03045865e4e10089  df560393f3a51e74553ab94004ba5c87   \n",
              "\n",
              "   shipping_limit_date   price  freight_value  \n",
              "0  2017-09-19 09:45:35   58.90          13.29  \n",
              "1  2017-05-03 11:05:13  239.90          19.93  \n",
              "2  2018-01-18 14:48:30  199.00          17.87  \n",
              "3  2018-08-15 10:10:18   12.99          12.79  \n",
              "4  2017-02-13 13:57:51  199.90          18.14  "
            ]
          },
          "execution_count": 29,
          "metadata": {},
          "output_type": "execute_result"
        }
      ],
      "source": [
        "order_items_df_ziid = pd.read_csv(\"data\\order_items_dataset.csv\")\n",
        "order_items_df_ziid.head()"
      ]
    },
    {
      "cell_type": "code",
      "execution_count": 30,
      "metadata": {
        "colab": {
          "base_uri": "https://localhost:8080/",
          "height": 226
        },
        "id": "y7aY4R-YOPdJ",
        "outputId": "cf5d03be-0ae8-4a9a-fd2f-b55da0ff313e"
      },
      "outputs": [
        {
          "name": "stderr",
          "output_type": "stream",
          "text": [
            "<>:1: SyntaxWarning: invalid escape sequence '\\o'\n",
            "<>:1: SyntaxWarning: invalid escape sequence '\\o'\n",
            "C:\\Users\\Lenovo\\AppData\\Local\\Temp\\ipykernel_16368\\561404266.py:1: SyntaxWarning: invalid escape sequence '\\o'\n",
            "  order_payments_df_ziid = pd.read_csv(\"data\\order_payments_dataset.csv\")\n"
          ]
        },
        {
          "data": {
            "text/html": [
              "<div>\n",
              "<style scoped>\n",
              "    .dataframe tbody tr th:only-of-type {\n",
              "        vertical-align: middle;\n",
              "    }\n",
              "\n",
              "    .dataframe tbody tr th {\n",
              "        vertical-align: top;\n",
              "    }\n",
              "\n",
              "    .dataframe thead th {\n",
              "        text-align: right;\n",
              "    }\n",
              "</style>\n",
              "<table border=\"1\" class=\"dataframe\">\n",
              "  <thead>\n",
              "    <tr style=\"text-align: right;\">\n",
              "      <th></th>\n",
              "      <th>order_id</th>\n",
              "      <th>payment_sequential</th>\n",
              "      <th>payment_type</th>\n",
              "      <th>payment_installments</th>\n",
              "      <th>payment_value</th>\n",
              "    </tr>\n",
              "  </thead>\n",
              "  <tbody>\n",
              "    <tr>\n",
              "      <th>0</th>\n",
              "      <td>b81ef226f3fe1789b1e8b2acac839d17</td>\n",
              "      <td>1</td>\n",
              "      <td>credit_card</td>\n",
              "      <td>8</td>\n",
              "      <td>99.33</td>\n",
              "    </tr>\n",
              "    <tr>\n",
              "      <th>1</th>\n",
              "      <td>a9810da82917af2d9aefd1278f1dcfa0</td>\n",
              "      <td>1</td>\n",
              "      <td>credit_card</td>\n",
              "      <td>1</td>\n",
              "      <td>24.39</td>\n",
              "    </tr>\n",
              "    <tr>\n",
              "      <th>2</th>\n",
              "      <td>25e8ea4e93396b6fa0d3dd708e76c1bd</td>\n",
              "      <td>1</td>\n",
              "      <td>credit_card</td>\n",
              "      <td>1</td>\n",
              "      <td>65.71</td>\n",
              "    </tr>\n",
              "    <tr>\n",
              "      <th>3</th>\n",
              "      <td>ba78997921bbcdc1373bb41e913ab953</td>\n",
              "      <td>1</td>\n",
              "      <td>credit_card</td>\n",
              "      <td>8</td>\n",
              "      <td>107.78</td>\n",
              "    </tr>\n",
              "    <tr>\n",
              "      <th>4</th>\n",
              "      <td>42fdf880ba16b47b59251dd489d4441a</td>\n",
              "      <td>1</td>\n",
              "      <td>credit_card</td>\n",
              "      <td>2</td>\n",
              "      <td>128.45</td>\n",
              "    </tr>\n",
              "  </tbody>\n",
              "</table>\n",
              "</div>"
            ],
            "text/plain": [
              "                           order_id  payment_sequential payment_type  \\\n",
              "0  b81ef226f3fe1789b1e8b2acac839d17                   1  credit_card   \n",
              "1  a9810da82917af2d9aefd1278f1dcfa0                   1  credit_card   \n",
              "2  25e8ea4e93396b6fa0d3dd708e76c1bd                   1  credit_card   \n",
              "3  ba78997921bbcdc1373bb41e913ab953                   1  credit_card   \n",
              "4  42fdf880ba16b47b59251dd489d4441a                   1  credit_card   \n",
              "\n",
              "   payment_installments  payment_value  \n",
              "0                     8          99.33  \n",
              "1                     1          24.39  \n",
              "2                     1          65.71  \n",
              "3                     8         107.78  \n",
              "4                     2         128.45  "
            ]
          },
          "execution_count": 30,
          "metadata": {},
          "output_type": "execute_result"
        }
      ],
      "source": [
        "order_payments_df_ziid = pd.read_csv(\"data\\order_payments_dataset.csv\")\n",
        "order_payments_df_ziid.head()"
      ]
    },
    {
      "cell_type": "code",
      "execution_count": 31,
      "metadata": {
        "colab": {
          "base_uri": "https://localhost:8080/",
          "height": 226
        },
        "id": "QkLYaJzfsYis",
        "outputId": "965f1f45-2c33-4809-d7d7-36cec383c33c"
      },
      "outputs": [
        {
          "name": "stderr",
          "output_type": "stream",
          "text": [
            "<>:1: SyntaxWarning: invalid escape sequence '\\p'\n",
            "<>:1: SyntaxWarning: invalid escape sequence '\\p'\n",
            "C:\\Users\\Lenovo\\AppData\\Local\\Temp\\ipykernel_16368\\275472682.py:1: SyntaxWarning: invalid escape sequence '\\p'\n",
            "  products_df_ziid = pd.read_csv(\"data\\products_dataset.csv\")\n"
          ]
        },
        {
          "data": {
            "text/html": [
              "<div>\n",
              "<style scoped>\n",
              "    .dataframe tbody tr th:only-of-type {\n",
              "        vertical-align: middle;\n",
              "    }\n",
              "\n",
              "    .dataframe tbody tr th {\n",
              "        vertical-align: top;\n",
              "    }\n",
              "\n",
              "    .dataframe thead th {\n",
              "        text-align: right;\n",
              "    }\n",
              "</style>\n",
              "<table border=\"1\" class=\"dataframe\">\n",
              "  <thead>\n",
              "    <tr style=\"text-align: right;\">\n",
              "      <th></th>\n",
              "      <th>product_id</th>\n",
              "      <th>product_category_name</th>\n",
              "      <th>product_name_lenght</th>\n",
              "      <th>product_description_lenght</th>\n",
              "      <th>product_photos_qty</th>\n",
              "      <th>product_weight_g</th>\n",
              "      <th>product_length_cm</th>\n",
              "      <th>product_height_cm</th>\n",
              "      <th>product_width_cm</th>\n",
              "    </tr>\n",
              "  </thead>\n",
              "  <tbody>\n",
              "    <tr>\n",
              "      <th>0</th>\n",
              "      <td>1e9e8ef04dbcff4541ed26657ea517e5</td>\n",
              "      <td>perfumaria</td>\n",
              "      <td>40.0</td>\n",
              "      <td>287.0</td>\n",
              "      <td>1.0</td>\n",
              "      <td>225.0</td>\n",
              "      <td>16.0</td>\n",
              "      <td>10.0</td>\n",
              "      <td>14.0</td>\n",
              "    </tr>\n",
              "    <tr>\n",
              "      <th>1</th>\n",
              "      <td>3aa071139cb16b67ca9e5dea641aaa2f</td>\n",
              "      <td>artes</td>\n",
              "      <td>44.0</td>\n",
              "      <td>276.0</td>\n",
              "      <td>1.0</td>\n",
              "      <td>1000.0</td>\n",
              "      <td>30.0</td>\n",
              "      <td>18.0</td>\n",
              "      <td>20.0</td>\n",
              "    </tr>\n",
              "    <tr>\n",
              "      <th>2</th>\n",
              "      <td>96bd76ec8810374ed1b65e291975717f</td>\n",
              "      <td>esporte_lazer</td>\n",
              "      <td>46.0</td>\n",
              "      <td>250.0</td>\n",
              "      <td>1.0</td>\n",
              "      <td>154.0</td>\n",
              "      <td>18.0</td>\n",
              "      <td>9.0</td>\n",
              "      <td>15.0</td>\n",
              "    </tr>\n",
              "    <tr>\n",
              "      <th>3</th>\n",
              "      <td>cef67bcfe19066a932b7673e239eb23d</td>\n",
              "      <td>bebes</td>\n",
              "      <td>27.0</td>\n",
              "      <td>261.0</td>\n",
              "      <td>1.0</td>\n",
              "      <td>371.0</td>\n",
              "      <td>26.0</td>\n",
              "      <td>4.0</td>\n",
              "      <td>26.0</td>\n",
              "    </tr>\n",
              "    <tr>\n",
              "      <th>4</th>\n",
              "      <td>9dc1a7de274444849c219cff195d0b71</td>\n",
              "      <td>utilidades_domesticas</td>\n",
              "      <td>37.0</td>\n",
              "      <td>402.0</td>\n",
              "      <td>4.0</td>\n",
              "      <td>625.0</td>\n",
              "      <td>20.0</td>\n",
              "      <td>17.0</td>\n",
              "      <td>13.0</td>\n",
              "    </tr>\n",
              "  </tbody>\n",
              "</table>\n",
              "</div>"
            ],
            "text/plain": [
              "                         product_id  product_category_name  \\\n",
              "0  1e9e8ef04dbcff4541ed26657ea517e5             perfumaria   \n",
              "1  3aa071139cb16b67ca9e5dea641aaa2f                  artes   \n",
              "2  96bd76ec8810374ed1b65e291975717f          esporte_lazer   \n",
              "3  cef67bcfe19066a932b7673e239eb23d                  bebes   \n",
              "4  9dc1a7de274444849c219cff195d0b71  utilidades_domesticas   \n",
              "\n",
              "   product_name_lenght  product_description_lenght  product_photos_qty  \\\n",
              "0                 40.0                       287.0                 1.0   \n",
              "1                 44.0                       276.0                 1.0   \n",
              "2                 46.0                       250.0                 1.0   \n",
              "3                 27.0                       261.0                 1.0   \n",
              "4                 37.0                       402.0                 4.0   \n",
              "\n",
              "   product_weight_g  product_length_cm  product_height_cm  product_width_cm  \n",
              "0             225.0               16.0               10.0              14.0  \n",
              "1            1000.0               30.0               18.0              20.0  \n",
              "2             154.0               18.0                9.0              15.0  \n",
              "3             371.0               26.0                4.0              26.0  \n",
              "4             625.0               20.0               17.0              13.0  "
            ]
          },
          "execution_count": 31,
          "metadata": {},
          "output_type": "execute_result"
        }
      ],
      "source": [
        "products_df_ziid = pd.read_csv(\"data\\products_dataset.csv\")\n",
        "products_df_ziid.head()"
      ]
    },
    {
      "cell_type": "code",
      "execution_count": 32,
      "metadata": {
        "colab": {
          "base_uri": "https://localhost:8080/",
          "height": 206
        },
        "id": "CGzDYUO6u1a9",
        "outputId": "93f69759-7b7e-4d02-8b9e-473609d1d3e0"
      },
      "outputs": [
        {
          "name": "stderr",
          "output_type": "stream",
          "text": [
            "<>:1: SyntaxWarning: invalid escape sequence '\\p'\n",
            "<>:1: SyntaxWarning: invalid escape sequence '\\p'\n",
            "C:\\Users\\Lenovo\\AppData\\Local\\Temp\\ipykernel_16368\\2247029784.py:1: SyntaxWarning: invalid escape sequence '\\p'\n",
            "  product_category_name_df_ziid = pd.read_csv(\"data\\product_category_name_translation.csv\")\n"
          ]
        },
        {
          "data": {
            "text/html": [
              "<div>\n",
              "<style scoped>\n",
              "    .dataframe tbody tr th:only-of-type {\n",
              "        vertical-align: middle;\n",
              "    }\n",
              "\n",
              "    .dataframe tbody tr th {\n",
              "        vertical-align: top;\n",
              "    }\n",
              "\n",
              "    .dataframe thead th {\n",
              "        text-align: right;\n",
              "    }\n",
              "</style>\n",
              "<table border=\"1\" class=\"dataframe\">\n",
              "  <thead>\n",
              "    <tr style=\"text-align: right;\">\n",
              "      <th></th>\n",
              "      <th>product_category_name</th>\n",
              "      <th>product_category_name_english</th>\n",
              "    </tr>\n",
              "  </thead>\n",
              "  <tbody>\n",
              "    <tr>\n",
              "      <th>0</th>\n",
              "      <td>beleza_saude</td>\n",
              "      <td>health_beauty</td>\n",
              "    </tr>\n",
              "    <tr>\n",
              "      <th>1</th>\n",
              "      <td>informatica_acessorios</td>\n",
              "      <td>computers_accessories</td>\n",
              "    </tr>\n",
              "    <tr>\n",
              "      <th>2</th>\n",
              "      <td>automotivo</td>\n",
              "      <td>auto</td>\n",
              "    </tr>\n",
              "    <tr>\n",
              "      <th>3</th>\n",
              "      <td>cama_mesa_banho</td>\n",
              "      <td>bed_bath_table</td>\n",
              "    </tr>\n",
              "    <tr>\n",
              "      <th>4</th>\n",
              "      <td>moveis_decoracao</td>\n",
              "      <td>furniture_decor</td>\n",
              "    </tr>\n",
              "  </tbody>\n",
              "</table>\n",
              "</div>"
            ],
            "text/plain": [
              "    product_category_name product_category_name_english\n",
              "0            beleza_saude                 health_beauty\n",
              "1  informatica_acessorios         computers_accessories\n",
              "2              automotivo                          auto\n",
              "3         cama_mesa_banho                bed_bath_table\n",
              "4        moveis_decoracao               furniture_decor"
            ]
          },
          "execution_count": 32,
          "metadata": {},
          "output_type": "execute_result"
        }
      ],
      "source": [
        "product_category_name_df_ziid = pd.read_csv(\"data\\product_category_name_translation.csv\")\n",
        "product_category_name_df_ziid.head()"
      ]
    },
    {
      "cell_type": "markdown",
      "metadata": {
        "id": "MMi6xGaDkbCi"
      },
      "source": [
        "**Insight:**\n",
        "\n",
        "- dapat mengidentifikasi bagaimana menyambungkan tabel customers,orders dan order payments untuk mengetahui asal customer yang cenderung menggunakan cicilan\n",
        "- terdapat kolom date delivered carrier date dan juga delivered customer date yang dapat digunakan untuk menganalisis perbandingan kecepatan waktu pengiriman\n"
      ]
    },
    {
      "cell_type": "markdown",
      "metadata": {
        "id": "FHSiqaZp8DC1"
      },
      "source": [
        "### Assessing Data\n"
      ]
    },
    {
      "cell_type": "markdown",
      "metadata": {
        "id": "uMC-siRVP4MB"
      },
      "source": [
        "#### Menilai tabel `customers_df_ziid`\n"
      ]
    },
    {
      "cell_type": "code",
      "execution_count": 33,
      "metadata": {
        "colab": {
          "base_uri": "https://localhost:8080/"
        },
        "id": "NZDbpkREP79v",
        "outputId": "288fe6f6-b22c-4f7e-a264-488c6ea08ecd"
      },
      "outputs": [
        {
          "name": "stdout",
          "output_type": "stream",
          "text": [
            "<class 'pandas.core.frame.DataFrame'>\n",
            "RangeIndex: 99441 entries, 0 to 99440\n",
            "Data columns (total 5 columns):\n",
            " #   Column                    Non-Null Count  Dtype \n",
            "---  ------                    --------------  ----- \n",
            " 0   customer_id               99441 non-null  object\n",
            " 1   customer_unique_id        99441 non-null  object\n",
            " 2   customer_zip_code_prefix  99441 non-null  int64 \n",
            " 3   customer_city             99441 non-null  object\n",
            " 4   customer_state            99441 non-null  object\n",
            "dtypes: int64(1), object(4)\n",
            "memory usage: 3.8+ MB\n"
          ]
        }
      ],
      "source": [
        "customers_df_ziid.info()"
      ]
    },
    {
      "cell_type": "code",
      "execution_count": 34,
      "metadata": {
        "colab": {
          "base_uri": "https://localhost:8080/",
          "height": 241
        },
        "id": "CmVW3CzpQAAP",
        "outputId": "754bc07d-a82c-4340-a1d3-7844f44ad729"
      },
      "outputs": [
        {
          "data": {
            "text/plain": [
              "customer_id                 0\n",
              "customer_unique_id          0\n",
              "customer_zip_code_prefix    0\n",
              "customer_city               0\n",
              "customer_state              0\n",
              "dtype: int64"
            ]
          },
          "execution_count": 34,
          "metadata": {},
          "output_type": "execute_result"
        }
      ],
      "source": [
        "customers_df_ziid.isna().sum()"
      ]
    },
    {
      "cell_type": "code",
      "execution_count": 35,
      "metadata": {
        "colab": {
          "base_uri": "https://localhost:8080/"
        },
        "id": "9mhUurCTP_ze",
        "outputId": "85815228-f480-4284-8043-703527d2ac04"
      },
      "outputs": [
        {
          "name": "stdout",
          "output_type": "stream",
          "text": [
            "Jumlah duplikasi pada value:  0\n"
          ]
        }
      ],
      "source": [
        "print(\"Jumlah duplikasi pada value: \", customers_df_ziid.duplicated().sum())"
      ]
    },
    {
      "cell_type": "markdown",
      "metadata": {
        "id": "rf5VwtziQmEH"
      },
      "source": [
        "#### Menilai tabel `orders_df_ziid`\n"
      ]
    },
    {
      "cell_type": "code",
      "execution_count": 36,
      "metadata": {
        "colab": {
          "base_uri": "https://localhost:8080/"
        },
        "id": "Mw5lh8RDQpdd",
        "outputId": "8e3ce581-7db3-4f9d-c31b-cf52f6dbe363"
      },
      "outputs": [
        {
          "name": "stdout",
          "output_type": "stream",
          "text": [
            "<class 'pandas.core.frame.DataFrame'>\n",
            "RangeIndex: 99441 entries, 0 to 99440\n",
            "Data columns (total 8 columns):\n",
            " #   Column                         Non-Null Count  Dtype \n",
            "---  ------                         --------------  ----- \n",
            " 0   order_id                       99441 non-null  object\n",
            " 1   customer_id                    99441 non-null  object\n",
            " 2   order_status                   99441 non-null  object\n",
            " 3   order_purchase_timestamp       99441 non-null  object\n",
            " 4   order_approved_at              99281 non-null  object\n",
            " 5   order_delivered_carrier_date   97658 non-null  object\n",
            " 6   order_delivered_customer_date  96476 non-null  object\n",
            " 7   order_estimated_delivery_date  99441 non-null  object\n",
            "dtypes: object(8)\n",
            "memory usage: 6.1+ MB\n"
          ]
        }
      ],
      "source": [
        "orders_df_ziid.info()"
      ]
    },
    {
      "cell_type": "code",
      "execution_count": 37,
      "metadata": {
        "colab": {
          "base_uri": "https://localhost:8080/",
          "height": 335
        },
        "id": "yeCJSCT-QpUH",
        "outputId": "9c21355e-f787-4ed4-ecc8-967443021eb2"
      },
      "outputs": [
        {
          "data": {
            "text/plain": [
              "order_id                            0\n",
              "customer_id                         0\n",
              "order_status                        0\n",
              "order_purchase_timestamp            0\n",
              "order_approved_at                 160\n",
              "order_delivered_carrier_date     1783\n",
              "order_delivered_customer_date    2965\n",
              "order_estimated_delivery_date       0\n",
              "dtype: int64"
            ]
          },
          "execution_count": 37,
          "metadata": {},
          "output_type": "execute_result"
        }
      ],
      "source": [
        "orders_df_ziid.isna().sum()"
      ]
    },
    {
      "cell_type": "code",
      "execution_count": 38,
      "metadata": {
        "colab": {
          "base_uri": "https://localhost:8080/",
          "height": 335
        },
        "id": "xR3fKONdm8pB",
        "outputId": "f9d59f1b-d1c4-4f2d-fe00-3f2910d257d3"
      },
      "outputs": [
        {
          "data": {
            "text/plain": [
              "order_id                         99441\n",
              "customer_id                      99441\n",
              "order_status                         8\n",
              "order_purchase_timestamp         98875\n",
              "order_approved_at                90733\n",
              "order_delivered_carrier_date     81018\n",
              "order_delivered_customer_date    95664\n",
              "order_estimated_delivery_date      459\n",
              "dtype: int64"
            ]
          },
          "execution_count": 38,
          "metadata": {},
          "output_type": "execute_result"
        }
      ],
      "source": [
        "orders_df_ziid.nunique()"
      ]
    },
    {
      "cell_type": "code",
      "execution_count": 39,
      "metadata": {
        "colab": {
          "base_uri": "https://localhost:8080/"
        },
        "id": "iDfs28p_QpD-",
        "outputId": "440c8c0a-155c-45ae-c02d-5e354c5f93dd"
      },
      "outputs": [
        {
          "name": "stdout",
          "output_type": "stream",
          "text": [
            "Jumlah duplikasi pada value:  0\n"
          ]
        }
      ],
      "source": [
        "print(\"Jumlah duplikasi pada value: \", orders_df_ziid.duplicated().sum())"
      ]
    },
    {
      "cell_type": "markdown",
      "metadata": {
        "id": "cClyDyma567N"
      },
      "source": [
        "####Menilai tabel `order_items_df_ziid`\n"
      ]
    },
    {
      "cell_type": "code",
      "execution_count": 40,
      "metadata": {
        "colab": {
          "base_uri": "https://localhost:8080/"
        },
        "id": "lLlxVvgb6C6W",
        "outputId": "8501555b-e93c-484d-8ae9-2f06e406956d"
      },
      "outputs": [
        {
          "name": "stdout",
          "output_type": "stream",
          "text": [
            "<class 'pandas.core.frame.DataFrame'>\n",
            "RangeIndex: 112650 entries, 0 to 112649\n",
            "Data columns (total 7 columns):\n",
            " #   Column               Non-Null Count   Dtype  \n",
            "---  ------               --------------   -----  \n",
            " 0   order_id             112650 non-null  object \n",
            " 1   order_item_id        112650 non-null  int64  \n",
            " 2   product_id           112650 non-null  object \n",
            " 3   seller_id            112650 non-null  object \n",
            " 4   shipping_limit_date  112650 non-null  object \n",
            " 5   price                112650 non-null  float64\n",
            " 6   freight_value        112650 non-null  float64\n",
            "dtypes: float64(2), int64(1), object(4)\n",
            "memory usage: 6.0+ MB\n"
          ]
        }
      ],
      "source": [
        "order_items_df_ziid.info()"
      ]
    },
    {
      "cell_type": "code",
      "execution_count": 41,
      "metadata": {
        "colab": {
          "base_uri": "https://localhost:8080/",
          "height": 304
        },
        "id": "hCEAjPH_6C3E",
        "outputId": "54e304bd-8d3a-4487-89d9-5a863ef95818"
      },
      "outputs": [
        {
          "data": {
            "text/plain": [
              "order_id               0\n",
              "order_item_id          0\n",
              "product_id             0\n",
              "seller_id              0\n",
              "shipping_limit_date    0\n",
              "price                  0\n",
              "freight_value          0\n",
              "dtype: int64"
            ]
          },
          "execution_count": 41,
          "metadata": {},
          "output_type": "execute_result"
        }
      ],
      "source": [
        "order_items_df_ziid.isna().sum()"
      ]
    },
    {
      "cell_type": "code",
      "execution_count": 42,
      "metadata": {
        "colab": {
          "base_uri": "https://localhost:8080/",
          "height": 304
        },
        "id": "8tLnvU9a6CrN",
        "outputId": "3bbdfa73-a80d-4718-d2c2-0c81dc1e2cfa"
      },
      "outputs": [
        {
          "data": {
            "text/plain": [
              "order_id               98666\n",
              "order_item_id             21\n",
              "product_id             32951\n",
              "seller_id               3095\n",
              "shipping_limit_date    93318\n",
              "price                   5968\n",
              "freight_value           6999\n",
              "dtype: int64"
            ]
          },
          "execution_count": 42,
          "metadata": {},
          "output_type": "execute_result"
        }
      ],
      "source": [
        "order_items_df_ziid.nunique()"
      ]
    },
    {
      "cell_type": "code",
      "execution_count": 43,
      "metadata": {
        "colab": {
          "base_uri": "https://localhost:8080/"
        },
        "id": "sNaTiSNz6OfI",
        "outputId": "14321563-01d7-48fd-fd00-a3a7d63e4032"
      },
      "outputs": [
        {
          "name": "stdout",
          "output_type": "stream",
          "text": [
            "Jumlah duplikasi pada value:  0\n"
          ]
        }
      ],
      "source": [
        "print(\"Jumlah duplikasi pada value: \",order_items_df_ziid.duplicated().sum())"
      ]
    },
    {
      "cell_type": "markdown",
      "metadata": {
        "id": "YiQTAl4TQ8M_"
      },
      "source": [
        "#### Menilai tabel `order_payments_df_ziid`\n"
      ]
    },
    {
      "cell_type": "code",
      "execution_count": 44,
      "metadata": {
        "colab": {
          "base_uri": "https://localhost:8080/"
        },
        "id": "OaoJsYH1RAK4",
        "outputId": "cf23eb40-c8ac-4f92-cac4-e01b83b20f1b"
      },
      "outputs": [
        {
          "name": "stdout",
          "output_type": "stream",
          "text": [
            "<class 'pandas.core.frame.DataFrame'>\n",
            "RangeIndex: 103886 entries, 0 to 103885\n",
            "Data columns (total 5 columns):\n",
            " #   Column                Non-Null Count   Dtype  \n",
            "---  ------                --------------   -----  \n",
            " 0   order_id              103886 non-null  object \n",
            " 1   payment_sequential    103886 non-null  int64  \n",
            " 2   payment_type          103886 non-null  object \n",
            " 3   payment_installments  103886 non-null  int64  \n",
            " 4   payment_value         103886 non-null  float64\n",
            "dtypes: float64(1), int64(2), object(2)\n",
            "memory usage: 4.0+ MB\n"
          ]
        }
      ],
      "source": [
        "order_payments_df_ziid.info()"
      ]
    },
    {
      "cell_type": "code",
      "execution_count": 45,
      "metadata": {
        "colab": {
          "base_uri": "https://localhost:8080/",
          "height": 241
        },
        "id": "q8Q5mc1IRDE8",
        "outputId": "27da5cce-21bb-4aea-846d-b8aa59551e8b"
      },
      "outputs": [
        {
          "data": {
            "text/plain": [
              "order_id                0\n",
              "payment_sequential      0\n",
              "payment_type            0\n",
              "payment_installments    0\n",
              "payment_value           0\n",
              "dtype: int64"
            ]
          },
          "execution_count": 45,
          "metadata": {},
          "output_type": "execute_result"
        }
      ],
      "source": [
        "order_payments_df_ziid.isna().sum()"
      ]
    },
    {
      "cell_type": "code",
      "execution_count": 46,
      "metadata": {
        "colab": {
          "base_uri": "https://localhost:8080/",
          "height": 241
        },
        "id": "SFJRz65DoZja",
        "outputId": "68497fc4-ff24-46ce-9835-351bdcfe2d20"
      },
      "outputs": [
        {
          "data": {
            "text/plain": [
              "order_id                99440\n",
              "payment_sequential         29\n",
              "payment_type                5\n",
              "payment_installments       24\n",
              "payment_value           29077\n",
              "dtype: int64"
            ]
          },
          "execution_count": 46,
          "metadata": {},
          "output_type": "execute_result"
        }
      ],
      "source": [
        "order_payments_df_ziid.nunique()"
      ]
    },
    {
      "cell_type": "markdown",
      "metadata": {
        "id": "ThPMMrtQo0GY"
      },
      "source": []
    },
    {
      "cell_type": "code",
      "execution_count": 47,
      "metadata": {
        "colab": {
          "base_uri": "https://localhost:8080/"
        },
        "id": "1ziFfxXpnjYU",
        "outputId": "67f5c60e-10ad-4d0d-b79e-6acfc35d0117"
      },
      "outputs": [
        {
          "name": "stdout",
          "output_type": "stream",
          "text": [
            "['credit_card' 'boleto' 'voucher' 'debit_card' 'not_defined']\n"
          ]
        }
      ],
      "source": [
        "print(order_payments_df_ziid['payment_type'].unique())"
      ]
    },
    {
      "cell_type": "code",
      "execution_count": 48,
      "metadata": {
        "colab": {
          "base_uri": "https://localhost:8080/"
        },
        "id": "scohY_l8RFuI",
        "outputId": "10632c2e-963a-44e9-f5ae-4e711a91df6e"
      },
      "outputs": [
        {
          "name": "stdout",
          "output_type": "stream",
          "text": [
            "Jumlah duplikasi pada value:  0\n"
          ]
        }
      ],
      "source": [
        "print(\"Jumlah duplikasi pada value: \", order_payments_df_ziid.duplicated().sum())"
      ]
    },
    {
      "cell_type": "code",
      "execution_count": 49,
      "metadata": {
        "colab": {
          "base_uri": "https://localhost:8080/",
          "height": 300
        },
        "id": "5mwW9KH9RKym",
        "outputId": "bac267eb-7f09-44c8-ccc7-b8cf4f1a0432"
      },
      "outputs": [
        {
          "data": {
            "text/html": [
              "<div>\n",
              "<style scoped>\n",
              "    .dataframe tbody tr th:only-of-type {\n",
              "        vertical-align: middle;\n",
              "    }\n",
              "\n",
              "    .dataframe tbody tr th {\n",
              "        vertical-align: top;\n",
              "    }\n",
              "\n",
              "    .dataframe thead th {\n",
              "        text-align: right;\n",
              "    }\n",
              "</style>\n",
              "<table border=\"1\" class=\"dataframe\">\n",
              "  <thead>\n",
              "    <tr style=\"text-align: right;\">\n",
              "      <th></th>\n",
              "      <th>payment_sequential</th>\n",
              "      <th>payment_installments</th>\n",
              "      <th>payment_value</th>\n",
              "    </tr>\n",
              "  </thead>\n",
              "  <tbody>\n",
              "    <tr>\n",
              "      <th>count</th>\n",
              "      <td>103886.000000</td>\n",
              "      <td>103886.000000</td>\n",
              "      <td>103886.000000</td>\n",
              "    </tr>\n",
              "    <tr>\n",
              "      <th>mean</th>\n",
              "      <td>1.092679</td>\n",
              "      <td>2.853349</td>\n",
              "      <td>154.100380</td>\n",
              "    </tr>\n",
              "    <tr>\n",
              "      <th>std</th>\n",
              "      <td>0.706584</td>\n",
              "      <td>2.687051</td>\n",
              "      <td>217.494064</td>\n",
              "    </tr>\n",
              "    <tr>\n",
              "      <th>min</th>\n",
              "      <td>1.000000</td>\n",
              "      <td>0.000000</td>\n",
              "      <td>0.000000</td>\n",
              "    </tr>\n",
              "    <tr>\n",
              "      <th>25%</th>\n",
              "      <td>1.000000</td>\n",
              "      <td>1.000000</td>\n",
              "      <td>56.790000</td>\n",
              "    </tr>\n",
              "    <tr>\n",
              "      <th>50%</th>\n",
              "      <td>1.000000</td>\n",
              "      <td>1.000000</td>\n",
              "      <td>100.000000</td>\n",
              "    </tr>\n",
              "    <tr>\n",
              "      <th>75%</th>\n",
              "      <td>1.000000</td>\n",
              "      <td>4.000000</td>\n",
              "      <td>171.837500</td>\n",
              "    </tr>\n",
              "    <tr>\n",
              "      <th>max</th>\n",
              "      <td>29.000000</td>\n",
              "      <td>24.000000</td>\n",
              "      <td>13664.080000</td>\n",
              "    </tr>\n",
              "  </tbody>\n",
              "</table>\n",
              "</div>"
            ],
            "text/plain": [
              "       payment_sequential  payment_installments  payment_value\n",
              "count       103886.000000         103886.000000  103886.000000\n",
              "mean             1.092679              2.853349     154.100380\n",
              "std              0.706584              2.687051     217.494064\n",
              "min              1.000000              0.000000       0.000000\n",
              "25%              1.000000              1.000000      56.790000\n",
              "50%              1.000000              1.000000     100.000000\n",
              "75%              1.000000              4.000000     171.837500\n",
              "max             29.000000             24.000000   13664.080000"
            ]
          },
          "execution_count": 49,
          "metadata": {},
          "output_type": "execute_result"
        }
      ],
      "source": [
        "order_payments_df_ziid.describe()"
      ]
    },
    {
      "cell_type": "markdown",
      "metadata": {
        "id": "rjBkj6L26b5q"
      },
      "source": [
        "####Menilai data `products_df_ziid`\n"
      ]
    },
    {
      "cell_type": "code",
      "execution_count": 50,
      "metadata": {
        "colab": {
          "base_uri": "https://localhost:8080/"
        },
        "id": "1FalUuAe6fwf",
        "outputId": "b68ece10-5b57-4bfd-8842-3ea87a5abc71"
      },
      "outputs": [
        {
          "name": "stdout",
          "output_type": "stream",
          "text": [
            "<class 'pandas.core.frame.DataFrame'>\n",
            "RangeIndex: 32951 entries, 0 to 32950\n",
            "Data columns (total 9 columns):\n",
            " #   Column                      Non-Null Count  Dtype  \n",
            "---  ------                      --------------  -----  \n",
            " 0   product_id                  32951 non-null  object \n",
            " 1   product_category_name       32341 non-null  object \n",
            " 2   product_name_lenght         32341 non-null  float64\n",
            " 3   product_description_lenght  32341 non-null  float64\n",
            " 4   product_photos_qty          32341 non-null  float64\n",
            " 5   product_weight_g            32949 non-null  float64\n",
            " 6   product_length_cm           32949 non-null  float64\n",
            " 7   product_height_cm           32949 non-null  float64\n",
            " 8   product_width_cm            32949 non-null  float64\n",
            "dtypes: float64(7), object(2)\n",
            "memory usage: 2.3+ MB\n"
          ]
        }
      ],
      "source": [
        "products_df_ziid.info()"
      ]
    },
    {
      "cell_type": "code",
      "execution_count": 51,
      "metadata": {
        "colab": {
          "base_uri": "https://localhost:8080/",
          "height": 366
        },
        "id": "WaOweOiL6gt7",
        "outputId": "360c128c-fe6d-4c24-f124-57e4823efd71"
      },
      "outputs": [
        {
          "data": {
            "text/plain": [
              "product_id                      0\n",
              "product_category_name         610\n",
              "product_name_lenght           610\n",
              "product_description_lenght    610\n",
              "product_photos_qty            610\n",
              "product_weight_g                2\n",
              "product_length_cm               2\n",
              "product_height_cm               2\n",
              "product_width_cm                2\n",
              "dtype: int64"
            ]
          },
          "execution_count": 51,
          "metadata": {},
          "output_type": "execute_result"
        }
      ],
      "source": [
        "products_df_ziid.isna().sum()"
      ]
    },
    {
      "cell_type": "code",
      "execution_count": 52,
      "metadata": {
        "colab": {
          "base_uri": "https://localhost:8080/",
          "height": 366
        },
        "id": "b-35pkr86jkL",
        "outputId": "5b369c8d-9f91-4368-b232-83271d596d38"
      },
      "outputs": [
        {
          "data": {
            "text/plain": [
              "product_id                    32951\n",
              "product_category_name            73\n",
              "product_name_lenght              66\n",
              "product_description_lenght     2960\n",
              "product_photos_qty               19\n",
              "product_weight_g               2204\n",
              "product_length_cm                99\n",
              "product_height_cm               102\n",
              "product_width_cm                 95\n",
              "dtype: int64"
            ]
          },
          "execution_count": 52,
          "metadata": {},
          "output_type": "execute_result"
        }
      ],
      "source": [
        "products_df_ziid.nunique()"
      ]
    },
    {
      "cell_type": "code",
      "execution_count": 53,
      "metadata": {
        "colab": {
          "base_uri": "https://localhost:8080/"
        },
        "id": "VV9p6T5d6mD2",
        "outputId": "9a91e5bb-b66d-48b1-82e3-9b0507409803"
      },
      "outputs": [
        {
          "name": "stdout",
          "output_type": "stream",
          "text": [
            "Jumlah duplikasi pada value:  0\n"
          ]
        }
      ],
      "source": [
        "print(\"Jumlah duplikasi pada value: \",products_df_ziid.duplicated().sum())"
      ]
    },
    {
      "cell_type": "markdown",
      "metadata": {
        "id": "haQ_F5Vy7KKH"
      },
      "source": [
        "####Menilai data `product_category_name_df_ziid`\n"
      ]
    },
    {
      "cell_type": "code",
      "execution_count": 54,
      "metadata": {
        "colab": {
          "base_uri": "https://localhost:8080/"
        },
        "id": "H-4uitZG7Jze",
        "outputId": "1bb83d10-fcc6-4c5b-dab2-7d57c673759f"
      },
      "outputs": [
        {
          "name": "stdout",
          "output_type": "stream",
          "text": [
            "<class 'pandas.core.frame.DataFrame'>\n",
            "RangeIndex: 71 entries, 0 to 70\n",
            "Data columns (total 2 columns):\n",
            " #   Column                         Non-Null Count  Dtype \n",
            "---  ------                         --------------  ----- \n",
            " 0   product_category_name          71 non-null     object\n",
            " 1   product_category_name_english  71 non-null     object\n",
            "dtypes: object(2)\n",
            "memory usage: 1.2+ KB\n"
          ]
        }
      ],
      "source": [
        "product_category_name_df_ziid.info()"
      ]
    },
    {
      "cell_type": "code",
      "execution_count": 55,
      "metadata": {
        "colab": {
          "base_uri": "https://localhost:8080/",
          "height": 147
        },
        "id": "ME9dCAtz7UfY",
        "outputId": "c31f3cf5-fff4-4585-9d2a-0e26cdfdf1fc"
      },
      "outputs": [
        {
          "data": {
            "text/plain": [
              "product_category_name            0\n",
              "product_category_name_english    0\n",
              "dtype: int64"
            ]
          },
          "execution_count": 55,
          "metadata": {},
          "output_type": "execute_result"
        }
      ],
      "source": [
        "product_category_name_df_ziid.isna().sum()"
      ]
    },
    {
      "cell_type": "code",
      "execution_count": 56,
      "metadata": {
        "colab": {
          "base_uri": "https://localhost:8080/",
          "height": 147
        },
        "id": "G31v3muC7Xk8",
        "outputId": "b469ce0f-dfbe-4bbf-c332-1f770f0ca408"
      },
      "outputs": [
        {
          "data": {
            "text/plain": [
              "product_category_name            71\n",
              "product_category_name_english    71\n",
              "dtype: int64"
            ]
          },
          "execution_count": 56,
          "metadata": {},
          "output_type": "execute_result"
        }
      ],
      "source": [
        "product_category_name_df_ziid.nunique()"
      ]
    },
    {
      "cell_type": "code",
      "execution_count": 57,
      "metadata": {
        "colab": {
          "base_uri": "https://localhost:8080/"
        },
        "id": "dwFby7XO7VpA",
        "outputId": "377ff10e-a193-47f6-856b-2ea87b02b53f"
      },
      "outputs": [
        {
          "name": "stdout",
          "output_type": "stream",
          "text": [
            "Jumlah duplikasi pada value:  0\n"
          ]
        }
      ],
      "source": [
        "print(\"Jumlah duplikasi pada value: \",product_category_name_df_ziid.duplicated().sum())"
      ]
    },
    {
      "cell_type": "markdown",
      "metadata": {
        "id": "7dtxhAPrkhPL"
      },
      "source": [
        "**Insight:**\n",
        "\n",
        "- Ada beberapa value duplikasi dan juga null pada dataframe yang telah di asses\n",
        "- dapat melihat korelasi dataframe yang dapat di merge untuk mendapatkan hasil dari pertanyaan\n"
      ]
    },
    {
      "cell_type": "markdown",
      "metadata": {
        "id": "EhN5R4hr8DC1"
      },
      "source": [
        "### Cleaning Data\n"
      ]
    },
    {
      "cell_type": "markdown",
      "metadata": {
        "id": "LunwQFPuSOT1"
      },
      "source": [
        "menggunakan drop duplicates dengan parameter subset geolocation_zip_code_prefix untuk menghapus value zip_code yang sama\n"
      ]
    },
    {
      "cell_type": "markdown",
      "metadata": {
        "id": "_ruu_DlQ7p_X"
      },
      "source": [
        "####Cleaning data `orders_df_ziid`\n"
      ]
    },
    {
      "cell_type": "code",
      "execution_count": 58,
      "metadata": {
        "id": "cDuo_19CUBwT"
      },
      "outputs": [],
      "source": [
        "orders_df_ziid = orders_df_ziid.dropna(subset=['order_approved_at'])"
      ]
    },
    {
      "cell_type": "code",
      "execution_count": 59,
      "metadata": {
        "id": "jac_mgAMUZnU"
      },
      "outputs": [],
      "source": [
        "orders_df_ziid = orders_df_ziid.dropna(subset=['order_delivered_customer_date'])"
      ]
    },
    {
      "cell_type": "code",
      "execution_count": 60,
      "metadata": {
        "id": "Gi8Uge_4VAZj"
      },
      "outputs": [],
      "source": [
        "orders_df_ziid = orders_df_ziid.dropna(subset=['order_delivered_carrier_date'])"
      ]
    },
    {
      "cell_type": "code",
      "execution_count": 61,
      "metadata": {
        "id": "N8SZJNGtUI68"
      },
      "outputs": [],
      "source": [
        "orders_df_ziid =  orders_df_ziid[orders_df_ziid['order_status'] == 'delivered']"
      ]
    },
    {
      "cell_type": "code",
      "execution_count": 62,
      "metadata": {
        "colab": {
          "base_uri": "https://localhost:8080/",
          "height": 335
        },
        "id": "DyxFySEYUlrc",
        "outputId": "89f20ccf-cbfa-4a7a-9ac7-552d45c6d047"
      },
      "outputs": [
        {
          "data": {
            "text/plain": [
              "order_id                         0\n",
              "customer_id                      0\n",
              "order_status                     0\n",
              "order_purchase_timestamp         0\n",
              "order_approved_at                0\n",
              "order_delivered_carrier_date     0\n",
              "order_delivered_customer_date    0\n",
              "order_estimated_delivery_date    0\n",
              "dtype: int64"
            ]
          },
          "execution_count": 62,
          "metadata": {},
          "output_type": "execute_result"
        }
      ],
      "source": [
        "orders_df_ziid.isna().sum()"
      ]
    },
    {
      "cell_type": "markdown",
      "metadata": {
        "id": "4UiOA7xKVlGE"
      },
      "source": [
        "Drop semua kolom yang mempunyai value null dan juga membuat filter hanya untuk order_status = 'delivered'\n"
      ]
    },
    {
      "cell_type": "code",
      "execution_count": 63,
      "metadata": {
        "colab": {
          "base_uri": "https://localhost:8080/",
          "height": 226
        },
        "id": "jS2GYO_oU5sz",
        "outputId": "424e2b1c-6466-4bd7-87d3-ac54db44acf2"
      },
      "outputs": [
        {
          "data": {
            "text/html": [
              "<div>\n",
              "<style scoped>\n",
              "    .dataframe tbody tr th:only-of-type {\n",
              "        vertical-align: middle;\n",
              "    }\n",
              "\n",
              "    .dataframe tbody tr th {\n",
              "        vertical-align: top;\n",
              "    }\n",
              "\n",
              "    .dataframe thead th {\n",
              "        text-align: right;\n",
              "    }\n",
              "</style>\n",
              "<table border=\"1\" class=\"dataframe\">\n",
              "  <thead>\n",
              "    <tr style=\"text-align: right;\">\n",
              "      <th></th>\n",
              "      <th>order_id</th>\n",
              "      <th>customer_id</th>\n",
              "      <th>order_status</th>\n",
              "      <th>order_purchase_timestamp</th>\n",
              "      <th>order_approved_at</th>\n",
              "      <th>order_delivered_carrier_date</th>\n",
              "      <th>order_delivered_customer_date</th>\n",
              "      <th>order_estimated_delivery_date</th>\n",
              "    </tr>\n",
              "  </thead>\n",
              "  <tbody>\n",
              "    <tr>\n",
              "      <th>0</th>\n",
              "      <td>e481f51cbdc54678b7cc49136f2d6af7</td>\n",
              "      <td>9ef432eb6251297304e76186b10a928d</td>\n",
              "      <td>delivered</td>\n",
              "      <td>2017-10-02 10:56:33</td>\n",
              "      <td>2017-10-02 11:07:15</td>\n",
              "      <td>2017-10-04 19:55:00</td>\n",
              "      <td>2017-10-10 21:25:13</td>\n",
              "      <td>2017-10-18 00:00:00</td>\n",
              "    </tr>\n",
              "    <tr>\n",
              "      <th>1</th>\n",
              "      <td>53cdb2fc8bc7dce0b6741e2150273451</td>\n",
              "      <td>b0830fb4747a6c6d20dea0b8c802d7ef</td>\n",
              "      <td>delivered</td>\n",
              "      <td>2018-07-24 20:41:37</td>\n",
              "      <td>2018-07-26 03:24:27</td>\n",
              "      <td>2018-07-26 14:31:00</td>\n",
              "      <td>2018-08-07 15:27:45</td>\n",
              "      <td>2018-08-13 00:00:00</td>\n",
              "    </tr>\n",
              "    <tr>\n",
              "      <th>2</th>\n",
              "      <td>47770eb9100c2d0c44946d9cf07ec65d</td>\n",
              "      <td>41ce2a54c0b03bf3443c3d931a367089</td>\n",
              "      <td>delivered</td>\n",
              "      <td>2018-08-08 08:38:49</td>\n",
              "      <td>2018-08-08 08:55:23</td>\n",
              "      <td>2018-08-08 13:50:00</td>\n",
              "      <td>2018-08-17 18:06:29</td>\n",
              "      <td>2018-09-04 00:00:00</td>\n",
              "    </tr>\n",
              "    <tr>\n",
              "      <th>3</th>\n",
              "      <td>949d5b44dbf5de918fe9c16f97b45f8a</td>\n",
              "      <td>f88197465ea7920adcdbec7375364d82</td>\n",
              "      <td>delivered</td>\n",
              "      <td>2017-11-18 19:28:06</td>\n",
              "      <td>2017-11-18 19:45:59</td>\n",
              "      <td>2017-11-22 13:39:59</td>\n",
              "      <td>2017-12-02 00:28:42</td>\n",
              "      <td>2017-12-15 00:00:00</td>\n",
              "    </tr>\n",
              "    <tr>\n",
              "      <th>4</th>\n",
              "      <td>ad21c59c0840e6cb83a9ceb5573f8159</td>\n",
              "      <td>8ab97904e6daea8866dbdbc4fb7aad2c</td>\n",
              "      <td>delivered</td>\n",
              "      <td>2018-02-13 21:18:39</td>\n",
              "      <td>2018-02-13 22:20:29</td>\n",
              "      <td>2018-02-14 19:46:34</td>\n",
              "      <td>2018-02-16 18:17:02</td>\n",
              "      <td>2018-02-26 00:00:00</td>\n",
              "    </tr>\n",
              "  </tbody>\n",
              "</table>\n",
              "</div>"
            ],
            "text/plain": [
              "                           order_id                       customer_id  \\\n",
              "0  e481f51cbdc54678b7cc49136f2d6af7  9ef432eb6251297304e76186b10a928d   \n",
              "1  53cdb2fc8bc7dce0b6741e2150273451  b0830fb4747a6c6d20dea0b8c802d7ef   \n",
              "2  47770eb9100c2d0c44946d9cf07ec65d  41ce2a54c0b03bf3443c3d931a367089   \n",
              "3  949d5b44dbf5de918fe9c16f97b45f8a  f88197465ea7920adcdbec7375364d82   \n",
              "4  ad21c59c0840e6cb83a9ceb5573f8159  8ab97904e6daea8866dbdbc4fb7aad2c   \n",
              "\n",
              "  order_status order_purchase_timestamp    order_approved_at  \\\n",
              "0    delivered      2017-10-02 10:56:33  2017-10-02 11:07:15   \n",
              "1    delivered      2018-07-24 20:41:37  2018-07-26 03:24:27   \n",
              "2    delivered      2018-08-08 08:38:49  2018-08-08 08:55:23   \n",
              "3    delivered      2017-11-18 19:28:06  2017-11-18 19:45:59   \n",
              "4    delivered      2018-02-13 21:18:39  2018-02-13 22:20:29   \n",
              "\n",
              "  order_delivered_carrier_date order_delivered_customer_date  \\\n",
              "0          2017-10-04 19:55:00           2017-10-10 21:25:13   \n",
              "1          2018-07-26 14:31:00           2018-08-07 15:27:45   \n",
              "2          2018-08-08 13:50:00           2018-08-17 18:06:29   \n",
              "3          2017-11-22 13:39:59           2017-12-02 00:28:42   \n",
              "4          2018-02-14 19:46:34           2018-02-16 18:17:02   \n",
              "\n",
              "  order_estimated_delivery_date  \n",
              "0           2017-10-18 00:00:00  \n",
              "1           2018-08-13 00:00:00  \n",
              "2           2018-09-04 00:00:00  \n",
              "3           2017-12-15 00:00:00  \n",
              "4           2018-02-26 00:00:00  "
            ]
          },
          "execution_count": 63,
          "metadata": {},
          "output_type": "execute_result"
        }
      ],
      "source": [
        "orders_df_ziid.head()"
      ]
    },
    {
      "cell_type": "markdown",
      "metadata": {
        "id": "ujRPA0617tcX"
      },
      "source": [
        "####Cleaning data `products_df_ziid`\n"
      ]
    },
    {
      "cell_type": "code",
      "execution_count": 64,
      "metadata": {
        "id": "z_4hL6h77oTW"
      },
      "outputs": [],
      "source": [
        "products_df_ziid = products_df_ziid.dropna(subset=['product_category_name'])"
      ]
    },
    {
      "cell_type": "code",
      "execution_count": 65,
      "metadata": {
        "id": "8eBS2-a_8TqO"
      },
      "outputs": [],
      "source": [
        "products_df_ziid = products_df_ziid.dropna(subset=['product_weight_g'])"
      ]
    },
    {
      "cell_type": "code",
      "execution_count": 66,
      "metadata": {
        "colab": {
          "base_uri": "https://localhost:8080/",
          "height": 366
        },
        "id": "a-6-8LyZ8LEW",
        "outputId": "b63e8e63-20e8-4e9e-e800-19a06a282adc"
      },
      "outputs": [
        {
          "data": {
            "text/plain": [
              "product_id                    0\n",
              "product_category_name         0\n",
              "product_name_lenght           0\n",
              "product_description_lenght    0\n",
              "product_photos_qty            0\n",
              "product_weight_g              0\n",
              "product_length_cm             0\n",
              "product_height_cm             0\n",
              "product_width_cm              0\n",
              "dtype: int64"
            ]
          },
          "execution_count": 66,
          "metadata": {},
          "output_type": "execute_result"
        }
      ],
      "source": [
        "products_df_ziid.isna().sum()"
      ]
    },
    {
      "cell_type": "code",
      "execution_count": 67,
      "metadata": {
        "colab": {
          "base_uri": "https://localhost:8080/",
          "height": 226
        },
        "id": "wISe6oI58ZkF",
        "outputId": "bbd09a92-2cfa-4913-9cda-059cebc26373"
      },
      "outputs": [
        {
          "data": {
            "text/html": [
              "<div>\n",
              "<style scoped>\n",
              "    .dataframe tbody tr th:only-of-type {\n",
              "        vertical-align: middle;\n",
              "    }\n",
              "\n",
              "    .dataframe tbody tr th {\n",
              "        vertical-align: top;\n",
              "    }\n",
              "\n",
              "    .dataframe thead th {\n",
              "        text-align: right;\n",
              "    }\n",
              "</style>\n",
              "<table border=\"1\" class=\"dataframe\">\n",
              "  <thead>\n",
              "    <tr style=\"text-align: right;\">\n",
              "      <th></th>\n",
              "      <th>product_id</th>\n",
              "      <th>product_category_name</th>\n",
              "      <th>product_name_lenght</th>\n",
              "      <th>product_description_lenght</th>\n",
              "      <th>product_photos_qty</th>\n",
              "      <th>product_weight_g</th>\n",
              "      <th>product_length_cm</th>\n",
              "      <th>product_height_cm</th>\n",
              "      <th>product_width_cm</th>\n",
              "    </tr>\n",
              "  </thead>\n",
              "  <tbody>\n",
              "    <tr>\n",
              "      <th>0</th>\n",
              "      <td>1e9e8ef04dbcff4541ed26657ea517e5</td>\n",
              "      <td>perfumaria</td>\n",
              "      <td>40.0</td>\n",
              "      <td>287.0</td>\n",
              "      <td>1.0</td>\n",
              "      <td>225.0</td>\n",
              "      <td>16.0</td>\n",
              "      <td>10.0</td>\n",
              "      <td>14.0</td>\n",
              "    </tr>\n",
              "    <tr>\n",
              "      <th>1</th>\n",
              "      <td>3aa071139cb16b67ca9e5dea641aaa2f</td>\n",
              "      <td>artes</td>\n",
              "      <td>44.0</td>\n",
              "      <td>276.0</td>\n",
              "      <td>1.0</td>\n",
              "      <td>1000.0</td>\n",
              "      <td>30.0</td>\n",
              "      <td>18.0</td>\n",
              "      <td>20.0</td>\n",
              "    </tr>\n",
              "    <tr>\n",
              "      <th>2</th>\n",
              "      <td>96bd76ec8810374ed1b65e291975717f</td>\n",
              "      <td>esporte_lazer</td>\n",
              "      <td>46.0</td>\n",
              "      <td>250.0</td>\n",
              "      <td>1.0</td>\n",
              "      <td>154.0</td>\n",
              "      <td>18.0</td>\n",
              "      <td>9.0</td>\n",
              "      <td>15.0</td>\n",
              "    </tr>\n",
              "    <tr>\n",
              "      <th>3</th>\n",
              "      <td>cef67bcfe19066a932b7673e239eb23d</td>\n",
              "      <td>bebes</td>\n",
              "      <td>27.0</td>\n",
              "      <td>261.0</td>\n",
              "      <td>1.0</td>\n",
              "      <td>371.0</td>\n",
              "      <td>26.0</td>\n",
              "      <td>4.0</td>\n",
              "      <td>26.0</td>\n",
              "    </tr>\n",
              "    <tr>\n",
              "      <th>4</th>\n",
              "      <td>9dc1a7de274444849c219cff195d0b71</td>\n",
              "      <td>utilidades_domesticas</td>\n",
              "      <td>37.0</td>\n",
              "      <td>402.0</td>\n",
              "      <td>4.0</td>\n",
              "      <td>625.0</td>\n",
              "      <td>20.0</td>\n",
              "      <td>17.0</td>\n",
              "      <td>13.0</td>\n",
              "    </tr>\n",
              "  </tbody>\n",
              "</table>\n",
              "</div>"
            ],
            "text/plain": [
              "                         product_id  product_category_name  \\\n",
              "0  1e9e8ef04dbcff4541ed26657ea517e5             perfumaria   \n",
              "1  3aa071139cb16b67ca9e5dea641aaa2f                  artes   \n",
              "2  96bd76ec8810374ed1b65e291975717f          esporte_lazer   \n",
              "3  cef67bcfe19066a932b7673e239eb23d                  bebes   \n",
              "4  9dc1a7de274444849c219cff195d0b71  utilidades_domesticas   \n",
              "\n",
              "   product_name_lenght  product_description_lenght  product_photos_qty  \\\n",
              "0                 40.0                       287.0                 1.0   \n",
              "1                 44.0                       276.0                 1.0   \n",
              "2                 46.0                       250.0                 1.0   \n",
              "3                 27.0                       261.0                 1.0   \n",
              "4                 37.0                       402.0                 4.0   \n",
              "\n",
              "   product_weight_g  product_length_cm  product_height_cm  product_width_cm  \n",
              "0             225.0               16.0               10.0              14.0  \n",
              "1            1000.0               30.0               18.0              20.0  \n",
              "2             154.0               18.0                9.0              15.0  \n",
              "3             371.0               26.0                4.0              26.0  \n",
              "4             625.0               20.0               17.0              13.0  "
            ]
          },
          "execution_count": 67,
          "metadata": {},
          "output_type": "execute_result"
        }
      ],
      "source": [
        "products_df_ziid.head()"
      ]
    },
    {
      "cell_type": "markdown",
      "metadata": {
        "id": "Q_5ejIqckiSP"
      },
      "source": [
        "**Insight:**\n",
        "\n",
        "- terdapat banyak duplikasi dan nilai null pada sebuah kolom namun ada beberapa alasan seperti di orders_df ada beberapa kolom order_delivered_customer_date yang memiliki nilai null karena order_status yang belum 'delivered'\n",
        "- ada beberapa product name yang berisikan random value yang berkorelasi dengan null value pada suatu row\n"
      ]
    },
    {
      "cell_type": "markdown",
      "metadata": {
        "id": "gp-Y6wU38DC1"
      },
      "source": [
        "## Exploratory Data Analysis (EDA)\n"
      ]
    },
    {
      "cell_type": "markdown",
      "metadata": {
        "id": "MW7WF2kr8DC1"
      },
      "source": [
        "### Explore ...\n"
      ]
    },
    {
      "cell_type": "markdown",
      "metadata": {
        "id": "mD4pbGr7En5O"
      },
      "source": [
        "####Explore `customers_df_ziid`\n"
      ]
    },
    {
      "cell_type": "code",
      "execution_count": 68,
      "metadata": {
        "colab": {
          "base_uri": "https://localhost:8080/",
          "height": 226
        },
        "id": "eCfI7WgvGk4c",
        "outputId": "b8ef999f-3506-437d-a428-be965c9c4f94"
      },
      "outputs": [
        {
          "data": {
            "text/html": [
              "<div>\n",
              "<style scoped>\n",
              "    .dataframe tbody tr th:only-of-type {\n",
              "        vertical-align: middle;\n",
              "    }\n",
              "\n",
              "    .dataframe tbody tr th {\n",
              "        vertical-align: top;\n",
              "    }\n",
              "\n",
              "    .dataframe thead th {\n",
              "        text-align: right;\n",
              "    }\n",
              "</style>\n",
              "<table border=\"1\" class=\"dataframe\">\n",
              "  <thead>\n",
              "    <tr style=\"text-align: right;\">\n",
              "      <th></th>\n",
              "      <th>customer_id</th>\n",
              "      <th>customer_unique_id</th>\n",
              "      <th>customer_zip_code_prefix</th>\n",
              "      <th>customer_city</th>\n",
              "      <th>customer_state</th>\n",
              "    </tr>\n",
              "  </thead>\n",
              "  <tbody>\n",
              "    <tr>\n",
              "      <th>36096</th>\n",
              "      <td>8bcdb080533e93b661caaa8048121603</td>\n",
              "      <td>ac1eded07d8e232a624490999eabd84e</td>\n",
              "      <td>29070</td>\n",
              "      <td>vitoria</td>\n",
              "      <td>ES</td>\n",
              "    </tr>\n",
              "    <tr>\n",
              "      <th>32474</th>\n",
              "      <td>ed4a44ab55a35b95b8e0b30e84c24422</td>\n",
              "      <td>21989dae247feb80638a5a7ae1d5c25d</td>\n",
              "      <td>83604</td>\n",
              "      <td>campo largo</td>\n",
              "      <td>PR</td>\n",
              "    </tr>\n",
              "    <tr>\n",
              "      <th>7772</th>\n",
              "      <td>ae4cf79e3528752966e1eeb9743fee41</td>\n",
              "      <td>227800bd0c18e68802569b94952fcd96</td>\n",
              "      <td>13900</td>\n",
              "      <td>amparo</td>\n",
              "      <td>SP</td>\n",
              "    </tr>\n",
              "    <tr>\n",
              "      <th>32209</th>\n",
              "      <td>0ca219acb9356eced4c5c3140f88f96b</td>\n",
              "      <td>2c136b31e3f187d6c1e251011183a29a</td>\n",
              "      <td>55540</td>\n",
              "      <td>palmares</td>\n",
              "      <td>PE</td>\n",
              "    </tr>\n",
              "    <tr>\n",
              "      <th>90358</th>\n",
              "      <td>d5fb71112470ab15d46a457c3351454e</td>\n",
              "      <td>f484bc3a7e26658d421563bd1c4b6a14</td>\n",
              "      <td>20230</td>\n",
              "      <td>rio de janeiro</td>\n",
              "      <td>RJ</td>\n",
              "    </tr>\n",
              "  </tbody>\n",
              "</table>\n",
              "</div>"
            ],
            "text/plain": [
              "                            customer_id                customer_unique_id  \\\n",
              "36096  8bcdb080533e93b661caaa8048121603  ac1eded07d8e232a624490999eabd84e   \n",
              "32474  ed4a44ab55a35b95b8e0b30e84c24422  21989dae247feb80638a5a7ae1d5c25d   \n",
              "7772   ae4cf79e3528752966e1eeb9743fee41  227800bd0c18e68802569b94952fcd96   \n",
              "32209  0ca219acb9356eced4c5c3140f88f96b  2c136b31e3f187d6c1e251011183a29a   \n",
              "90358  d5fb71112470ab15d46a457c3351454e  f484bc3a7e26658d421563bd1c4b6a14   \n",
              "\n",
              "       customer_zip_code_prefix   customer_city customer_state  \n",
              "36096                     29070         vitoria             ES  \n",
              "32474                     83604     campo largo             PR  \n",
              "7772                      13900          amparo             SP  \n",
              "32209                     55540        palmares             PE  \n",
              "90358                     20230  rio de janeiro             RJ  "
            ]
          },
          "execution_count": 68,
          "metadata": {},
          "output_type": "execute_result"
        }
      ],
      "source": [
        "customers_df_ziid.sample(5)"
      ]
    },
    {
      "cell_type": "code",
      "execution_count": 69,
      "metadata": {
        "colab": {
          "base_uri": "https://localhost:8080/",
          "height": 414
        },
        "id": "c3fPXhJYHdyo",
        "outputId": "7eb49cf7-eb63-4d43-b63f-ab1b2f7c66de"
      },
      "outputs": [
        {
          "data": {
            "text/html": [
              "<div>\n",
              "<style scoped>\n",
              "    .dataframe tbody tr th:only-of-type {\n",
              "        vertical-align: middle;\n",
              "    }\n",
              "\n",
              "    .dataframe tbody tr th {\n",
              "        vertical-align: top;\n",
              "    }\n",
              "\n",
              "    .dataframe thead th {\n",
              "        text-align: right;\n",
              "    }\n",
              "</style>\n",
              "<table border=\"1\" class=\"dataframe\">\n",
              "  <thead>\n",
              "    <tr style=\"text-align: right;\">\n",
              "      <th></th>\n",
              "      <th>customer_id</th>\n",
              "      <th>customer_unique_id</th>\n",
              "      <th>customer_zip_code_prefix</th>\n",
              "      <th>customer_city</th>\n",
              "      <th>customer_state</th>\n",
              "    </tr>\n",
              "  </thead>\n",
              "  <tbody>\n",
              "    <tr>\n",
              "      <th>count</th>\n",
              "      <td>99441</td>\n",
              "      <td>99441</td>\n",
              "      <td>99441.000000</td>\n",
              "      <td>99441</td>\n",
              "      <td>99441</td>\n",
              "    </tr>\n",
              "    <tr>\n",
              "      <th>unique</th>\n",
              "      <td>99441</td>\n",
              "      <td>96096</td>\n",
              "      <td>NaN</td>\n",
              "      <td>4119</td>\n",
              "      <td>27</td>\n",
              "    </tr>\n",
              "    <tr>\n",
              "      <th>top</th>\n",
              "      <td>274fa6071e5e17fe303b9748641082c8</td>\n",
              "      <td>8d50f5eadf50201ccdcedfb9e2ac8455</td>\n",
              "      <td>NaN</td>\n",
              "      <td>sao paulo</td>\n",
              "      <td>SP</td>\n",
              "    </tr>\n",
              "    <tr>\n",
              "      <th>freq</th>\n",
              "      <td>1</td>\n",
              "      <td>17</td>\n",
              "      <td>NaN</td>\n",
              "      <td>15540</td>\n",
              "      <td>41746</td>\n",
              "    </tr>\n",
              "    <tr>\n",
              "      <th>mean</th>\n",
              "      <td>NaN</td>\n",
              "      <td>NaN</td>\n",
              "      <td>35137.474583</td>\n",
              "      <td>NaN</td>\n",
              "      <td>NaN</td>\n",
              "    </tr>\n",
              "    <tr>\n",
              "      <th>std</th>\n",
              "      <td>NaN</td>\n",
              "      <td>NaN</td>\n",
              "      <td>29797.938996</td>\n",
              "      <td>NaN</td>\n",
              "      <td>NaN</td>\n",
              "    </tr>\n",
              "    <tr>\n",
              "      <th>min</th>\n",
              "      <td>NaN</td>\n",
              "      <td>NaN</td>\n",
              "      <td>1003.000000</td>\n",
              "      <td>NaN</td>\n",
              "      <td>NaN</td>\n",
              "    </tr>\n",
              "    <tr>\n",
              "      <th>25%</th>\n",
              "      <td>NaN</td>\n",
              "      <td>NaN</td>\n",
              "      <td>11347.000000</td>\n",
              "      <td>NaN</td>\n",
              "      <td>NaN</td>\n",
              "    </tr>\n",
              "    <tr>\n",
              "      <th>50%</th>\n",
              "      <td>NaN</td>\n",
              "      <td>NaN</td>\n",
              "      <td>24416.000000</td>\n",
              "      <td>NaN</td>\n",
              "      <td>NaN</td>\n",
              "    </tr>\n",
              "    <tr>\n",
              "      <th>75%</th>\n",
              "      <td>NaN</td>\n",
              "      <td>NaN</td>\n",
              "      <td>58900.000000</td>\n",
              "      <td>NaN</td>\n",
              "      <td>NaN</td>\n",
              "    </tr>\n",
              "    <tr>\n",
              "      <th>max</th>\n",
              "      <td>NaN</td>\n",
              "      <td>NaN</td>\n",
              "      <td>99990.000000</td>\n",
              "      <td>NaN</td>\n",
              "      <td>NaN</td>\n",
              "    </tr>\n",
              "  </tbody>\n",
              "</table>\n",
              "</div>"
            ],
            "text/plain": [
              "                             customer_id                customer_unique_id  \\\n",
              "count                              99441                             99441   \n",
              "unique                             99441                             96096   \n",
              "top     274fa6071e5e17fe303b9748641082c8  8d50f5eadf50201ccdcedfb9e2ac8455   \n",
              "freq                                   1                                17   \n",
              "mean                                 NaN                               NaN   \n",
              "std                                  NaN                               NaN   \n",
              "min                                  NaN                               NaN   \n",
              "25%                                  NaN                               NaN   \n",
              "50%                                  NaN                               NaN   \n",
              "75%                                  NaN                               NaN   \n",
              "max                                  NaN                               NaN   \n",
              "\n",
              "        customer_zip_code_prefix customer_city customer_state  \n",
              "count               99441.000000         99441          99441  \n",
              "unique                       NaN          4119             27  \n",
              "top                          NaN     sao paulo             SP  \n",
              "freq                         NaN         15540          41746  \n",
              "mean                35137.474583           NaN            NaN  \n",
              "std                 29797.938996           NaN            NaN  \n",
              "min                  1003.000000           NaN            NaN  \n",
              "25%                 11347.000000           NaN            NaN  \n",
              "50%                 24416.000000           NaN            NaN  \n",
              "75%                 58900.000000           NaN            NaN  \n",
              "max                 99990.000000           NaN            NaN  "
            ]
          },
          "execution_count": 69,
          "metadata": {},
          "output_type": "execute_result"
        }
      ],
      "source": [
        "customers_df_ziid.describe(include=\"all\")"
      ]
    },
    {
      "cell_type": "code",
      "execution_count": 70,
      "metadata": {
        "colab": {
          "base_uri": "https://localhost:8080/"
        },
        "id": "4QHtog9CHmI3",
        "outputId": "653ab37d-027b-49ca-f66d-176a77f364e1"
      },
      "outputs": [
        {
          "data": {
            "text/plain": [
              "True"
            ]
          },
          "execution_count": 70,
          "metadata": {},
          "output_type": "execute_result"
        }
      ],
      "source": [
        "customers_df_ziid.customer_id.is_unique"
      ]
    },
    {
      "cell_type": "code",
      "execution_count": 71,
      "metadata": {
        "colab": {
          "base_uri": "https://localhost:8080/",
          "height": 962
        },
        "id": "kXKG4ah0MKgV",
        "outputId": "b3099df3-63a3-42d4-9e81-c945488f9272"
      },
      "outputs": [
        {
          "data": {
            "text/plain": [
              "customer_state\n",
              "SP    41746\n",
              "RJ    12852\n",
              "MG    11635\n",
              "RS     5466\n",
              "PR     5045\n",
              "SC     3637\n",
              "BA     3380\n",
              "DF     2140\n",
              "ES     2033\n",
              "GO     2020\n",
              "PE     1652\n",
              "CE     1336\n",
              "PA      975\n",
              "MT      907\n",
              "MA      747\n",
              "MS      715\n",
              "PB      536\n",
              "PI      495\n",
              "RN      485\n",
              "AL      413\n",
              "SE      350\n",
              "TO      280\n",
              "RO      253\n",
              "AM      148\n",
              "AC       81\n",
              "AP       68\n",
              "RR       46\n",
              "Name: customer_id, dtype: int64"
            ]
          },
          "execution_count": 71,
          "metadata": {},
          "output_type": "execute_result"
        }
      ],
      "source": [
        "customers_df_ziid.groupby(by=\"customer_state\").customer_id.nunique().sort_values(ascending=False)"
      ]
    },
    {
      "cell_type": "code",
      "execution_count": 72,
      "metadata": {
        "colab": {
          "base_uri": "https://localhost:8080/",
          "height": 490
        },
        "id": "ygkoQYVjMZUf",
        "outputId": "40cd13de-aae9-4fdc-8a57-4d09d07d3f7c"
      },
      "outputs": [
        {
          "data": {
            "text/plain": [
              "customer_city\n",
              "sao paulo         15540\n",
              "rio de janeiro     6882\n",
              "belo horizonte     2773\n",
              "brasilia           2131\n",
              "curitiba           1521\n",
              "                  ...  \n",
              "agisse                1\n",
              "vieiras               1\n",
              "bertopolis            1\n",
              "abadiania             1\n",
              "xexeu                 1\n",
              "Name: customer_id, Length: 4119, dtype: int64"
            ]
          },
          "execution_count": 72,
          "metadata": {},
          "output_type": "execute_result"
        }
      ],
      "source": [
        "customers_df_ziid.groupby(by=\"customer_city\").customer_id.nunique().sort_values(ascending=False)"
      ]
    },
    {
      "cell_type": "markdown",
      "metadata": {
        "id": "9E_-MttrFrEF"
      },
      "source": [
        "####Explore `orders_df_ziid`\n"
      ]
    },
    {
      "cell_type": "code",
      "execution_count": 73,
      "metadata": {
        "colab": {
          "base_uri": "https://localhost:8080/",
          "height": 226
        },
        "id": "qWTwMr2LH88-",
        "outputId": "cba43feb-4888-45fc-ad07-6e43b4e1fa11"
      },
      "outputs": [
        {
          "data": {
            "text/html": [
              "<div>\n",
              "<style scoped>\n",
              "    .dataframe tbody tr th:only-of-type {\n",
              "        vertical-align: middle;\n",
              "    }\n",
              "\n",
              "    .dataframe tbody tr th {\n",
              "        vertical-align: top;\n",
              "    }\n",
              "\n",
              "    .dataframe thead th {\n",
              "        text-align: right;\n",
              "    }\n",
              "</style>\n",
              "<table border=\"1\" class=\"dataframe\">\n",
              "  <thead>\n",
              "    <tr style=\"text-align: right;\">\n",
              "      <th></th>\n",
              "      <th>order_id</th>\n",
              "      <th>customer_id</th>\n",
              "      <th>order_status</th>\n",
              "      <th>order_purchase_timestamp</th>\n",
              "      <th>order_approved_at</th>\n",
              "      <th>order_delivered_carrier_date</th>\n",
              "      <th>order_delivered_customer_date</th>\n",
              "      <th>order_estimated_delivery_date</th>\n",
              "    </tr>\n",
              "  </thead>\n",
              "  <tbody>\n",
              "    <tr>\n",
              "      <th>44652</th>\n",
              "      <td>c9a8490e7b2c76d2f9b22369314a9391</td>\n",
              "      <td>7e1e78509e303571ba3df752830cd299</td>\n",
              "      <td>delivered</td>\n",
              "      <td>2018-06-04 22:24:34</td>\n",
              "      <td>2018-06-04 22:35:20</td>\n",
              "      <td>2018-06-05 14:12:00</td>\n",
              "      <td>2018-06-11 20:38:37</td>\n",
              "      <td>2018-07-11 00:00:00</td>\n",
              "    </tr>\n",
              "    <tr>\n",
              "      <th>95243</th>\n",
              "      <td>288fa21578528e37e861275a550873d1</td>\n",
              "      <td>293bc48e79189edb4053a97c7d978685</td>\n",
              "      <td>delivered</td>\n",
              "      <td>2018-03-20 21:51:24</td>\n",
              "      <td>2018-03-20 22:08:59</td>\n",
              "      <td>2018-03-21 19:16:49</td>\n",
              "      <td>2018-04-18 17:54:41</td>\n",
              "      <td>2018-04-10 00:00:00</td>\n",
              "    </tr>\n",
              "    <tr>\n",
              "      <th>78630</th>\n",
              "      <td>2b1d82acc9561318937048bf5ea0a990</td>\n",
              "      <td>b9c2587a0c43c2e078f1beeb3ab78a00</td>\n",
              "      <td>delivered</td>\n",
              "      <td>2017-08-17 19:47:28</td>\n",
              "      <td>2017-08-17 20:25:22</td>\n",
              "      <td>2017-08-21 18:23:39</td>\n",
              "      <td>2017-08-24 21:05:19</td>\n",
              "      <td>2017-09-11 00:00:00</td>\n",
              "    </tr>\n",
              "    <tr>\n",
              "      <th>54876</th>\n",
              "      <td>2dd3e9627a0cec07b3092f404934ce6b</td>\n",
              "      <td>7e19f4a49cf2f5c0ea08901336e3d9da</td>\n",
              "      <td>delivered</td>\n",
              "      <td>2017-04-23 18:16:54</td>\n",
              "      <td>2017-04-23 18:30:30</td>\n",
              "      <td>2017-04-27 11:05:36</td>\n",
              "      <td>2017-05-25 13:19:26</td>\n",
              "      <td>2017-05-15 00:00:00</td>\n",
              "    </tr>\n",
              "    <tr>\n",
              "      <th>18370</th>\n",
              "      <td>28d0071bc1ea6593fc40883d5eacc6d7</td>\n",
              "      <td>cd48e4fc34049c9cf95ebb28683da6f2</td>\n",
              "      <td>delivered</td>\n",
              "      <td>2018-04-25 10:50:33</td>\n",
              "      <td>2018-04-25 11:09:04</td>\n",
              "      <td>2018-04-27 13:33:00</td>\n",
              "      <td>2018-04-30 14:12:30</td>\n",
              "      <td>2018-05-09 00:00:00</td>\n",
              "    </tr>\n",
              "  </tbody>\n",
              "</table>\n",
              "</div>"
            ],
            "text/plain": [
              "                               order_id                       customer_id  \\\n",
              "44652  c9a8490e7b2c76d2f9b22369314a9391  7e1e78509e303571ba3df752830cd299   \n",
              "95243  288fa21578528e37e861275a550873d1  293bc48e79189edb4053a97c7d978685   \n",
              "78630  2b1d82acc9561318937048bf5ea0a990  b9c2587a0c43c2e078f1beeb3ab78a00   \n",
              "54876  2dd3e9627a0cec07b3092f404934ce6b  7e19f4a49cf2f5c0ea08901336e3d9da   \n",
              "18370  28d0071bc1ea6593fc40883d5eacc6d7  cd48e4fc34049c9cf95ebb28683da6f2   \n",
              "\n",
              "      order_status order_purchase_timestamp    order_approved_at  \\\n",
              "44652    delivered      2018-06-04 22:24:34  2018-06-04 22:35:20   \n",
              "95243    delivered      2018-03-20 21:51:24  2018-03-20 22:08:59   \n",
              "78630    delivered      2017-08-17 19:47:28  2017-08-17 20:25:22   \n",
              "54876    delivered      2017-04-23 18:16:54  2017-04-23 18:30:30   \n",
              "18370    delivered      2018-04-25 10:50:33  2018-04-25 11:09:04   \n",
              "\n",
              "      order_delivered_carrier_date order_delivered_customer_date  \\\n",
              "44652          2018-06-05 14:12:00           2018-06-11 20:38:37   \n",
              "95243          2018-03-21 19:16:49           2018-04-18 17:54:41   \n",
              "78630          2017-08-21 18:23:39           2017-08-24 21:05:19   \n",
              "54876          2017-04-27 11:05:36           2017-05-25 13:19:26   \n",
              "18370          2018-04-27 13:33:00           2018-04-30 14:12:30   \n",
              "\n",
              "      order_estimated_delivery_date  \n",
              "44652           2018-07-11 00:00:00  \n",
              "95243           2018-04-10 00:00:00  \n",
              "78630           2017-09-11 00:00:00  \n",
              "54876           2017-05-15 00:00:00  \n",
              "18370           2018-05-09 00:00:00  "
            ]
          },
          "execution_count": 73,
          "metadata": {},
          "output_type": "execute_result"
        }
      ],
      "source": [
        "orders_df_ziid.sample(5)"
      ]
    },
    {
      "cell_type": "code",
      "execution_count": 74,
      "metadata": {
        "colab": {
          "base_uri": "https://localhost:8080/",
          "height": 195
        },
        "id": "9cLVmXhhIBAX",
        "outputId": "57b644f3-668c-4917-c154-491c8588ac74"
      },
      "outputs": [
        {
          "data": {
            "text/html": [
              "<div>\n",
              "<style scoped>\n",
              "    .dataframe tbody tr th:only-of-type {\n",
              "        vertical-align: middle;\n",
              "    }\n",
              "\n",
              "    .dataframe tbody tr th {\n",
              "        vertical-align: top;\n",
              "    }\n",
              "\n",
              "    .dataframe thead th {\n",
              "        text-align: right;\n",
              "    }\n",
              "</style>\n",
              "<table border=\"1\" class=\"dataframe\">\n",
              "  <thead>\n",
              "    <tr style=\"text-align: right;\">\n",
              "      <th></th>\n",
              "      <th>order_id</th>\n",
              "      <th>customer_id</th>\n",
              "      <th>order_status</th>\n",
              "      <th>order_purchase_timestamp</th>\n",
              "      <th>order_approved_at</th>\n",
              "      <th>order_delivered_carrier_date</th>\n",
              "      <th>order_delivered_customer_date</th>\n",
              "      <th>order_estimated_delivery_date</th>\n",
              "    </tr>\n",
              "  </thead>\n",
              "  <tbody>\n",
              "    <tr>\n",
              "      <th>count</th>\n",
              "      <td>96455</td>\n",
              "      <td>96455</td>\n",
              "      <td>96455</td>\n",
              "      <td>96455</td>\n",
              "      <td>96455</td>\n",
              "      <td>96455</td>\n",
              "      <td>96455</td>\n",
              "      <td>96455</td>\n",
              "    </tr>\n",
              "    <tr>\n",
              "      <th>unique</th>\n",
              "      <td>96455</td>\n",
              "      <td>96455</td>\n",
              "      <td>1</td>\n",
              "      <td>95933</td>\n",
              "      <td>88266</td>\n",
              "      <td>80094</td>\n",
              "      <td>95643</td>\n",
              "      <td>445</td>\n",
              "    </tr>\n",
              "    <tr>\n",
              "      <th>top</th>\n",
              "      <td>66dea50a8b16d9b4dee7af250b4be1a5</td>\n",
              "      <td>edb027a75a1449115f6b43211ae02a24</td>\n",
              "      <td>delivered</td>\n",
              "      <td>2017-11-20 11:46:30</td>\n",
              "      <td>2018-02-27 04:31:10</td>\n",
              "      <td>2018-05-09 15:48:00</td>\n",
              "      <td>2018-07-24 21:36:42</td>\n",
              "      <td>2017-12-20 00:00:00</td>\n",
              "    </tr>\n",
              "    <tr>\n",
              "      <th>freq</th>\n",
              "      <td>1</td>\n",
              "      <td>1</td>\n",
              "      <td>96455</td>\n",
              "      <td>3</td>\n",
              "      <td>9</td>\n",
              "      <td>47</td>\n",
              "      <td>3</td>\n",
              "      <td>507</td>\n",
              "    </tr>\n",
              "  </tbody>\n",
              "</table>\n",
              "</div>"
            ],
            "text/plain": [
              "                                order_id                       customer_id  \\\n",
              "count                              96455                             96455   \n",
              "unique                             96455                             96455   \n",
              "top     66dea50a8b16d9b4dee7af250b4be1a5  edb027a75a1449115f6b43211ae02a24   \n",
              "freq                                   1                                 1   \n",
              "\n",
              "       order_status order_purchase_timestamp    order_approved_at  \\\n",
              "count         96455                    96455                96455   \n",
              "unique            1                    95933                88266   \n",
              "top       delivered      2017-11-20 11:46:30  2018-02-27 04:31:10   \n",
              "freq          96455                        3                    9   \n",
              "\n",
              "       order_delivered_carrier_date order_delivered_customer_date  \\\n",
              "count                         96455                         96455   \n",
              "unique                        80094                         95643   \n",
              "top             2018-05-09 15:48:00           2018-07-24 21:36:42   \n",
              "freq                             47                             3   \n",
              "\n",
              "       order_estimated_delivery_date  \n",
              "count                          96455  \n",
              "unique                           445  \n",
              "top              2017-12-20 00:00:00  \n",
              "freq                             507  "
            ]
          },
          "execution_count": 74,
          "metadata": {},
          "output_type": "execute_result"
        }
      ],
      "source": [
        "orders_df_ziid.describe(include=\"all\")"
      ]
    },
    {
      "cell_type": "markdown",
      "metadata": {
        "id": "OCuEqXLgIukl"
      },
      "source": [
        "Banyak pesanan yang sampai pada bulan april 2018 daripada periode yang lain\n"
      ]
    },
    {
      "cell_type": "code",
      "execution_count": 75,
      "metadata": {
        "colab": {
          "base_uri": "https://localhost:8080/",
          "height": 147
        },
        "id": "tWyHLSzvJEVP",
        "outputId": "57241ced-a113-4051-879f-036d5e7132e0"
      },
      "outputs": [
        {
          "data": {
            "text/plain": [
              "order_status\n",
              "delivered    96455\n",
              "Name: customer_id, dtype: int64"
            ]
          },
          "execution_count": 75,
          "metadata": {},
          "output_type": "execute_result"
        }
      ],
      "source": [
        "orders_df_ziid.groupby(by=\"order_status\").customer_id.count()"
      ]
    },
    {
      "cell_type": "markdown",
      "metadata": {
        "id": "mPP75HZgF4Yc"
      },
      "source": [
        "####Explore `order_payments_df_ziid`\n"
      ]
    },
    {
      "cell_type": "code",
      "execution_count": 76,
      "metadata": {
        "colab": {
          "base_uri": "https://localhost:8080/",
          "height": 226
        },
        "id": "c3lmz5qiJ44l",
        "outputId": "29b1736d-d782-4a56-8451-49104f4a12f5"
      },
      "outputs": [
        {
          "data": {
            "text/html": [
              "<div>\n",
              "<style scoped>\n",
              "    .dataframe tbody tr th:only-of-type {\n",
              "        vertical-align: middle;\n",
              "    }\n",
              "\n",
              "    .dataframe tbody tr th {\n",
              "        vertical-align: top;\n",
              "    }\n",
              "\n",
              "    .dataframe thead th {\n",
              "        text-align: right;\n",
              "    }\n",
              "</style>\n",
              "<table border=\"1\" class=\"dataframe\">\n",
              "  <thead>\n",
              "    <tr style=\"text-align: right;\">\n",
              "      <th></th>\n",
              "      <th>order_id</th>\n",
              "      <th>payment_sequential</th>\n",
              "      <th>payment_type</th>\n",
              "      <th>payment_installments</th>\n",
              "      <th>payment_value</th>\n",
              "    </tr>\n",
              "  </thead>\n",
              "  <tbody>\n",
              "    <tr>\n",
              "      <th>96176</th>\n",
              "      <td>e22ffd32ea0c410c250cb735498b60e0</td>\n",
              "      <td>1</td>\n",
              "      <td>credit_card</td>\n",
              "      <td>1</td>\n",
              "      <td>161.05</td>\n",
              "    </tr>\n",
              "    <tr>\n",
              "      <th>57923</th>\n",
              "      <td>1ea11b975aea60ca92fa0559184d3d34</td>\n",
              "      <td>6</td>\n",
              "      <td>voucher</td>\n",
              "      <td>1</td>\n",
              "      <td>12.68</td>\n",
              "    </tr>\n",
              "    <tr>\n",
              "      <th>95572</th>\n",
              "      <td>78a56ea994a32c5627609c929276b3c0</td>\n",
              "      <td>1</td>\n",
              "      <td>boleto</td>\n",
              "      <td>1</td>\n",
              "      <td>114.37</td>\n",
              "    </tr>\n",
              "    <tr>\n",
              "      <th>46625</th>\n",
              "      <td>0216ea85f929ce4795f933573c6bb055</td>\n",
              "      <td>2</td>\n",
              "      <td>voucher</td>\n",
              "      <td>1</td>\n",
              "      <td>2.46</td>\n",
              "    </tr>\n",
              "    <tr>\n",
              "      <th>48347</th>\n",
              "      <td>0b39d78b430d574a6eafefe82c11b4a3</td>\n",
              "      <td>1</td>\n",
              "      <td>credit_card</td>\n",
              "      <td>1</td>\n",
              "      <td>25.00</td>\n",
              "    </tr>\n",
              "  </tbody>\n",
              "</table>\n",
              "</div>"
            ],
            "text/plain": [
              "                               order_id  payment_sequential payment_type  \\\n",
              "96176  e22ffd32ea0c410c250cb735498b60e0                   1  credit_card   \n",
              "57923  1ea11b975aea60ca92fa0559184d3d34                   6      voucher   \n",
              "95572  78a56ea994a32c5627609c929276b3c0                   1       boleto   \n",
              "46625  0216ea85f929ce4795f933573c6bb055                   2      voucher   \n",
              "48347  0b39d78b430d574a6eafefe82c11b4a3                   1  credit_card   \n",
              "\n",
              "       payment_installments  payment_value  \n",
              "96176                     1         161.05  \n",
              "57923                     1          12.68  \n",
              "95572                     1         114.37  \n",
              "46625                     1           2.46  \n",
              "48347                     1          25.00  "
            ]
          },
          "execution_count": 76,
          "metadata": {},
          "output_type": "execute_result"
        }
      ],
      "source": [
        "order_payments_df_ziid.sample(5)"
      ]
    },
    {
      "cell_type": "code",
      "execution_count": 77,
      "metadata": {
        "colab": {
          "base_uri": "https://localhost:8080/",
          "height": 414
        },
        "id": "az_ixLm9KDCR",
        "outputId": "cc711e2b-acde-47bf-ce3f-d51419a73cc1"
      },
      "outputs": [
        {
          "data": {
            "text/html": [
              "<div>\n",
              "<style scoped>\n",
              "    .dataframe tbody tr th:only-of-type {\n",
              "        vertical-align: middle;\n",
              "    }\n",
              "\n",
              "    .dataframe tbody tr th {\n",
              "        vertical-align: top;\n",
              "    }\n",
              "\n",
              "    .dataframe thead th {\n",
              "        text-align: right;\n",
              "    }\n",
              "</style>\n",
              "<table border=\"1\" class=\"dataframe\">\n",
              "  <thead>\n",
              "    <tr style=\"text-align: right;\">\n",
              "      <th></th>\n",
              "      <th>order_id</th>\n",
              "      <th>payment_sequential</th>\n",
              "      <th>payment_type</th>\n",
              "      <th>payment_installments</th>\n",
              "      <th>payment_value</th>\n",
              "    </tr>\n",
              "  </thead>\n",
              "  <tbody>\n",
              "    <tr>\n",
              "      <th>count</th>\n",
              "      <td>103886</td>\n",
              "      <td>103886.000000</td>\n",
              "      <td>103886</td>\n",
              "      <td>103886.000000</td>\n",
              "      <td>103886.000000</td>\n",
              "    </tr>\n",
              "    <tr>\n",
              "      <th>unique</th>\n",
              "      <td>99440</td>\n",
              "      <td>NaN</td>\n",
              "      <td>5</td>\n",
              "      <td>NaN</td>\n",
              "      <td>NaN</td>\n",
              "    </tr>\n",
              "    <tr>\n",
              "      <th>top</th>\n",
              "      <td>fa65dad1b0e818e3ccc5cb0e39231352</td>\n",
              "      <td>NaN</td>\n",
              "      <td>credit_card</td>\n",
              "      <td>NaN</td>\n",
              "      <td>NaN</td>\n",
              "    </tr>\n",
              "    <tr>\n",
              "      <th>freq</th>\n",
              "      <td>29</td>\n",
              "      <td>NaN</td>\n",
              "      <td>76795</td>\n",
              "      <td>NaN</td>\n",
              "      <td>NaN</td>\n",
              "    </tr>\n",
              "    <tr>\n",
              "      <th>mean</th>\n",
              "      <td>NaN</td>\n",
              "      <td>1.092679</td>\n",
              "      <td>NaN</td>\n",
              "      <td>2.853349</td>\n",
              "      <td>154.100380</td>\n",
              "    </tr>\n",
              "    <tr>\n",
              "      <th>std</th>\n",
              "      <td>NaN</td>\n",
              "      <td>0.706584</td>\n",
              "      <td>NaN</td>\n",
              "      <td>2.687051</td>\n",
              "      <td>217.494064</td>\n",
              "    </tr>\n",
              "    <tr>\n",
              "      <th>min</th>\n",
              "      <td>NaN</td>\n",
              "      <td>1.000000</td>\n",
              "      <td>NaN</td>\n",
              "      <td>0.000000</td>\n",
              "      <td>0.000000</td>\n",
              "    </tr>\n",
              "    <tr>\n",
              "      <th>25%</th>\n",
              "      <td>NaN</td>\n",
              "      <td>1.000000</td>\n",
              "      <td>NaN</td>\n",
              "      <td>1.000000</td>\n",
              "      <td>56.790000</td>\n",
              "    </tr>\n",
              "    <tr>\n",
              "      <th>50%</th>\n",
              "      <td>NaN</td>\n",
              "      <td>1.000000</td>\n",
              "      <td>NaN</td>\n",
              "      <td>1.000000</td>\n",
              "      <td>100.000000</td>\n",
              "    </tr>\n",
              "    <tr>\n",
              "      <th>75%</th>\n",
              "      <td>NaN</td>\n",
              "      <td>1.000000</td>\n",
              "      <td>NaN</td>\n",
              "      <td>4.000000</td>\n",
              "      <td>171.837500</td>\n",
              "    </tr>\n",
              "    <tr>\n",
              "      <th>max</th>\n",
              "      <td>NaN</td>\n",
              "      <td>29.000000</td>\n",
              "      <td>NaN</td>\n",
              "      <td>24.000000</td>\n",
              "      <td>13664.080000</td>\n",
              "    </tr>\n",
              "  </tbody>\n",
              "</table>\n",
              "</div>"
            ],
            "text/plain": [
              "                                order_id  payment_sequential payment_type  \\\n",
              "count                             103886       103886.000000       103886   \n",
              "unique                             99440                 NaN            5   \n",
              "top     fa65dad1b0e818e3ccc5cb0e39231352                 NaN  credit_card   \n",
              "freq                                  29                 NaN        76795   \n",
              "mean                                 NaN            1.092679          NaN   \n",
              "std                                  NaN            0.706584          NaN   \n",
              "min                                  NaN            1.000000          NaN   \n",
              "25%                                  NaN            1.000000          NaN   \n",
              "50%                                  NaN            1.000000          NaN   \n",
              "75%                                  NaN            1.000000          NaN   \n",
              "max                                  NaN           29.000000          NaN   \n",
              "\n",
              "        payment_installments  payment_value  \n",
              "count          103886.000000  103886.000000  \n",
              "unique                   NaN            NaN  \n",
              "top                      NaN            NaN  \n",
              "freq                     NaN            NaN  \n",
              "mean                2.853349     154.100380  \n",
              "std                 2.687051     217.494064  \n",
              "min                 0.000000       0.000000  \n",
              "25%                 1.000000      56.790000  \n",
              "50%                 1.000000     100.000000  \n",
              "75%                 4.000000     171.837500  \n",
              "max                24.000000   13664.080000  "
            ]
          },
          "execution_count": 77,
          "metadata": {},
          "output_type": "execute_result"
        }
      ],
      "source": [
        "order_payments_df_ziid.describe(include=\"all\")"
      ]
    },
    {
      "cell_type": "code",
      "execution_count": 78,
      "metadata": {
        "colab": {
          "base_uri": "https://localhost:8080/"
        },
        "id": "8WdvFB_3KQHF",
        "outputId": "7441312a-f8f1-44e0-ac34-fe86f4c2ef5f"
      },
      "outputs": [
        {
          "data": {
            "text/plain": [
              "False"
            ]
          },
          "execution_count": 78,
          "metadata": {},
          "output_type": "execute_result"
        }
      ],
      "source": [
        "order_payments_df_ziid.payment_installments.is_unique"
      ]
    },
    {
      "cell_type": "code",
      "execution_count": 79,
      "metadata": {
        "colab": {
          "base_uri": "https://localhost:8080/",
          "height": 868
        },
        "id": "DZ2l1MAYKbnX",
        "outputId": "99ba18dc-fc82-4a69-f69c-d4d9f383fc8a"
      },
      "outputs": [
        {
          "data": {
            "text/plain": [
              "payment_installments\n",
              "0         2\n",
              "1     52546\n",
              "2     12413\n",
              "3     10461\n",
              "4      7098\n",
              "5      5239\n",
              "6      3920\n",
              "7      1626\n",
              "8      4268\n",
              "9       644\n",
              "10     5328\n",
              "11       23\n",
              "12      133\n",
              "13       16\n",
              "14       15\n",
              "15       74\n",
              "16        5\n",
              "17        8\n",
              "18       27\n",
              "20       17\n",
              "21        3\n",
              "22        1\n",
              "23        1\n",
              "24       18\n",
              "Name: order_id, dtype: int64"
            ]
          },
          "execution_count": 79,
          "metadata": {},
          "output_type": "execute_result"
        }
      ],
      "source": [
        "order_payments_df_ziid.groupby(by=\"payment_installments\").order_id.count()"
      ]
    },
    {
      "cell_type": "markdown",
      "metadata": {
        "id": "Q1zjxQBnF_Jc"
      },
      "source": [
        "####Explore `order_items_df_ziid`\n"
      ]
    },
    {
      "cell_type": "code",
      "execution_count": 80,
      "metadata": {
        "colab": {
          "base_uri": "https://localhost:8080/",
          "height": 226
        },
        "id": "pr02ZcYjLmIX",
        "outputId": "bf8c7525-0895-44f5-9b1d-6ffe4da9fcce"
      },
      "outputs": [
        {
          "data": {
            "text/html": [
              "<div>\n",
              "<style scoped>\n",
              "    .dataframe tbody tr th:only-of-type {\n",
              "        vertical-align: middle;\n",
              "    }\n",
              "\n",
              "    .dataframe tbody tr th {\n",
              "        vertical-align: top;\n",
              "    }\n",
              "\n",
              "    .dataframe thead th {\n",
              "        text-align: right;\n",
              "    }\n",
              "</style>\n",
              "<table border=\"1\" class=\"dataframe\">\n",
              "  <thead>\n",
              "    <tr style=\"text-align: right;\">\n",
              "      <th></th>\n",
              "      <th>order_id</th>\n",
              "      <th>order_item_id</th>\n",
              "      <th>product_id</th>\n",
              "      <th>seller_id</th>\n",
              "      <th>shipping_limit_date</th>\n",
              "      <th>price</th>\n",
              "      <th>freight_value</th>\n",
              "    </tr>\n",
              "  </thead>\n",
              "  <tbody>\n",
              "    <tr>\n",
              "      <th>66992</th>\n",
              "      <td>992738bb51e7ba624763bd8060189c5e</td>\n",
              "      <td>1</td>\n",
              "      <td>38d2319e71779e74d3f37e0f5cf8a5a5</td>\n",
              "      <td>fbc14c0cf93505ef89f64665ffa4a7b5</td>\n",
              "      <td>2018-01-08 15:33:43</td>\n",
              "      <td>408.99</td>\n",
              "      <td>15.88</td>\n",
              "    </tr>\n",
              "    <tr>\n",
              "      <th>59368</th>\n",
              "      <td>8747a928f786c8b31e0afb1b815886bc</td>\n",
              "      <td>1</td>\n",
              "      <td>389d119b48cf3043d311335e499d9c6b</td>\n",
              "      <td>1f50f920176fa81dab994f9023523100</td>\n",
              "      <td>2017-11-21 03:35:40</td>\n",
              "      <td>59.90</td>\n",
              "      <td>13.44</td>\n",
              "    </tr>\n",
              "    <tr>\n",
              "      <th>96106</th>\n",
              "      <td>da0abbc0c93081d27e4ad10ffc4a631f</td>\n",
              "      <td>1</td>\n",
              "      <td>fdc7f0715c1b1ee11b31922f0b23c0b4</td>\n",
              "      <td>3078096983cf766a32a06257648502d1</td>\n",
              "      <td>2018-03-27 14:35:26</td>\n",
              "      <td>28.69</td>\n",
              "      <td>13.71</td>\n",
              "    </tr>\n",
              "    <tr>\n",
              "      <th>79954</th>\n",
              "      <td>b5d9197eb2402184f5661ee98acf0271</td>\n",
              "      <td>1</td>\n",
              "      <td>c3910fee8ac77d2fd4e39a0aa2e0b506</td>\n",
              "      <td>5a32c398a06c345440bf2a683b017ad3</td>\n",
              "      <td>2018-03-21 18:28:43</td>\n",
              "      <td>34.90</td>\n",
              "      <td>15.23</td>\n",
              "    </tr>\n",
              "    <tr>\n",
              "      <th>86988</th>\n",
              "      <td>c589bcc1414f7d7d949f353b1d1a45d9</td>\n",
              "      <td>1</td>\n",
              "      <td>49e25af5dc73ad7ac3fefae03aea3e61</td>\n",
              "      <td>cd68562d3f44870c08922d380acae552</td>\n",
              "      <td>2018-01-05 13:33:22</td>\n",
              "      <td>190.00</td>\n",
              "      <td>16.08</td>\n",
              "    </tr>\n",
              "  </tbody>\n",
              "</table>\n",
              "</div>"
            ],
            "text/plain": [
              "                               order_id  order_item_id  \\\n",
              "66992  992738bb51e7ba624763bd8060189c5e              1   \n",
              "59368  8747a928f786c8b31e0afb1b815886bc              1   \n",
              "96106  da0abbc0c93081d27e4ad10ffc4a631f              1   \n",
              "79954  b5d9197eb2402184f5661ee98acf0271              1   \n",
              "86988  c589bcc1414f7d7d949f353b1d1a45d9              1   \n",
              "\n",
              "                             product_id                         seller_id  \\\n",
              "66992  38d2319e71779e74d3f37e0f5cf8a5a5  fbc14c0cf93505ef89f64665ffa4a7b5   \n",
              "59368  389d119b48cf3043d311335e499d9c6b  1f50f920176fa81dab994f9023523100   \n",
              "96106  fdc7f0715c1b1ee11b31922f0b23c0b4  3078096983cf766a32a06257648502d1   \n",
              "79954  c3910fee8ac77d2fd4e39a0aa2e0b506  5a32c398a06c345440bf2a683b017ad3   \n",
              "86988  49e25af5dc73ad7ac3fefae03aea3e61  cd68562d3f44870c08922d380acae552   \n",
              "\n",
              "       shipping_limit_date   price  freight_value  \n",
              "66992  2018-01-08 15:33:43  408.99          15.88  \n",
              "59368  2017-11-21 03:35:40   59.90          13.44  \n",
              "96106  2018-03-27 14:35:26   28.69          13.71  \n",
              "79954  2018-03-21 18:28:43   34.90          15.23  \n",
              "86988  2018-01-05 13:33:22  190.00          16.08  "
            ]
          },
          "execution_count": 80,
          "metadata": {},
          "output_type": "execute_result"
        }
      ],
      "source": [
        "order_items_df_ziid.sample(5)"
      ]
    },
    {
      "cell_type": "code",
      "execution_count": 81,
      "metadata": {
        "colab": {
          "base_uri": "https://localhost:8080/",
          "height": 414
        },
        "id": "6zMJIuhtLqYm",
        "outputId": "af2fb641-eab3-46e5-9313-076c92707d11"
      },
      "outputs": [
        {
          "data": {
            "text/html": [
              "<div>\n",
              "<style scoped>\n",
              "    .dataframe tbody tr th:only-of-type {\n",
              "        vertical-align: middle;\n",
              "    }\n",
              "\n",
              "    .dataframe tbody tr th {\n",
              "        vertical-align: top;\n",
              "    }\n",
              "\n",
              "    .dataframe thead th {\n",
              "        text-align: right;\n",
              "    }\n",
              "</style>\n",
              "<table border=\"1\" class=\"dataframe\">\n",
              "  <thead>\n",
              "    <tr style=\"text-align: right;\">\n",
              "      <th></th>\n",
              "      <th>order_id</th>\n",
              "      <th>order_item_id</th>\n",
              "      <th>product_id</th>\n",
              "      <th>seller_id</th>\n",
              "      <th>shipping_limit_date</th>\n",
              "      <th>price</th>\n",
              "      <th>freight_value</th>\n",
              "    </tr>\n",
              "  </thead>\n",
              "  <tbody>\n",
              "    <tr>\n",
              "      <th>count</th>\n",
              "      <td>112650</td>\n",
              "      <td>112650.000000</td>\n",
              "      <td>112650</td>\n",
              "      <td>112650</td>\n",
              "      <td>112650</td>\n",
              "      <td>112650.000000</td>\n",
              "      <td>112650.000000</td>\n",
              "    </tr>\n",
              "    <tr>\n",
              "      <th>unique</th>\n",
              "      <td>98666</td>\n",
              "      <td>NaN</td>\n",
              "      <td>32951</td>\n",
              "      <td>3095</td>\n",
              "      <td>93318</td>\n",
              "      <td>NaN</td>\n",
              "      <td>NaN</td>\n",
              "    </tr>\n",
              "    <tr>\n",
              "      <th>top</th>\n",
              "      <td>8272b63d03f5f79c56e9e4120aec44ef</td>\n",
              "      <td>NaN</td>\n",
              "      <td>aca2eb7d00ea1a7b8ebd4e68314663af</td>\n",
              "      <td>6560211a19b47992c3666cc44a7e94c0</td>\n",
              "      <td>2017-07-21 18:25:23</td>\n",
              "      <td>NaN</td>\n",
              "      <td>NaN</td>\n",
              "    </tr>\n",
              "    <tr>\n",
              "      <th>freq</th>\n",
              "      <td>21</td>\n",
              "      <td>NaN</td>\n",
              "      <td>527</td>\n",
              "      <td>2033</td>\n",
              "      <td>21</td>\n",
              "      <td>NaN</td>\n",
              "      <td>NaN</td>\n",
              "    </tr>\n",
              "    <tr>\n",
              "      <th>mean</th>\n",
              "      <td>NaN</td>\n",
              "      <td>1.197834</td>\n",
              "      <td>NaN</td>\n",
              "      <td>NaN</td>\n",
              "      <td>NaN</td>\n",
              "      <td>120.653739</td>\n",
              "      <td>19.990320</td>\n",
              "    </tr>\n",
              "    <tr>\n",
              "      <th>std</th>\n",
              "      <td>NaN</td>\n",
              "      <td>0.705124</td>\n",
              "      <td>NaN</td>\n",
              "      <td>NaN</td>\n",
              "      <td>NaN</td>\n",
              "      <td>183.633928</td>\n",
              "      <td>15.806405</td>\n",
              "    </tr>\n",
              "    <tr>\n",
              "      <th>min</th>\n",
              "      <td>NaN</td>\n",
              "      <td>1.000000</td>\n",
              "      <td>NaN</td>\n",
              "      <td>NaN</td>\n",
              "      <td>NaN</td>\n",
              "      <td>0.850000</td>\n",
              "      <td>0.000000</td>\n",
              "    </tr>\n",
              "    <tr>\n",
              "      <th>25%</th>\n",
              "      <td>NaN</td>\n",
              "      <td>1.000000</td>\n",
              "      <td>NaN</td>\n",
              "      <td>NaN</td>\n",
              "      <td>NaN</td>\n",
              "      <td>39.900000</td>\n",
              "      <td>13.080000</td>\n",
              "    </tr>\n",
              "    <tr>\n",
              "      <th>50%</th>\n",
              "      <td>NaN</td>\n",
              "      <td>1.000000</td>\n",
              "      <td>NaN</td>\n",
              "      <td>NaN</td>\n",
              "      <td>NaN</td>\n",
              "      <td>74.990000</td>\n",
              "      <td>16.260000</td>\n",
              "    </tr>\n",
              "    <tr>\n",
              "      <th>75%</th>\n",
              "      <td>NaN</td>\n",
              "      <td>1.000000</td>\n",
              "      <td>NaN</td>\n",
              "      <td>NaN</td>\n",
              "      <td>NaN</td>\n",
              "      <td>134.900000</td>\n",
              "      <td>21.150000</td>\n",
              "    </tr>\n",
              "    <tr>\n",
              "      <th>max</th>\n",
              "      <td>NaN</td>\n",
              "      <td>21.000000</td>\n",
              "      <td>NaN</td>\n",
              "      <td>NaN</td>\n",
              "      <td>NaN</td>\n",
              "      <td>6735.000000</td>\n",
              "      <td>409.680000</td>\n",
              "    </tr>\n",
              "  </tbody>\n",
              "</table>\n",
              "</div>"
            ],
            "text/plain": [
              "                                order_id  order_item_id  \\\n",
              "count                             112650  112650.000000   \n",
              "unique                             98666            NaN   \n",
              "top     8272b63d03f5f79c56e9e4120aec44ef            NaN   \n",
              "freq                                  21            NaN   \n",
              "mean                                 NaN       1.197834   \n",
              "std                                  NaN       0.705124   \n",
              "min                                  NaN       1.000000   \n",
              "25%                                  NaN       1.000000   \n",
              "50%                                  NaN       1.000000   \n",
              "75%                                  NaN       1.000000   \n",
              "max                                  NaN      21.000000   \n",
              "\n",
              "                              product_id                         seller_id  \\\n",
              "count                             112650                            112650   \n",
              "unique                             32951                              3095   \n",
              "top     aca2eb7d00ea1a7b8ebd4e68314663af  6560211a19b47992c3666cc44a7e94c0   \n",
              "freq                                 527                              2033   \n",
              "mean                                 NaN                               NaN   \n",
              "std                                  NaN                               NaN   \n",
              "min                                  NaN                               NaN   \n",
              "25%                                  NaN                               NaN   \n",
              "50%                                  NaN                               NaN   \n",
              "75%                                  NaN                               NaN   \n",
              "max                                  NaN                               NaN   \n",
              "\n",
              "        shipping_limit_date          price  freight_value  \n",
              "count                112650  112650.000000  112650.000000  \n",
              "unique                93318            NaN            NaN  \n",
              "top     2017-07-21 18:25:23            NaN            NaN  \n",
              "freq                     21            NaN            NaN  \n",
              "mean                    NaN     120.653739      19.990320  \n",
              "std                     NaN     183.633928      15.806405  \n",
              "min                     NaN       0.850000       0.000000  \n",
              "25%                     NaN      39.900000      13.080000  \n",
              "50%                     NaN      74.990000      16.260000  \n",
              "75%                     NaN     134.900000      21.150000  \n",
              "max                     NaN    6735.000000     409.680000  "
            ]
          },
          "execution_count": 81,
          "metadata": {},
          "output_type": "execute_result"
        }
      ],
      "source": [
        "order_items_df_ziid.describe(include=\"all\")"
      ]
    },
    {
      "cell_type": "code",
      "execution_count": 82,
      "metadata": {
        "colab": {
          "base_uri": "https://localhost:8080/",
          "height": 490
        },
        "id": "wUGdCVs3L2ZI",
        "outputId": "c495101c-920b-492a-ab24-ea68878c3ea8"
      },
      "outputs": [
        {
          "data": {
            "text/plain": [
              "product_id\n",
              "00066f42aeeb9f3007548bb9d3f33c38    1\n",
              "00088930e925c41fd95ebfe695fd2655    1\n",
              "0009406fd7479715e4bef61dd91f2462    1\n",
              "000b8f95fcb9e0096488278317764d19    2\n",
              "000d9be29b5207b54e86aa1b1ac54872    1\n",
              "                                   ..\n",
              "fff6177642830a9a94a0f2cba5e476d1    2\n",
              "fff81cc3158d2725c0655ab9ba0f712c    1\n",
              "fff9553ac224cec9d15d49f5a263411f    1\n",
              "fffdb2d0ec8d6a61f0a0a0db3f25b441    5\n",
              "fffe9eeff12fcbd74a2f2b007dde0c58    1\n",
              "Name: order_item_id, Length: 32951, dtype: int64"
            ]
          },
          "execution_count": 82,
          "metadata": {},
          "output_type": "execute_result"
        }
      ],
      "source": [
        "order_items_df_ziid.groupby(by=\"product_id\").order_item_id.count()"
      ]
    },
    {
      "cell_type": "markdown",
      "metadata": {
        "id": "vENwJJZrGSXs"
      },
      "source": [
        "####Explore `products_df_ziid`\n"
      ]
    },
    {
      "cell_type": "code",
      "execution_count": 83,
      "metadata": {
        "colab": {
          "base_uri": "https://localhost:8080/",
          "height": 226
        },
        "id": "DqcCtPypMxxf",
        "outputId": "654bf883-d306-4ad1-cc84-9eca032af6bb"
      },
      "outputs": [
        {
          "data": {
            "text/html": [
              "<div>\n",
              "<style scoped>\n",
              "    .dataframe tbody tr th:only-of-type {\n",
              "        vertical-align: middle;\n",
              "    }\n",
              "\n",
              "    .dataframe tbody tr th {\n",
              "        vertical-align: top;\n",
              "    }\n",
              "\n",
              "    .dataframe thead th {\n",
              "        text-align: right;\n",
              "    }\n",
              "</style>\n",
              "<table border=\"1\" class=\"dataframe\">\n",
              "  <thead>\n",
              "    <tr style=\"text-align: right;\">\n",
              "      <th></th>\n",
              "      <th>product_id</th>\n",
              "      <th>product_category_name</th>\n",
              "      <th>product_name_lenght</th>\n",
              "      <th>product_description_lenght</th>\n",
              "      <th>product_photos_qty</th>\n",
              "      <th>product_weight_g</th>\n",
              "      <th>product_length_cm</th>\n",
              "      <th>product_height_cm</th>\n",
              "      <th>product_width_cm</th>\n",
              "    </tr>\n",
              "  </thead>\n",
              "  <tbody>\n",
              "    <tr>\n",
              "      <th>15839</th>\n",
              "      <td>62c89abe1afe3a23c17765d462718a4c</td>\n",
              "      <td>perfumaria</td>\n",
              "      <td>51.0</td>\n",
              "      <td>805.0</td>\n",
              "      <td>1.0</td>\n",
              "      <td>540.0</td>\n",
              "      <td>23.0</td>\n",
              "      <td>13.0</td>\n",
              "      <td>19.0</td>\n",
              "    </tr>\n",
              "    <tr>\n",
              "      <th>25648</th>\n",
              "      <td>9cb406e79e6c2918987297be991b3aec</td>\n",
              "      <td>climatizacao</td>\n",
              "      <td>53.0</td>\n",
              "      <td>568.0</td>\n",
              "      <td>2.0</td>\n",
              "      <td>200.0</td>\n",
              "      <td>20.0</td>\n",
              "      <td>15.0</td>\n",
              "      <td>15.0</td>\n",
              "    </tr>\n",
              "    <tr>\n",
              "      <th>15267</th>\n",
              "      <td>ad2cfa7f56da484302e01318376548a3</td>\n",
              "      <td>bebes</td>\n",
              "      <td>42.0</td>\n",
              "      <td>357.0</td>\n",
              "      <td>1.0</td>\n",
              "      <td>2950.0</td>\n",
              "      <td>30.0</td>\n",
              "      <td>10.0</td>\n",
              "      <td>40.0</td>\n",
              "    </tr>\n",
              "    <tr>\n",
              "      <th>29658</th>\n",
              "      <td>c4b8fa873cd5c5a132af8e9a885f9a0d</td>\n",
              "      <td>esporte_lazer</td>\n",
              "      <td>46.0</td>\n",
              "      <td>554.0</td>\n",
              "      <td>2.0</td>\n",
              "      <td>400.0</td>\n",
              "      <td>31.0</td>\n",
              "      <td>10.0</td>\n",
              "      <td>35.0</td>\n",
              "    </tr>\n",
              "    <tr>\n",
              "      <th>6422</th>\n",
              "      <td>5c6c4fa2f1b889828de998df18214af7</td>\n",
              "      <td>informatica_acessorios</td>\n",
              "      <td>52.0</td>\n",
              "      <td>791.0</td>\n",
              "      <td>2.0</td>\n",
              "      <td>510.0</td>\n",
              "      <td>18.0</td>\n",
              "      <td>17.0</td>\n",
              "      <td>13.0</td>\n",
              "    </tr>\n",
              "  </tbody>\n",
              "</table>\n",
              "</div>"
            ],
            "text/plain": [
              "                             product_id   product_category_name  \\\n",
              "15839  62c89abe1afe3a23c17765d462718a4c              perfumaria   \n",
              "25648  9cb406e79e6c2918987297be991b3aec            climatizacao   \n",
              "15267  ad2cfa7f56da484302e01318376548a3                   bebes   \n",
              "29658  c4b8fa873cd5c5a132af8e9a885f9a0d           esporte_lazer   \n",
              "6422   5c6c4fa2f1b889828de998df18214af7  informatica_acessorios   \n",
              "\n",
              "       product_name_lenght  product_description_lenght  product_photos_qty  \\\n",
              "15839                 51.0                       805.0                 1.0   \n",
              "25648                 53.0                       568.0                 2.0   \n",
              "15267                 42.0                       357.0                 1.0   \n",
              "29658                 46.0                       554.0                 2.0   \n",
              "6422                  52.0                       791.0                 2.0   \n",
              "\n",
              "       product_weight_g  product_length_cm  product_height_cm  \\\n",
              "15839             540.0               23.0               13.0   \n",
              "25648             200.0               20.0               15.0   \n",
              "15267            2950.0               30.0               10.0   \n",
              "29658             400.0               31.0               10.0   \n",
              "6422              510.0               18.0               17.0   \n",
              "\n",
              "       product_width_cm  \n",
              "15839              19.0  \n",
              "25648              15.0  \n",
              "15267              40.0  \n",
              "29658              35.0  \n",
              "6422               13.0  "
            ]
          },
          "execution_count": 83,
          "metadata": {},
          "output_type": "execute_result"
        }
      ],
      "source": [
        "products_df_ziid.sample(5)"
      ]
    },
    {
      "cell_type": "code",
      "execution_count": 84,
      "metadata": {
        "colab": {
          "base_uri": "https://localhost:8080/",
          "height": 414
        },
        "id": "IBfyjZUrM00e",
        "outputId": "15ecd0dd-9553-4981-aa59-907a935cf23f"
      },
      "outputs": [
        {
          "data": {
            "text/html": [
              "<div>\n",
              "<style scoped>\n",
              "    .dataframe tbody tr th:only-of-type {\n",
              "        vertical-align: middle;\n",
              "    }\n",
              "\n",
              "    .dataframe tbody tr th {\n",
              "        vertical-align: top;\n",
              "    }\n",
              "\n",
              "    .dataframe thead th {\n",
              "        text-align: right;\n",
              "    }\n",
              "</style>\n",
              "<table border=\"1\" class=\"dataframe\">\n",
              "  <thead>\n",
              "    <tr style=\"text-align: right;\">\n",
              "      <th></th>\n",
              "      <th>product_id</th>\n",
              "      <th>product_category_name</th>\n",
              "      <th>product_name_lenght</th>\n",
              "      <th>product_description_lenght</th>\n",
              "      <th>product_photos_qty</th>\n",
              "      <th>product_weight_g</th>\n",
              "      <th>product_length_cm</th>\n",
              "      <th>product_height_cm</th>\n",
              "      <th>product_width_cm</th>\n",
              "    </tr>\n",
              "  </thead>\n",
              "  <tbody>\n",
              "    <tr>\n",
              "      <th>count</th>\n",
              "      <td>32340</td>\n",
              "      <td>32340</td>\n",
              "      <td>32340.000000</td>\n",
              "      <td>32340.000000</td>\n",
              "      <td>32340.000000</td>\n",
              "      <td>32340.000000</td>\n",
              "      <td>32340.000000</td>\n",
              "      <td>32340.000000</td>\n",
              "      <td>32340.000000</td>\n",
              "    </tr>\n",
              "    <tr>\n",
              "      <th>unique</th>\n",
              "      <td>32340</td>\n",
              "      <td>73</td>\n",
              "      <td>NaN</td>\n",
              "      <td>NaN</td>\n",
              "      <td>NaN</td>\n",
              "      <td>NaN</td>\n",
              "      <td>NaN</td>\n",
              "      <td>NaN</td>\n",
              "      <td>NaN</td>\n",
              "    </tr>\n",
              "    <tr>\n",
              "      <th>top</th>\n",
              "      <td>106392145fca363410d287a815be6de4</td>\n",
              "      <td>cama_mesa_banho</td>\n",
              "      <td>NaN</td>\n",
              "      <td>NaN</td>\n",
              "      <td>NaN</td>\n",
              "      <td>NaN</td>\n",
              "      <td>NaN</td>\n",
              "      <td>NaN</td>\n",
              "      <td>NaN</td>\n",
              "    </tr>\n",
              "    <tr>\n",
              "      <th>freq</th>\n",
              "      <td>1</td>\n",
              "      <td>3029</td>\n",
              "      <td>NaN</td>\n",
              "      <td>NaN</td>\n",
              "      <td>NaN</td>\n",
              "      <td>NaN</td>\n",
              "      <td>NaN</td>\n",
              "      <td>NaN</td>\n",
              "      <td>NaN</td>\n",
              "    </tr>\n",
              "    <tr>\n",
              "      <th>mean</th>\n",
              "      <td>NaN</td>\n",
              "      <td>NaN</td>\n",
              "      <td>48.476592</td>\n",
              "      <td>771.492393</td>\n",
              "      <td>2.188961</td>\n",
              "      <td>2276.956586</td>\n",
              "      <td>30.854545</td>\n",
              "      <td>16.958813</td>\n",
              "      <td>23.208596</td>\n",
              "    </tr>\n",
              "    <tr>\n",
              "      <th>std</th>\n",
              "      <td>NaN</td>\n",
              "      <td>NaN</td>\n",
              "      <td>10.245699</td>\n",
              "      <td>635.124831</td>\n",
              "      <td>1.736787</td>\n",
              "      <td>4279.291845</td>\n",
              "      <td>16.955965</td>\n",
              "      <td>13.636115</td>\n",
              "      <td>12.078762</td>\n",
              "    </tr>\n",
              "    <tr>\n",
              "      <th>min</th>\n",
              "      <td>NaN</td>\n",
              "      <td>NaN</td>\n",
              "      <td>5.000000</td>\n",
              "      <td>4.000000</td>\n",
              "      <td>1.000000</td>\n",
              "      <td>0.000000</td>\n",
              "      <td>7.000000</td>\n",
              "      <td>2.000000</td>\n",
              "      <td>6.000000</td>\n",
              "    </tr>\n",
              "    <tr>\n",
              "      <th>25%</th>\n",
              "      <td>NaN</td>\n",
              "      <td>NaN</td>\n",
              "      <td>42.000000</td>\n",
              "      <td>339.000000</td>\n",
              "      <td>1.000000</td>\n",
              "      <td>300.000000</td>\n",
              "      <td>18.000000</td>\n",
              "      <td>8.000000</td>\n",
              "      <td>15.000000</td>\n",
              "    </tr>\n",
              "    <tr>\n",
              "      <th>50%</th>\n",
              "      <td>NaN</td>\n",
              "      <td>NaN</td>\n",
              "      <td>51.000000</td>\n",
              "      <td>595.000000</td>\n",
              "      <td>1.000000</td>\n",
              "      <td>700.000000</td>\n",
              "      <td>25.000000</td>\n",
              "      <td>13.000000</td>\n",
              "      <td>20.000000</td>\n",
              "    </tr>\n",
              "    <tr>\n",
              "      <th>75%</th>\n",
              "      <td>NaN</td>\n",
              "      <td>NaN</td>\n",
              "      <td>57.000000</td>\n",
              "      <td>972.000000</td>\n",
              "      <td>3.000000</td>\n",
              "      <td>1900.000000</td>\n",
              "      <td>38.000000</td>\n",
              "      <td>21.000000</td>\n",
              "      <td>30.000000</td>\n",
              "    </tr>\n",
              "    <tr>\n",
              "      <th>max</th>\n",
              "      <td>NaN</td>\n",
              "      <td>NaN</td>\n",
              "      <td>76.000000</td>\n",
              "      <td>3992.000000</td>\n",
              "      <td>20.000000</td>\n",
              "      <td>40425.000000</td>\n",
              "      <td>105.000000</td>\n",
              "      <td>105.000000</td>\n",
              "      <td>118.000000</td>\n",
              "    </tr>\n",
              "  </tbody>\n",
              "</table>\n",
              "</div>"
            ],
            "text/plain": [
              "                              product_id product_category_name  \\\n",
              "count                              32340                 32340   \n",
              "unique                             32340                    73   \n",
              "top     106392145fca363410d287a815be6de4       cama_mesa_banho   \n",
              "freq                                   1                  3029   \n",
              "mean                                 NaN                   NaN   \n",
              "std                                  NaN                   NaN   \n",
              "min                                  NaN                   NaN   \n",
              "25%                                  NaN                   NaN   \n",
              "50%                                  NaN                   NaN   \n",
              "75%                                  NaN                   NaN   \n",
              "max                                  NaN                   NaN   \n",
              "\n",
              "        product_name_lenght  product_description_lenght  product_photos_qty  \\\n",
              "count          32340.000000                32340.000000        32340.000000   \n",
              "unique                  NaN                         NaN                 NaN   \n",
              "top                     NaN                         NaN                 NaN   \n",
              "freq                    NaN                         NaN                 NaN   \n",
              "mean              48.476592                  771.492393            2.188961   \n",
              "std               10.245699                  635.124831            1.736787   \n",
              "min                5.000000                    4.000000            1.000000   \n",
              "25%               42.000000                  339.000000            1.000000   \n",
              "50%               51.000000                  595.000000            1.000000   \n",
              "75%               57.000000                  972.000000            3.000000   \n",
              "max               76.000000                 3992.000000           20.000000   \n",
              "\n",
              "        product_weight_g  product_length_cm  product_height_cm  \\\n",
              "count       32340.000000       32340.000000       32340.000000   \n",
              "unique               NaN                NaN                NaN   \n",
              "top                  NaN                NaN                NaN   \n",
              "freq                 NaN                NaN                NaN   \n",
              "mean         2276.956586          30.854545          16.958813   \n",
              "std          4279.291845          16.955965          13.636115   \n",
              "min             0.000000           7.000000           2.000000   \n",
              "25%           300.000000          18.000000           8.000000   \n",
              "50%           700.000000          25.000000          13.000000   \n",
              "75%          1900.000000          38.000000          21.000000   \n",
              "max         40425.000000         105.000000         105.000000   \n",
              "\n",
              "        product_width_cm  \n",
              "count       32340.000000  \n",
              "unique               NaN  \n",
              "top                  NaN  \n",
              "freq                 NaN  \n",
              "mean           23.208596  \n",
              "std            12.078762  \n",
              "min             6.000000  \n",
              "25%            15.000000  \n",
              "50%            20.000000  \n",
              "75%            30.000000  \n",
              "max           118.000000  "
            ]
          },
          "execution_count": 84,
          "metadata": {},
          "output_type": "execute_result"
        }
      ],
      "source": [
        "products_df_ziid.describe(include=\"all\")"
      ]
    },
    {
      "cell_type": "markdown",
      "metadata": {
        "id": "AEiiP-a_GZQc"
      },
      "source": [
        "####Explore `product_category_name_df_ziid`\n"
      ]
    },
    {
      "cell_type": "code",
      "execution_count": 85,
      "metadata": {
        "colab": {
          "base_uri": "https://localhost:8080/",
          "height": 206
        },
        "id": "Gsmi2mogNHQW",
        "outputId": "0acb6c74-5e66-4797-ae8b-e3c2ef7b3ca6"
      },
      "outputs": [
        {
          "data": {
            "text/html": [
              "<div>\n",
              "<style scoped>\n",
              "    .dataframe tbody tr th:only-of-type {\n",
              "        vertical-align: middle;\n",
              "    }\n",
              "\n",
              "    .dataframe tbody tr th {\n",
              "        vertical-align: top;\n",
              "    }\n",
              "\n",
              "    .dataframe thead th {\n",
              "        text-align: right;\n",
              "    }\n",
              "</style>\n",
              "<table border=\"1\" class=\"dataframe\">\n",
              "  <thead>\n",
              "    <tr style=\"text-align: right;\">\n",
              "      <th></th>\n",
              "      <th>product_category_name</th>\n",
              "      <th>product_category_name_english</th>\n",
              "    </tr>\n",
              "  </thead>\n",
              "  <tbody>\n",
              "    <tr>\n",
              "      <th>10</th>\n",
              "      <td>alimentos_bebidas</td>\n",
              "      <td>food_drink</td>\n",
              "    </tr>\n",
              "    <tr>\n",
              "      <th>7</th>\n",
              "      <td>utilidades_domesticas</td>\n",
              "      <td>housewares</td>\n",
              "    </tr>\n",
              "    <tr>\n",
              "      <th>21</th>\n",
              "      <td>fashion_calcados</td>\n",
              "      <td>fashion_shoes</td>\n",
              "    </tr>\n",
              "    <tr>\n",
              "      <th>36</th>\n",
              "      <td>construcao_ferramentas_ferramentas</td>\n",
              "      <td>costruction_tools_tools</td>\n",
              "    </tr>\n",
              "    <tr>\n",
              "      <th>15</th>\n",
              "      <td>telefonia_fixa</td>\n",
              "      <td>fixed_telephony</td>\n",
              "    </tr>\n",
              "  </tbody>\n",
              "</table>\n",
              "</div>"
            ],
            "text/plain": [
              "                 product_category_name product_category_name_english\n",
              "10                   alimentos_bebidas                    food_drink\n",
              "7                utilidades_domesticas                    housewares\n",
              "21                    fashion_calcados                 fashion_shoes\n",
              "36  construcao_ferramentas_ferramentas       costruction_tools_tools\n",
              "15                      telefonia_fixa               fixed_telephony"
            ]
          },
          "execution_count": 85,
          "metadata": {},
          "output_type": "execute_result"
        }
      ],
      "source": [
        "product_category_name_df_ziid.sample(5)"
      ]
    },
    {
      "cell_type": "code",
      "execution_count": 86,
      "metadata": {
        "colab": {
          "base_uri": "https://localhost:8080/",
          "height": 175
        },
        "id": "ldbVdw8NNMPe",
        "outputId": "639fe522-4b47-4681-a341-370d95cae4d2"
      },
      "outputs": [
        {
          "data": {
            "text/html": [
              "<div>\n",
              "<style scoped>\n",
              "    .dataframe tbody tr th:only-of-type {\n",
              "        vertical-align: middle;\n",
              "    }\n",
              "\n",
              "    .dataframe tbody tr th {\n",
              "        vertical-align: top;\n",
              "    }\n",
              "\n",
              "    .dataframe thead th {\n",
              "        text-align: right;\n",
              "    }\n",
              "</style>\n",
              "<table border=\"1\" class=\"dataframe\">\n",
              "  <thead>\n",
              "    <tr style=\"text-align: right;\">\n",
              "      <th></th>\n",
              "      <th>product_category_name</th>\n",
              "      <th>product_category_name_english</th>\n",
              "    </tr>\n",
              "  </thead>\n",
              "  <tbody>\n",
              "    <tr>\n",
              "      <th>count</th>\n",
              "      <td>71</td>\n",
              "      <td>71</td>\n",
              "    </tr>\n",
              "    <tr>\n",
              "      <th>unique</th>\n",
              "      <td>71</td>\n",
              "      <td>71</td>\n",
              "    </tr>\n",
              "    <tr>\n",
              "      <th>top</th>\n",
              "      <td>beleza_saude</td>\n",
              "      <td>health_beauty</td>\n",
              "    </tr>\n",
              "    <tr>\n",
              "      <th>freq</th>\n",
              "      <td>1</td>\n",
              "      <td>1</td>\n",
              "    </tr>\n",
              "  </tbody>\n",
              "</table>\n",
              "</div>"
            ],
            "text/plain": [
              "       product_category_name product_category_name_english\n",
              "count                     71                            71\n",
              "unique                    71                            71\n",
              "top             beleza_saude                 health_beauty\n",
              "freq                       1                             1"
            ]
          },
          "execution_count": 86,
          "metadata": {},
          "output_type": "execute_result"
        }
      ],
      "source": [
        "product_category_name_df_ziid.describe(include=\"all\")"
      ]
    },
    {
      "cell_type": "markdown",
      "metadata": {
        "id": "Ojd6bOBJNQg6"
      },
      "source": [
        "####Explore penggabungan data\n"
      ]
    },
    {
      "cell_type": "markdown",
      "metadata": {
        "id": "bXdjJrVVNd27"
      },
      "source": [
        "#####Menggabungkan data `customers_df_ziid` dan `orders_df_ziid`\n"
      ]
    },
    {
      "cell_type": "code",
      "execution_count": 87,
      "metadata": {
        "colab": {
          "base_uri": "https://localhost:8080/",
          "height": 261
        },
        "id": "7aHMbk9oNpQs",
        "outputId": "d1c4481d-48fe-4b0c-cbe8-0aae140f24c7"
      },
      "outputs": [
        {
          "data": {
            "text/html": [
              "<div>\n",
              "<style scoped>\n",
              "    .dataframe tbody tr th:only-of-type {\n",
              "        vertical-align: middle;\n",
              "    }\n",
              "\n",
              "    .dataframe tbody tr th {\n",
              "        vertical-align: top;\n",
              "    }\n",
              "\n",
              "    .dataframe thead th {\n",
              "        text-align: right;\n",
              "    }\n",
              "</style>\n",
              "<table border=\"1\" class=\"dataframe\">\n",
              "  <thead>\n",
              "    <tr style=\"text-align: right;\">\n",
              "      <th></th>\n",
              "      <th>customer_id</th>\n",
              "      <th>customer_unique_id</th>\n",
              "      <th>customer_zip_code_prefix</th>\n",
              "      <th>customer_city</th>\n",
              "      <th>customer_state</th>\n",
              "      <th>order_id</th>\n",
              "      <th>order_status</th>\n",
              "      <th>order_purchase_timestamp</th>\n",
              "      <th>order_approved_at</th>\n",
              "      <th>order_delivered_carrier_date</th>\n",
              "      <th>order_delivered_customer_date</th>\n",
              "      <th>order_estimated_delivery_date</th>\n",
              "    </tr>\n",
              "  </thead>\n",
              "  <tbody>\n",
              "    <tr>\n",
              "      <th>0</th>\n",
              "      <td>06b8999e2fba1a1fbc88172c00ba8bc7</td>\n",
              "      <td>861eff4711a542e4b93843c6dd7febb0</td>\n",
              "      <td>14409</td>\n",
              "      <td>franca</td>\n",
              "      <td>SP</td>\n",
              "      <td>00e7ee1b050b8499577073aeb2a297a1</td>\n",
              "      <td>delivered</td>\n",
              "      <td>2017-05-16 15:05:35</td>\n",
              "      <td>2017-05-16 15:22:12</td>\n",
              "      <td>2017-05-23 10:47:57</td>\n",
              "      <td>2017-05-25 10:35:35</td>\n",
              "      <td>2017-06-05 00:00:00</td>\n",
              "    </tr>\n",
              "    <tr>\n",
              "      <th>1</th>\n",
              "      <td>18955e83d337fd6b2def6b18a428ac77</td>\n",
              "      <td>290c77bc529b7ac935b93aa66c333dc3</td>\n",
              "      <td>9790</td>\n",
              "      <td>sao bernardo do campo</td>\n",
              "      <td>SP</td>\n",
              "      <td>29150127e6685892b6eab3eec79f59c7</td>\n",
              "      <td>delivered</td>\n",
              "      <td>2018-01-12 20:48:24</td>\n",
              "      <td>2018-01-12 20:58:32</td>\n",
              "      <td>2018-01-15 17:14:59</td>\n",
              "      <td>2018-01-29 12:41:19</td>\n",
              "      <td>2018-02-06 00:00:00</td>\n",
              "    </tr>\n",
              "    <tr>\n",
              "      <th>2</th>\n",
              "      <td>4e7b3e00288586ebd08712fdd0374a03</td>\n",
              "      <td>060e732b5b29e8181a18229c7b0b2b5e</td>\n",
              "      <td>1151</td>\n",
              "      <td>sao paulo</td>\n",
              "      <td>SP</td>\n",
              "      <td>b2059ed67ce144a36e2aa97d2c9e9ad2</td>\n",
              "      <td>delivered</td>\n",
              "      <td>2018-05-19 16:07:45</td>\n",
              "      <td>2018-05-20 16:19:10</td>\n",
              "      <td>2018-06-11 14:31:00</td>\n",
              "      <td>2018-06-14 17:58:51</td>\n",
              "      <td>2018-06-13 00:00:00</td>\n",
              "    </tr>\n",
              "    <tr>\n",
              "      <th>3</th>\n",
              "      <td>b2b6027bc5c5109e529d4dc6358b12c3</td>\n",
              "      <td>259dac757896d24d7702b9acbbff3f3c</td>\n",
              "      <td>8775</td>\n",
              "      <td>mogi das cruzes</td>\n",
              "      <td>SP</td>\n",
              "      <td>951670f92359f4fe4a63112aa7306eba</td>\n",
              "      <td>delivered</td>\n",
              "      <td>2018-03-13 16:06:38</td>\n",
              "      <td>2018-03-13 17:29:19</td>\n",
              "      <td>2018-03-27 23:22:42</td>\n",
              "      <td>2018-03-28 16:04:25</td>\n",
              "      <td>2018-04-10 00:00:00</td>\n",
              "    </tr>\n",
              "    <tr>\n",
              "      <th>4</th>\n",
              "      <td>4f2d8ab171c80ec8364f7c12e35b23ad</td>\n",
              "      <td>345ecd01c38d18a9036ed96c73b8d066</td>\n",
              "      <td>13056</td>\n",
              "      <td>campinas</td>\n",
              "      <td>SP</td>\n",
              "      <td>6b7d50bd145f6fc7f33cebabd7e49d0f</td>\n",
              "      <td>delivered</td>\n",
              "      <td>2018-07-29 09:51:30</td>\n",
              "      <td>2018-07-29 10:10:09</td>\n",
              "      <td>2018-07-30 15:16:00</td>\n",
              "      <td>2018-08-09 20:55:48</td>\n",
              "      <td>2018-08-15 00:00:00</td>\n",
              "    </tr>\n",
              "  </tbody>\n",
              "</table>\n",
              "</div>"
            ],
            "text/plain": [
              "                        customer_id                customer_unique_id  \\\n",
              "0  06b8999e2fba1a1fbc88172c00ba8bc7  861eff4711a542e4b93843c6dd7febb0   \n",
              "1  18955e83d337fd6b2def6b18a428ac77  290c77bc529b7ac935b93aa66c333dc3   \n",
              "2  4e7b3e00288586ebd08712fdd0374a03  060e732b5b29e8181a18229c7b0b2b5e   \n",
              "3  b2b6027bc5c5109e529d4dc6358b12c3  259dac757896d24d7702b9acbbff3f3c   \n",
              "4  4f2d8ab171c80ec8364f7c12e35b23ad  345ecd01c38d18a9036ed96c73b8d066   \n",
              "\n",
              "   customer_zip_code_prefix          customer_city customer_state  \\\n",
              "0                     14409                 franca             SP   \n",
              "1                      9790  sao bernardo do campo             SP   \n",
              "2                      1151              sao paulo             SP   \n",
              "3                      8775        mogi das cruzes             SP   \n",
              "4                     13056               campinas             SP   \n",
              "\n",
              "                           order_id order_status order_purchase_timestamp  \\\n",
              "0  00e7ee1b050b8499577073aeb2a297a1    delivered      2017-05-16 15:05:35   \n",
              "1  29150127e6685892b6eab3eec79f59c7    delivered      2018-01-12 20:48:24   \n",
              "2  b2059ed67ce144a36e2aa97d2c9e9ad2    delivered      2018-05-19 16:07:45   \n",
              "3  951670f92359f4fe4a63112aa7306eba    delivered      2018-03-13 16:06:38   \n",
              "4  6b7d50bd145f6fc7f33cebabd7e49d0f    delivered      2018-07-29 09:51:30   \n",
              "\n",
              "     order_approved_at order_delivered_carrier_date  \\\n",
              "0  2017-05-16 15:22:12          2017-05-23 10:47:57   \n",
              "1  2018-01-12 20:58:32          2018-01-15 17:14:59   \n",
              "2  2018-05-20 16:19:10          2018-06-11 14:31:00   \n",
              "3  2018-03-13 17:29:19          2018-03-27 23:22:42   \n",
              "4  2018-07-29 10:10:09          2018-07-30 15:16:00   \n",
              "\n",
              "  order_delivered_customer_date order_estimated_delivery_date  \n",
              "0           2017-05-25 10:35:35           2017-06-05 00:00:00  \n",
              "1           2018-01-29 12:41:19           2018-02-06 00:00:00  \n",
              "2           2018-06-14 17:58:51           2018-06-13 00:00:00  \n",
              "3           2018-03-28 16:04:25           2018-04-10 00:00:00  \n",
              "4           2018-08-09 20:55:48           2018-08-15 00:00:00  "
            ]
          },
          "execution_count": 87,
          "metadata": {},
          "output_type": "execute_result"
        }
      ],
      "source": [
        "gabungan_df = pd.merge(customers_df_ziid, orders_df_ziid, on='customer_id', how='inner')\n",
        "gabungan_df.head()"
      ]
    },
    {
      "cell_type": "code",
      "execution_count": 88,
      "metadata": {
        "colab": {
          "base_uri": "https://localhost:8080/",
          "height": 429
        },
        "id": "CL8EA-aDOAQE",
        "outputId": "11933589-a2d9-4452-f71e-7bdcc051e7a7"
      },
      "outputs": [
        {
          "data": {
            "text/plain": [
              "customer_state\n",
              "SP    40488\n",
              "RJ    12348\n",
              "MG    11351\n",
              "RS     5342\n",
              "PR     4923\n",
              "SC     3546\n",
              "BA     3256\n",
              "DF     2080\n",
              "ES     1995\n",
              "GO     1957\n",
              "Name: order_id, dtype: int64"
            ]
          },
          "execution_count": 88,
          "metadata": {},
          "output_type": "execute_result"
        }
      ],
      "source": [
        "gabungan_df.groupby(by=\"customer_state\").order_id.nunique().sort_values(ascending=False).head(10)"
      ]
    },
    {
      "cell_type": "markdown",
      "metadata": {
        "id": "io-UPq1iOtAJ"
      },
      "source": [
        "#####Menggabungkan data `gabungan_df` dan `order_payments_df_ziid`\n"
      ]
    },
    {
      "cell_type": "code",
      "execution_count": 89,
      "metadata": {
        "colab": {
          "base_uri": "https://localhost:8080/",
          "height": 261
        },
        "id": "SElhxM56PMVg",
        "outputId": "ba8d9763-6aeb-4c2c-e255-31a64d90efd2"
      },
      "outputs": [
        {
          "data": {
            "text/html": [
              "<div>\n",
              "<style scoped>\n",
              "    .dataframe tbody tr th:only-of-type {\n",
              "        vertical-align: middle;\n",
              "    }\n",
              "\n",
              "    .dataframe tbody tr th {\n",
              "        vertical-align: top;\n",
              "    }\n",
              "\n",
              "    .dataframe thead th {\n",
              "        text-align: right;\n",
              "    }\n",
              "</style>\n",
              "<table border=\"1\" class=\"dataframe\">\n",
              "  <thead>\n",
              "    <tr style=\"text-align: right;\">\n",
              "      <th></th>\n",
              "      <th>customer_id</th>\n",
              "      <th>customer_unique_id</th>\n",
              "      <th>customer_zip_code_prefix</th>\n",
              "      <th>customer_city</th>\n",
              "      <th>customer_state</th>\n",
              "      <th>order_id</th>\n",
              "      <th>order_status</th>\n",
              "      <th>order_purchase_timestamp</th>\n",
              "      <th>order_approved_at</th>\n",
              "      <th>order_delivered_carrier_date</th>\n",
              "      <th>order_delivered_customer_date</th>\n",
              "      <th>order_estimated_delivery_date</th>\n",
              "      <th>payment_sequential</th>\n",
              "      <th>payment_type</th>\n",
              "      <th>payment_installments</th>\n",
              "      <th>payment_value</th>\n",
              "    </tr>\n",
              "  </thead>\n",
              "  <tbody>\n",
              "    <tr>\n",
              "      <th>0</th>\n",
              "      <td>06b8999e2fba1a1fbc88172c00ba8bc7</td>\n",
              "      <td>861eff4711a542e4b93843c6dd7febb0</td>\n",
              "      <td>14409</td>\n",
              "      <td>franca</td>\n",
              "      <td>SP</td>\n",
              "      <td>00e7ee1b050b8499577073aeb2a297a1</td>\n",
              "      <td>delivered</td>\n",
              "      <td>2017-05-16 15:05:35</td>\n",
              "      <td>2017-05-16 15:22:12</td>\n",
              "      <td>2017-05-23 10:47:57</td>\n",
              "      <td>2017-05-25 10:35:35</td>\n",
              "      <td>2017-06-05 00:00:00</td>\n",
              "      <td>1</td>\n",
              "      <td>credit_card</td>\n",
              "      <td>2</td>\n",
              "      <td>146.87</td>\n",
              "    </tr>\n",
              "    <tr>\n",
              "      <th>1</th>\n",
              "      <td>18955e83d337fd6b2def6b18a428ac77</td>\n",
              "      <td>290c77bc529b7ac935b93aa66c333dc3</td>\n",
              "      <td>9790</td>\n",
              "      <td>sao bernardo do campo</td>\n",
              "      <td>SP</td>\n",
              "      <td>29150127e6685892b6eab3eec79f59c7</td>\n",
              "      <td>delivered</td>\n",
              "      <td>2018-01-12 20:48:24</td>\n",
              "      <td>2018-01-12 20:58:32</td>\n",
              "      <td>2018-01-15 17:14:59</td>\n",
              "      <td>2018-01-29 12:41:19</td>\n",
              "      <td>2018-02-06 00:00:00</td>\n",
              "      <td>1</td>\n",
              "      <td>credit_card</td>\n",
              "      <td>8</td>\n",
              "      <td>335.48</td>\n",
              "    </tr>\n",
              "    <tr>\n",
              "      <th>2</th>\n",
              "      <td>4e7b3e00288586ebd08712fdd0374a03</td>\n",
              "      <td>060e732b5b29e8181a18229c7b0b2b5e</td>\n",
              "      <td>1151</td>\n",
              "      <td>sao paulo</td>\n",
              "      <td>SP</td>\n",
              "      <td>b2059ed67ce144a36e2aa97d2c9e9ad2</td>\n",
              "      <td>delivered</td>\n",
              "      <td>2018-05-19 16:07:45</td>\n",
              "      <td>2018-05-20 16:19:10</td>\n",
              "      <td>2018-06-11 14:31:00</td>\n",
              "      <td>2018-06-14 17:58:51</td>\n",
              "      <td>2018-06-13 00:00:00</td>\n",
              "      <td>1</td>\n",
              "      <td>credit_card</td>\n",
              "      <td>7</td>\n",
              "      <td>157.73</td>\n",
              "    </tr>\n",
              "    <tr>\n",
              "      <th>3</th>\n",
              "      <td>b2b6027bc5c5109e529d4dc6358b12c3</td>\n",
              "      <td>259dac757896d24d7702b9acbbff3f3c</td>\n",
              "      <td>8775</td>\n",
              "      <td>mogi das cruzes</td>\n",
              "      <td>SP</td>\n",
              "      <td>951670f92359f4fe4a63112aa7306eba</td>\n",
              "      <td>delivered</td>\n",
              "      <td>2018-03-13 16:06:38</td>\n",
              "      <td>2018-03-13 17:29:19</td>\n",
              "      <td>2018-03-27 23:22:42</td>\n",
              "      <td>2018-03-28 16:04:25</td>\n",
              "      <td>2018-04-10 00:00:00</td>\n",
              "      <td>1</td>\n",
              "      <td>credit_card</td>\n",
              "      <td>1</td>\n",
              "      <td>173.30</td>\n",
              "    </tr>\n",
              "    <tr>\n",
              "      <th>4</th>\n",
              "      <td>4f2d8ab171c80ec8364f7c12e35b23ad</td>\n",
              "      <td>345ecd01c38d18a9036ed96c73b8d066</td>\n",
              "      <td>13056</td>\n",
              "      <td>campinas</td>\n",
              "      <td>SP</td>\n",
              "      <td>6b7d50bd145f6fc7f33cebabd7e49d0f</td>\n",
              "      <td>delivered</td>\n",
              "      <td>2018-07-29 09:51:30</td>\n",
              "      <td>2018-07-29 10:10:09</td>\n",
              "      <td>2018-07-30 15:16:00</td>\n",
              "      <td>2018-08-09 20:55:48</td>\n",
              "      <td>2018-08-15 00:00:00</td>\n",
              "      <td>1</td>\n",
              "      <td>credit_card</td>\n",
              "      <td>8</td>\n",
              "      <td>252.25</td>\n",
              "    </tr>\n",
              "  </tbody>\n",
              "</table>\n",
              "</div>"
            ],
            "text/plain": [
              "                        customer_id                customer_unique_id  \\\n",
              "0  06b8999e2fba1a1fbc88172c00ba8bc7  861eff4711a542e4b93843c6dd7febb0   \n",
              "1  18955e83d337fd6b2def6b18a428ac77  290c77bc529b7ac935b93aa66c333dc3   \n",
              "2  4e7b3e00288586ebd08712fdd0374a03  060e732b5b29e8181a18229c7b0b2b5e   \n",
              "3  b2b6027bc5c5109e529d4dc6358b12c3  259dac757896d24d7702b9acbbff3f3c   \n",
              "4  4f2d8ab171c80ec8364f7c12e35b23ad  345ecd01c38d18a9036ed96c73b8d066   \n",
              "\n",
              "   customer_zip_code_prefix          customer_city customer_state  \\\n",
              "0                     14409                 franca             SP   \n",
              "1                      9790  sao bernardo do campo             SP   \n",
              "2                      1151              sao paulo             SP   \n",
              "3                      8775        mogi das cruzes             SP   \n",
              "4                     13056               campinas             SP   \n",
              "\n",
              "                           order_id order_status order_purchase_timestamp  \\\n",
              "0  00e7ee1b050b8499577073aeb2a297a1    delivered      2017-05-16 15:05:35   \n",
              "1  29150127e6685892b6eab3eec79f59c7    delivered      2018-01-12 20:48:24   \n",
              "2  b2059ed67ce144a36e2aa97d2c9e9ad2    delivered      2018-05-19 16:07:45   \n",
              "3  951670f92359f4fe4a63112aa7306eba    delivered      2018-03-13 16:06:38   \n",
              "4  6b7d50bd145f6fc7f33cebabd7e49d0f    delivered      2018-07-29 09:51:30   \n",
              "\n",
              "     order_approved_at order_delivered_carrier_date  \\\n",
              "0  2017-05-16 15:22:12          2017-05-23 10:47:57   \n",
              "1  2018-01-12 20:58:32          2018-01-15 17:14:59   \n",
              "2  2018-05-20 16:19:10          2018-06-11 14:31:00   \n",
              "3  2018-03-13 17:29:19          2018-03-27 23:22:42   \n",
              "4  2018-07-29 10:10:09          2018-07-30 15:16:00   \n",
              "\n",
              "  order_delivered_customer_date order_estimated_delivery_date  \\\n",
              "0           2017-05-25 10:35:35           2017-06-05 00:00:00   \n",
              "1           2018-01-29 12:41:19           2018-02-06 00:00:00   \n",
              "2           2018-06-14 17:58:51           2018-06-13 00:00:00   \n",
              "3           2018-03-28 16:04:25           2018-04-10 00:00:00   \n",
              "4           2018-08-09 20:55:48           2018-08-15 00:00:00   \n",
              "\n",
              "   payment_sequential payment_type  payment_installments  payment_value  \n",
              "0                   1  credit_card                     2         146.87  \n",
              "1                   1  credit_card                     8         335.48  \n",
              "2                   1  credit_card                     7         157.73  \n",
              "3                   1  credit_card                     1         173.30  \n",
              "4                   1  credit_card                     8         252.25  "
            ]
          },
          "execution_count": 89,
          "metadata": {},
          "output_type": "execute_result"
        }
      ],
      "source": [
        "gabungan_df = pd.merge(gabungan_df, order_payments_df_ziid, on='order_id', how='inner')\n",
        "gabungan_df.head()"
      ]
    },
    {
      "cell_type": "markdown",
      "metadata": {
        "id": "ngwGsyNsV1sA"
      },
      "source": [
        "######Membuat filter untuk tahun 2017 dan mengelompokkan cicilan customer berdasarkan negara bagian\n"
      ]
    },
    {
      "cell_type": "code",
      "execution_count": 90,
      "metadata": {
        "id": "ButRD4VCPZVw"
      },
      "outputs": [],
      "source": [
        "gabungan_df['order_purchase_timestamp'] = pd.to_datetime(gabungan_df['order_purchase_timestamp'])"
      ]
    },
    {
      "cell_type": "markdown",
      "metadata": {
        "id": "nE_H6jWNhVbi"
      },
      "source": [
        "mengubah value order_purchase_timestamp menjadi data type date_time\n"
      ]
    },
    {
      "cell_type": "code",
      "execution_count": 91,
      "metadata": {
        "id": "cEyCJWggPpnJ"
      },
      "outputs": [],
      "source": [
        "gabungan_df['order_purchase_year'] = gabungan_df['order_purchase_timestamp'].dt.year"
      ]
    },
    {
      "cell_type": "markdown",
      "metadata": {
        "id": "wM55E62hhpYK"
      },
      "source": [
        "mengekstrak tahun dari order_purchase_timestamp\n"
      ]
    },
    {
      "cell_type": "code",
      "execution_count": 92,
      "metadata": {
        "id": "DD8g98tqQG6y"
      },
      "outputs": [],
      "source": [
        "tahun_2017_df = gabungan_df[gabungan_df['order_purchase_year'] == 2017]"
      ]
    },
    {
      "cell_type": "markdown",
      "metadata": {
        "id": "KNVefm4ohrBs"
      },
      "source": [
        "memfilter dataframe gabungan_df yang hanya kolum order_purchase_year yang memiliki tahun 2017\n"
      ]
    },
    {
      "cell_type": "code",
      "execution_count": 93,
      "metadata": {
        "id": "rSXVJfwAQSmZ"
      },
      "outputs": [],
      "source": [
        "cicilan_negara_bagian = tahun_2017_df.groupby(['customer_state', 'payment_installments'])['order_id'].count().unstack().fillna(0)"
      ]
    },
    {
      "cell_type": "markdown",
      "metadata": {
        "id": "uYqyyT-5h-rX"
      },
      "source": [
        "Mengelompokkan cicilan customer berdasarkan negara bagian\n"
      ]
    },
    {
      "cell_type": "markdown",
      "metadata": {
        "id": "DhHe0OEIgvVi"
      },
      "source": [
        "######Memfilter dan memodifikasi data value pada timestamp dan date pada dataset `order_payments_df_ziid`\n"
      ]
    },
    {
      "cell_type": "code",
      "execution_count": 94,
      "metadata": {
        "id": "wxeBEfGqgvCH"
      },
      "outputs": [],
      "source": [
        "date_columns = ['order_purchase_timestamp', 'order_delivered_customer_date', 'order_estimated_delivery_date']\n",
        "for col in date_columns:\n",
        "    orders_df_ziid[col] = pd.to_datetime(orders_df_ziid[col])"
      ]
    },
    {
      "cell_type": "markdown",
      "metadata": {
        "id": "GSdhmYAuigcz"
      },
      "source": [
        "Mengkonversi date_columns menjadi datetime\n"
      ]
    },
    {
      "cell_type": "code",
      "execution_count": 95,
      "metadata": {
        "id": "UHyEvfNRiKlo"
      },
      "outputs": [],
      "source": [
        "orders_2017_df = orders_df_ziid[orders_df_ziid['order_purchase_timestamp'].dt.year == 2017]"
      ]
    },
    {
      "cell_type": "code",
      "execution_count": 96,
      "metadata": {
        "colab": {
          "base_uri": "https://localhost:8080/"
        },
        "id": "dDzbMlpDjJ2g",
        "outputId": "774b8124-9eb2-4cf7-8b97-869785e714bb"
      },
      "outputs": [
        {
          "name": "stderr",
          "output_type": "stream",
          "text": [
            "C:\\Users\\Lenovo\\AppData\\Local\\Temp\\ipykernel_16368\\4120379583.py:1: SettingWithCopyWarning: \n",
            "A value is trying to be set on a copy of a slice from a DataFrame.\n",
            "Try using .loc[row_indexer,col_indexer] = value instead\n",
            "\n",
            "See the caveats in the documentation: https://pandas.pydata.org/pandas-docs/stable/user_guide/indexing.html#returning-a-view-versus-a-copy\n",
            "  orders_2017_df['delivery_difference'] = (orders_2017_df['order_delivered_customer_date'] - orders_2017_df['order_estimated_delivery_date']).dt.days\n"
          ]
        }
      ],
      "source": [
        "orders_2017_df['delivery_difference'] = (orders_2017_df['order_delivered_customer_date'] - orders_2017_df['order_estimated_delivery_date']).dt.days"
      ]
    },
    {
      "cell_type": "code",
      "execution_count": 97,
      "metadata": {
        "id": "9qhhjQApjeyw"
      },
      "outputs": [],
      "source": [
        "tepat_waktu_bulanan = orders_2017_df.groupby(orders_2017_df['order_purchase_timestamp'].dt.month).apply(lambda df: (df['delivery_difference'] <= 0).mean() * 100)"
      ]
    },
    {
      "cell_type": "code",
      "execution_count": 98,
      "metadata": {
        "id": "nwzQzHjqkA1F"
      },
      "outputs": [],
      "source": [
        "periode_puncak = orders_2017_df[orders_2017_df['order_purchase_timestamp'].dt.month.isin([11, 12])]"
      ]
    },
    {
      "cell_type": "code",
      "execution_count": 99,
      "metadata": {
        "id": "HqzrYoR0kGsd"
      },
      "outputs": [],
      "source": [
        "tepat_waktu_puncak = (periode_puncak['delivery_difference'] <= 0).mean() * 100"
      ]
    },
    {
      "cell_type": "code",
      "execution_count": 100,
      "metadata": {
        "id": "FtQJi6xhkJa6"
      },
      "outputs": [],
      "source": [
        "average_tepat_waktu_bulanan = tepat_waktu_bulanan.mean()"
      ]
    },
    {
      "cell_type": "code",
      "execution_count": 101,
      "metadata": {
        "colab": {
          "base_uri": "https://localhost:8080/"
        },
        "id": "p5IONwJdkLkU",
        "outputId": "dc29359b-58e8-4dad-91fd-379ff9af9e2f"
      },
      "outputs": [
        {
          "name": "stdout",
          "output_type": "stream",
          "text": [
            "Tingkat pengiriman tepat waktu selama periode puncak (Nov-Des 2017): 89.73%\n",
            "Rata-rata tingkat pengiriman tepat waktu bulanan pada 2017: 95.24%\n"
          ]
        }
      ],
      "source": [
        "print(f\"Tingkat pengiriman tepat waktu selama periode puncak (Nov-Des 2017): {tepat_waktu_puncak:.2f}%\")\n",
        "print(f\"Rata-rata tingkat pengiriman tepat waktu bulanan pada 2017: {average_tepat_waktu_bulanan:.2f}%\")"
      ]
    },
    {
      "cell_type": "markdown",
      "metadata": {
        "id": "yeTytMcpUyhw"
      },
      "source": [
        "#####Menggabungkan data `gabungan_df` dan `order_items_df_ziid`\n"
      ]
    },
    {
      "cell_type": "code",
      "execution_count": 102,
      "metadata": {
        "colab": {
          "base_uri": "https://localhost:8080/",
          "height": 290
        },
        "id": "iDpsOwQXUyIX",
        "outputId": "42562adf-39aa-42a1-f1e1-fa9bf281a39e"
      },
      "outputs": [
        {
          "data": {
            "text/html": [
              "<div>\n",
              "<style scoped>\n",
              "    .dataframe tbody tr th:only-of-type {\n",
              "        vertical-align: middle;\n",
              "    }\n",
              "\n",
              "    .dataframe tbody tr th {\n",
              "        vertical-align: top;\n",
              "    }\n",
              "\n",
              "    .dataframe thead th {\n",
              "        text-align: right;\n",
              "    }\n",
              "</style>\n",
              "<table border=\"1\" class=\"dataframe\">\n",
              "  <thead>\n",
              "    <tr style=\"text-align: right;\">\n",
              "      <th></th>\n",
              "      <th>customer_id</th>\n",
              "      <th>customer_unique_id</th>\n",
              "      <th>customer_zip_code_prefix</th>\n",
              "      <th>customer_city</th>\n",
              "      <th>customer_state</th>\n",
              "      <th>order_id</th>\n",
              "      <th>order_status</th>\n",
              "      <th>order_purchase_timestamp</th>\n",
              "      <th>order_approved_at</th>\n",
              "      <th>order_delivered_carrier_date</th>\n",
              "      <th>...</th>\n",
              "      <th>payment_type</th>\n",
              "      <th>payment_installments</th>\n",
              "      <th>payment_value</th>\n",
              "      <th>order_purchase_year</th>\n",
              "      <th>order_item_id</th>\n",
              "      <th>product_id</th>\n",
              "      <th>seller_id</th>\n",
              "      <th>shipping_limit_date</th>\n",
              "      <th>price</th>\n",
              "      <th>freight_value</th>\n",
              "    </tr>\n",
              "  </thead>\n",
              "  <tbody>\n",
              "    <tr>\n",
              "      <th>0</th>\n",
              "      <td>06b8999e2fba1a1fbc88172c00ba8bc7</td>\n",
              "      <td>861eff4711a542e4b93843c6dd7febb0</td>\n",
              "      <td>14409</td>\n",
              "      <td>franca</td>\n",
              "      <td>SP</td>\n",
              "      <td>00e7ee1b050b8499577073aeb2a297a1</td>\n",
              "      <td>delivered</td>\n",
              "      <td>2017-05-16 15:05:35</td>\n",
              "      <td>2017-05-16 15:22:12</td>\n",
              "      <td>2017-05-23 10:47:57</td>\n",
              "      <td>...</td>\n",
              "      <td>credit_card</td>\n",
              "      <td>2</td>\n",
              "      <td>146.87</td>\n",
              "      <td>2017</td>\n",
              "      <td>1</td>\n",
              "      <td>a9516a079e37a9c9c36b9b78b10169e8</td>\n",
              "      <td>7c67e1448b00f6e969d365cea6b010ab</td>\n",
              "      <td>2017-05-22 15:22:12</td>\n",
              "      <td>124.99</td>\n",
              "      <td>21.88</td>\n",
              "    </tr>\n",
              "    <tr>\n",
              "      <th>1</th>\n",
              "      <td>18955e83d337fd6b2def6b18a428ac77</td>\n",
              "      <td>290c77bc529b7ac935b93aa66c333dc3</td>\n",
              "      <td>9790</td>\n",
              "      <td>sao bernardo do campo</td>\n",
              "      <td>SP</td>\n",
              "      <td>29150127e6685892b6eab3eec79f59c7</td>\n",
              "      <td>delivered</td>\n",
              "      <td>2018-01-12 20:48:24</td>\n",
              "      <td>2018-01-12 20:58:32</td>\n",
              "      <td>2018-01-15 17:14:59</td>\n",
              "      <td>...</td>\n",
              "      <td>credit_card</td>\n",
              "      <td>8</td>\n",
              "      <td>335.48</td>\n",
              "      <td>2018</td>\n",
              "      <td>1</td>\n",
              "      <td>4aa6014eceb682077f9dc4bffebc05b0</td>\n",
              "      <td>b8bc237ba3788b23da09c0f1f3a3288c</td>\n",
              "      <td>2018-01-18 20:58:32</td>\n",
              "      <td>289.00</td>\n",
              "      <td>46.48</td>\n",
              "    </tr>\n",
              "    <tr>\n",
              "      <th>2</th>\n",
              "      <td>4e7b3e00288586ebd08712fdd0374a03</td>\n",
              "      <td>060e732b5b29e8181a18229c7b0b2b5e</td>\n",
              "      <td>1151</td>\n",
              "      <td>sao paulo</td>\n",
              "      <td>SP</td>\n",
              "      <td>b2059ed67ce144a36e2aa97d2c9e9ad2</td>\n",
              "      <td>delivered</td>\n",
              "      <td>2018-05-19 16:07:45</td>\n",
              "      <td>2018-05-20 16:19:10</td>\n",
              "      <td>2018-06-11 14:31:00</td>\n",
              "      <td>...</td>\n",
              "      <td>credit_card</td>\n",
              "      <td>7</td>\n",
              "      <td>157.73</td>\n",
              "      <td>2018</td>\n",
              "      <td>1</td>\n",
              "      <td>bd07b66896d6f1494f5b86251848ced7</td>\n",
              "      <td>7c67e1448b00f6e969d365cea6b010ab</td>\n",
              "      <td>2018-06-05 16:19:10</td>\n",
              "      <td>139.94</td>\n",
              "      <td>17.79</td>\n",
              "    </tr>\n",
              "    <tr>\n",
              "      <th>3</th>\n",
              "      <td>b2b6027bc5c5109e529d4dc6358b12c3</td>\n",
              "      <td>259dac757896d24d7702b9acbbff3f3c</td>\n",
              "      <td>8775</td>\n",
              "      <td>mogi das cruzes</td>\n",
              "      <td>SP</td>\n",
              "      <td>951670f92359f4fe4a63112aa7306eba</td>\n",
              "      <td>delivered</td>\n",
              "      <td>2018-03-13 16:06:38</td>\n",
              "      <td>2018-03-13 17:29:19</td>\n",
              "      <td>2018-03-27 23:22:42</td>\n",
              "      <td>...</td>\n",
              "      <td>credit_card</td>\n",
              "      <td>1</td>\n",
              "      <td>173.30</td>\n",
              "      <td>2018</td>\n",
              "      <td>1</td>\n",
              "      <td>a5647c44af977b148e0a3a4751a09e2e</td>\n",
              "      <td>7c67e1448b00f6e969d365cea6b010ab</td>\n",
              "      <td>2018-03-27 16:31:16</td>\n",
              "      <td>149.94</td>\n",
              "      <td>23.36</td>\n",
              "    </tr>\n",
              "    <tr>\n",
              "      <th>4</th>\n",
              "      <td>4f2d8ab171c80ec8364f7c12e35b23ad</td>\n",
              "      <td>345ecd01c38d18a9036ed96c73b8d066</td>\n",
              "      <td>13056</td>\n",
              "      <td>campinas</td>\n",
              "      <td>SP</td>\n",
              "      <td>6b7d50bd145f6fc7f33cebabd7e49d0f</td>\n",
              "      <td>delivered</td>\n",
              "      <td>2018-07-29 09:51:30</td>\n",
              "      <td>2018-07-29 10:10:09</td>\n",
              "      <td>2018-07-30 15:16:00</td>\n",
              "      <td>...</td>\n",
              "      <td>credit_card</td>\n",
              "      <td>8</td>\n",
              "      <td>252.25</td>\n",
              "      <td>2018</td>\n",
              "      <td>1</td>\n",
              "      <td>9391a573abe00141c56e38d84d7d5b3b</td>\n",
              "      <td>4a3ca9315b744ce9f8e9374361493884</td>\n",
              "      <td>2018-07-31 10:10:09</td>\n",
              "      <td>230.00</td>\n",
              "      <td>22.25</td>\n",
              "    </tr>\n",
              "  </tbody>\n",
              "</table>\n",
              "<p>5 rows × 23 columns</p>\n",
              "</div>"
            ],
            "text/plain": [
              "                        customer_id                customer_unique_id  \\\n",
              "0  06b8999e2fba1a1fbc88172c00ba8bc7  861eff4711a542e4b93843c6dd7febb0   \n",
              "1  18955e83d337fd6b2def6b18a428ac77  290c77bc529b7ac935b93aa66c333dc3   \n",
              "2  4e7b3e00288586ebd08712fdd0374a03  060e732b5b29e8181a18229c7b0b2b5e   \n",
              "3  b2b6027bc5c5109e529d4dc6358b12c3  259dac757896d24d7702b9acbbff3f3c   \n",
              "4  4f2d8ab171c80ec8364f7c12e35b23ad  345ecd01c38d18a9036ed96c73b8d066   \n",
              "\n",
              "   customer_zip_code_prefix          customer_city customer_state  \\\n",
              "0                     14409                 franca             SP   \n",
              "1                      9790  sao bernardo do campo             SP   \n",
              "2                      1151              sao paulo             SP   \n",
              "3                      8775        mogi das cruzes             SP   \n",
              "4                     13056               campinas             SP   \n",
              "\n",
              "                           order_id order_status order_purchase_timestamp  \\\n",
              "0  00e7ee1b050b8499577073aeb2a297a1    delivered      2017-05-16 15:05:35   \n",
              "1  29150127e6685892b6eab3eec79f59c7    delivered      2018-01-12 20:48:24   \n",
              "2  b2059ed67ce144a36e2aa97d2c9e9ad2    delivered      2018-05-19 16:07:45   \n",
              "3  951670f92359f4fe4a63112aa7306eba    delivered      2018-03-13 16:06:38   \n",
              "4  6b7d50bd145f6fc7f33cebabd7e49d0f    delivered      2018-07-29 09:51:30   \n",
              "\n",
              "     order_approved_at order_delivered_carrier_date  ... payment_type  \\\n",
              "0  2017-05-16 15:22:12          2017-05-23 10:47:57  ...  credit_card   \n",
              "1  2018-01-12 20:58:32          2018-01-15 17:14:59  ...  credit_card   \n",
              "2  2018-05-20 16:19:10          2018-06-11 14:31:00  ...  credit_card   \n",
              "3  2018-03-13 17:29:19          2018-03-27 23:22:42  ...  credit_card   \n",
              "4  2018-07-29 10:10:09          2018-07-30 15:16:00  ...  credit_card   \n",
              "\n",
              "  payment_installments  payment_value order_purchase_year  order_item_id  \\\n",
              "0                    2         146.87                2017              1   \n",
              "1                    8         335.48                2018              1   \n",
              "2                    7         157.73                2018              1   \n",
              "3                    1         173.30                2018              1   \n",
              "4                    8         252.25                2018              1   \n",
              "\n",
              "                         product_id                         seller_id  \\\n",
              "0  a9516a079e37a9c9c36b9b78b10169e8  7c67e1448b00f6e969d365cea6b010ab   \n",
              "1  4aa6014eceb682077f9dc4bffebc05b0  b8bc237ba3788b23da09c0f1f3a3288c   \n",
              "2  bd07b66896d6f1494f5b86251848ced7  7c67e1448b00f6e969d365cea6b010ab   \n",
              "3  a5647c44af977b148e0a3a4751a09e2e  7c67e1448b00f6e969d365cea6b010ab   \n",
              "4  9391a573abe00141c56e38d84d7d5b3b  4a3ca9315b744ce9f8e9374361493884   \n",
              "\n",
              "   shipping_limit_date   price freight_value  \n",
              "0  2017-05-22 15:22:12  124.99         21.88  \n",
              "1  2018-01-18 20:58:32  289.00         46.48  \n",
              "2  2018-06-05 16:19:10  139.94         17.79  \n",
              "3  2018-03-27 16:31:16  149.94         23.36  \n",
              "4  2018-07-31 10:10:09  230.00         22.25  \n",
              "\n",
              "[5 rows x 23 columns]"
            ]
          },
          "execution_count": 102,
          "metadata": {},
          "output_type": "execute_result"
        }
      ],
      "source": [
        "gabungan_df = pd.merge(gabungan_df, order_items_df_ziid, on='order_id', how='inner')\n",
        "gabungan_df.head()"
      ]
    },
    {
      "cell_type": "markdown",
      "metadata": {
        "id": "6LsinhhZQkPd"
      },
      "source": [
        "#####Menggabungkan data `gabungan_df` dan `products_df_ziid`\n"
      ]
    },
    {
      "cell_type": "code",
      "execution_count": 103,
      "metadata": {
        "colab": {
          "base_uri": "https://localhost:8080/",
          "height": 256
        },
        "id": "iGbnWEjQQ2X_",
        "outputId": "b70a1292-d26c-4a19-9dee-4fe83e248ef7"
      },
      "outputs": [
        {
          "data": {
            "text/html": [
              "<div>\n",
              "<style scoped>\n",
              "    .dataframe tbody tr th:only-of-type {\n",
              "        vertical-align: middle;\n",
              "    }\n",
              "\n",
              "    .dataframe tbody tr th {\n",
              "        vertical-align: top;\n",
              "    }\n",
              "\n",
              "    .dataframe thead th {\n",
              "        text-align: right;\n",
              "    }\n",
              "</style>\n",
              "<table border=\"1\" class=\"dataframe\">\n",
              "  <thead>\n",
              "    <tr style=\"text-align: right;\">\n",
              "      <th></th>\n",
              "      <th>customer_id</th>\n",
              "      <th>customer_unique_id</th>\n",
              "      <th>customer_zip_code_prefix</th>\n",
              "      <th>customer_city</th>\n",
              "      <th>customer_state</th>\n",
              "      <th>order_id</th>\n",
              "      <th>order_status</th>\n",
              "      <th>order_purchase_timestamp</th>\n",
              "      <th>order_approved_at</th>\n",
              "      <th>order_delivered_carrier_date</th>\n",
              "      <th>...</th>\n",
              "      <th>price</th>\n",
              "      <th>freight_value</th>\n",
              "      <th>product_category_name</th>\n",
              "      <th>product_name_lenght</th>\n",
              "      <th>product_description_lenght</th>\n",
              "      <th>product_photos_qty</th>\n",
              "      <th>product_weight_g</th>\n",
              "      <th>product_length_cm</th>\n",
              "      <th>product_height_cm</th>\n",
              "      <th>product_width_cm</th>\n",
              "    </tr>\n",
              "  </thead>\n",
              "  <tbody>\n",
              "    <tr>\n",
              "      <th>0</th>\n",
              "      <td>06b8999e2fba1a1fbc88172c00ba8bc7</td>\n",
              "      <td>861eff4711a542e4b93843c6dd7febb0</td>\n",
              "      <td>14409</td>\n",
              "      <td>franca</td>\n",
              "      <td>SP</td>\n",
              "      <td>00e7ee1b050b8499577073aeb2a297a1</td>\n",
              "      <td>delivered</td>\n",
              "      <td>2017-05-16 15:05:35</td>\n",
              "      <td>2017-05-16 15:22:12</td>\n",
              "      <td>2017-05-23 10:47:57</td>\n",
              "      <td>...</td>\n",
              "      <td>124.99</td>\n",
              "      <td>21.88</td>\n",
              "      <td>moveis_escritorio</td>\n",
              "      <td>41.0</td>\n",
              "      <td>1141.0</td>\n",
              "      <td>1.0</td>\n",
              "      <td>8683.0</td>\n",
              "      <td>54.0</td>\n",
              "      <td>64.0</td>\n",
              "      <td>31.0</td>\n",
              "    </tr>\n",
              "    <tr>\n",
              "      <th>1</th>\n",
              "      <td>18955e83d337fd6b2def6b18a428ac77</td>\n",
              "      <td>290c77bc529b7ac935b93aa66c333dc3</td>\n",
              "      <td>9790</td>\n",
              "      <td>sao bernardo do campo</td>\n",
              "      <td>SP</td>\n",
              "      <td>29150127e6685892b6eab3eec79f59c7</td>\n",
              "      <td>delivered</td>\n",
              "      <td>2018-01-12 20:48:24</td>\n",
              "      <td>2018-01-12 20:58:32</td>\n",
              "      <td>2018-01-15 17:14:59</td>\n",
              "      <td>...</td>\n",
              "      <td>289.00</td>\n",
              "      <td>46.48</td>\n",
              "      <td>utilidades_domesticas</td>\n",
              "      <td>43.0</td>\n",
              "      <td>1002.0</td>\n",
              "      <td>3.0</td>\n",
              "      <td>10150.0</td>\n",
              "      <td>89.0</td>\n",
              "      <td>15.0</td>\n",
              "      <td>40.0</td>\n",
              "    </tr>\n",
              "    <tr>\n",
              "      <th>2</th>\n",
              "      <td>4e7b3e00288586ebd08712fdd0374a03</td>\n",
              "      <td>060e732b5b29e8181a18229c7b0b2b5e</td>\n",
              "      <td>1151</td>\n",
              "      <td>sao paulo</td>\n",
              "      <td>SP</td>\n",
              "      <td>b2059ed67ce144a36e2aa97d2c9e9ad2</td>\n",
              "      <td>delivered</td>\n",
              "      <td>2018-05-19 16:07:45</td>\n",
              "      <td>2018-05-20 16:19:10</td>\n",
              "      <td>2018-06-11 14:31:00</td>\n",
              "      <td>...</td>\n",
              "      <td>139.94</td>\n",
              "      <td>17.79</td>\n",
              "      <td>moveis_escritorio</td>\n",
              "      <td>55.0</td>\n",
              "      <td>955.0</td>\n",
              "      <td>1.0</td>\n",
              "      <td>8267.0</td>\n",
              "      <td>52.0</td>\n",
              "      <td>52.0</td>\n",
              "      <td>17.0</td>\n",
              "    </tr>\n",
              "    <tr>\n",
              "      <th>3</th>\n",
              "      <td>b2b6027bc5c5109e529d4dc6358b12c3</td>\n",
              "      <td>259dac757896d24d7702b9acbbff3f3c</td>\n",
              "      <td>8775</td>\n",
              "      <td>mogi das cruzes</td>\n",
              "      <td>SP</td>\n",
              "      <td>951670f92359f4fe4a63112aa7306eba</td>\n",
              "      <td>delivered</td>\n",
              "      <td>2018-03-13 16:06:38</td>\n",
              "      <td>2018-03-13 17:29:19</td>\n",
              "      <td>2018-03-27 23:22:42</td>\n",
              "      <td>...</td>\n",
              "      <td>149.94</td>\n",
              "      <td>23.36</td>\n",
              "      <td>moveis_escritorio</td>\n",
              "      <td>48.0</td>\n",
              "      <td>1066.0</td>\n",
              "      <td>1.0</td>\n",
              "      <td>12160.0</td>\n",
              "      <td>56.0</td>\n",
              "      <td>51.0</td>\n",
              "      <td>28.0</td>\n",
              "    </tr>\n",
              "    <tr>\n",
              "      <th>4</th>\n",
              "      <td>4f2d8ab171c80ec8364f7c12e35b23ad</td>\n",
              "      <td>345ecd01c38d18a9036ed96c73b8d066</td>\n",
              "      <td>13056</td>\n",
              "      <td>campinas</td>\n",
              "      <td>SP</td>\n",
              "      <td>6b7d50bd145f6fc7f33cebabd7e49d0f</td>\n",
              "      <td>delivered</td>\n",
              "      <td>2018-07-29 09:51:30</td>\n",
              "      <td>2018-07-29 10:10:09</td>\n",
              "      <td>2018-07-30 15:16:00</td>\n",
              "      <td>...</td>\n",
              "      <td>230.00</td>\n",
              "      <td>22.25</td>\n",
              "      <td>casa_conforto</td>\n",
              "      <td>61.0</td>\n",
              "      <td>407.0</td>\n",
              "      <td>1.0</td>\n",
              "      <td>5200.0</td>\n",
              "      <td>45.0</td>\n",
              "      <td>15.0</td>\n",
              "      <td>35.0</td>\n",
              "    </tr>\n",
              "  </tbody>\n",
              "</table>\n",
              "<p>5 rows × 31 columns</p>\n",
              "</div>"
            ],
            "text/plain": [
              "                        customer_id                customer_unique_id  \\\n",
              "0  06b8999e2fba1a1fbc88172c00ba8bc7  861eff4711a542e4b93843c6dd7febb0   \n",
              "1  18955e83d337fd6b2def6b18a428ac77  290c77bc529b7ac935b93aa66c333dc3   \n",
              "2  4e7b3e00288586ebd08712fdd0374a03  060e732b5b29e8181a18229c7b0b2b5e   \n",
              "3  b2b6027bc5c5109e529d4dc6358b12c3  259dac757896d24d7702b9acbbff3f3c   \n",
              "4  4f2d8ab171c80ec8364f7c12e35b23ad  345ecd01c38d18a9036ed96c73b8d066   \n",
              "\n",
              "   customer_zip_code_prefix          customer_city customer_state  \\\n",
              "0                     14409                 franca             SP   \n",
              "1                      9790  sao bernardo do campo             SP   \n",
              "2                      1151              sao paulo             SP   \n",
              "3                      8775        mogi das cruzes             SP   \n",
              "4                     13056               campinas             SP   \n",
              "\n",
              "                           order_id order_status order_purchase_timestamp  \\\n",
              "0  00e7ee1b050b8499577073aeb2a297a1    delivered      2017-05-16 15:05:35   \n",
              "1  29150127e6685892b6eab3eec79f59c7    delivered      2018-01-12 20:48:24   \n",
              "2  b2059ed67ce144a36e2aa97d2c9e9ad2    delivered      2018-05-19 16:07:45   \n",
              "3  951670f92359f4fe4a63112aa7306eba    delivered      2018-03-13 16:06:38   \n",
              "4  6b7d50bd145f6fc7f33cebabd7e49d0f    delivered      2018-07-29 09:51:30   \n",
              "\n",
              "     order_approved_at order_delivered_carrier_date  ...   price  \\\n",
              "0  2017-05-16 15:22:12          2017-05-23 10:47:57  ...  124.99   \n",
              "1  2018-01-12 20:58:32          2018-01-15 17:14:59  ...  289.00   \n",
              "2  2018-05-20 16:19:10          2018-06-11 14:31:00  ...  139.94   \n",
              "3  2018-03-13 17:29:19          2018-03-27 23:22:42  ...  149.94   \n",
              "4  2018-07-29 10:10:09          2018-07-30 15:16:00  ...  230.00   \n",
              "\n",
              "  freight_value  product_category_name product_name_lenght  \\\n",
              "0         21.88      moveis_escritorio                41.0   \n",
              "1         46.48  utilidades_domesticas                43.0   \n",
              "2         17.79      moveis_escritorio                55.0   \n",
              "3         23.36      moveis_escritorio                48.0   \n",
              "4         22.25          casa_conforto                61.0   \n",
              "\n",
              "   product_description_lenght  product_photos_qty  product_weight_g  \\\n",
              "0                      1141.0                 1.0            8683.0   \n",
              "1                      1002.0                 3.0           10150.0   \n",
              "2                       955.0                 1.0            8267.0   \n",
              "3                      1066.0                 1.0           12160.0   \n",
              "4                       407.0                 1.0            5200.0   \n",
              "\n",
              "   product_length_cm product_height_cm product_width_cm  \n",
              "0               54.0              64.0             31.0  \n",
              "1               89.0              15.0             40.0  \n",
              "2               52.0              52.0             17.0  \n",
              "3               56.0              51.0             28.0  \n",
              "4               45.0              15.0             35.0  \n",
              "\n",
              "[5 rows x 31 columns]"
            ]
          },
          "execution_count": 103,
          "metadata": {},
          "output_type": "execute_result"
        }
      ],
      "source": [
        "gabungan_df = pd.merge(gabungan_df, products_df_ziid, on='product_id', how='inner')\n",
        "gabungan_df.head()"
      ]
    },
    {
      "cell_type": "markdown",
      "metadata": {
        "id": "Ccr4CynXZdzd"
      },
      "source": [
        "#####Menggabungkan data `gabungan_df` dan `product_category_name_df_ziid`\n"
      ]
    },
    {
      "cell_type": "code",
      "execution_count": 104,
      "metadata": {
        "colab": {
          "base_uri": "https://localhost:8080/",
          "height": 256
        },
        "id": "HG-tgZlhZjbJ",
        "outputId": "b595d215-1c26-45b2-8bf2-f4e6b1eb2f3d"
      },
      "outputs": [
        {
          "data": {
            "text/html": [
              "<div>\n",
              "<style scoped>\n",
              "    .dataframe tbody tr th:only-of-type {\n",
              "        vertical-align: middle;\n",
              "    }\n",
              "\n",
              "    .dataframe tbody tr th {\n",
              "        vertical-align: top;\n",
              "    }\n",
              "\n",
              "    .dataframe thead th {\n",
              "        text-align: right;\n",
              "    }\n",
              "</style>\n",
              "<table border=\"1\" class=\"dataframe\">\n",
              "  <thead>\n",
              "    <tr style=\"text-align: right;\">\n",
              "      <th></th>\n",
              "      <th>customer_id</th>\n",
              "      <th>customer_unique_id</th>\n",
              "      <th>customer_zip_code_prefix</th>\n",
              "      <th>customer_city</th>\n",
              "      <th>customer_state</th>\n",
              "      <th>order_id</th>\n",
              "      <th>order_status</th>\n",
              "      <th>order_purchase_timestamp</th>\n",
              "      <th>order_approved_at</th>\n",
              "      <th>order_delivered_carrier_date</th>\n",
              "      <th>...</th>\n",
              "      <th>freight_value</th>\n",
              "      <th>product_category_name</th>\n",
              "      <th>product_name_lenght</th>\n",
              "      <th>product_description_lenght</th>\n",
              "      <th>product_photos_qty</th>\n",
              "      <th>product_weight_g</th>\n",
              "      <th>product_length_cm</th>\n",
              "      <th>product_height_cm</th>\n",
              "      <th>product_width_cm</th>\n",
              "      <th>product_category_name_english</th>\n",
              "    </tr>\n",
              "  </thead>\n",
              "  <tbody>\n",
              "    <tr>\n",
              "      <th>0</th>\n",
              "      <td>06b8999e2fba1a1fbc88172c00ba8bc7</td>\n",
              "      <td>861eff4711a542e4b93843c6dd7febb0</td>\n",
              "      <td>14409</td>\n",
              "      <td>franca</td>\n",
              "      <td>SP</td>\n",
              "      <td>00e7ee1b050b8499577073aeb2a297a1</td>\n",
              "      <td>delivered</td>\n",
              "      <td>2017-05-16 15:05:35</td>\n",
              "      <td>2017-05-16 15:22:12</td>\n",
              "      <td>2017-05-23 10:47:57</td>\n",
              "      <td>...</td>\n",
              "      <td>21.88</td>\n",
              "      <td>moveis_escritorio</td>\n",
              "      <td>41.0</td>\n",
              "      <td>1141.0</td>\n",
              "      <td>1.0</td>\n",
              "      <td>8683.0</td>\n",
              "      <td>54.0</td>\n",
              "      <td>64.0</td>\n",
              "      <td>31.0</td>\n",
              "      <td>office_furniture</td>\n",
              "    </tr>\n",
              "    <tr>\n",
              "      <th>1</th>\n",
              "      <td>18955e83d337fd6b2def6b18a428ac77</td>\n",
              "      <td>290c77bc529b7ac935b93aa66c333dc3</td>\n",
              "      <td>9790</td>\n",
              "      <td>sao bernardo do campo</td>\n",
              "      <td>SP</td>\n",
              "      <td>29150127e6685892b6eab3eec79f59c7</td>\n",
              "      <td>delivered</td>\n",
              "      <td>2018-01-12 20:48:24</td>\n",
              "      <td>2018-01-12 20:58:32</td>\n",
              "      <td>2018-01-15 17:14:59</td>\n",
              "      <td>...</td>\n",
              "      <td>46.48</td>\n",
              "      <td>utilidades_domesticas</td>\n",
              "      <td>43.0</td>\n",
              "      <td>1002.0</td>\n",
              "      <td>3.0</td>\n",
              "      <td>10150.0</td>\n",
              "      <td>89.0</td>\n",
              "      <td>15.0</td>\n",
              "      <td>40.0</td>\n",
              "      <td>housewares</td>\n",
              "    </tr>\n",
              "    <tr>\n",
              "      <th>2</th>\n",
              "      <td>4e7b3e00288586ebd08712fdd0374a03</td>\n",
              "      <td>060e732b5b29e8181a18229c7b0b2b5e</td>\n",
              "      <td>1151</td>\n",
              "      <td>sao paulo</td>\n",
              "      <td>SP</td>\n",
              "      <td>b2059ed67ce144a36e2aa97d2c9e9ad2</td>\n",
              "      <td>delivered</td>\n",
              "      <td>2018-05-19 16:07:45</td>\n",
              "      <td>2018-05-20 16:19:10</td>\n",
              "      <td>2018-06-11 14:31:00</td>\n",
              "      <td>...</td>\n",
              "      <td>17.79</td>\n",
              "      <td>moveis_escritorio</td>\n",
              "      <td>55.0</td>\n",
              "      <td>955.0</td>\n",
              "      <td>1.0</td>\n",
              "      <td>8267.0</td>\n",
              "      <td>52.0</td>\n",
              "      <td>52.0</td>\n",
              "      <td>17.0</td>\n",
              "      <td>office_furniture</td>\n",
              "    </tr>\n",
              "    <tr>\n",
              "      <th>3</th>\n",
              "      <td>b2b6027bc5c5109e529d4dc6358b12c3</td>\n",
              "      <td>259dac757896d24d7702b9acbbff3f3c</td>\n",
              "      <td>8775</td>\n",
              "      <td>mogi das cruzes</td>\n",
              "      <td>SP</td>\n",
              "      <td>951670f92359f4fe4a63112aa7306eba</td>\n",
              "      <td>delivered</td>\n",
              "      <td>2018-03-13 16:06:38</td>\n",
              "      <td>2018-03-13 17:29:19</td>\n",
              "      <td>2018-03-27 23:22:42</td>\n",
              "      <td>...</td>\n",
              "      <td>23.36</td>\n",
              "      <td>moveis_escritorio</td>\n",
              "      <td>48.0</td>\n",
              "      <td>1066.0</td>\n",
              "      <td>1.0</td>\n",
              "      <td>12160.0</td>\n",
              "      <td>56.0</td>\n",
              "      <td>51.0</td>\n",
              "      <td>28.0</td>\n",
              "      <td>office_furniture</td>\n",
              "    </tr>\n",
              "    <tr>\n",
              "      <th>4</th>\n",
              "      <td>4f2d8ab171c80ec8364f7c12e35b23ad</td>\n",
              "      <td>345ecd01c38d18a9036ed96c73b8d066</td>\n",
              "      <td>13056</td>\n",
              "      <td>campinas</td>\n",
              "      <td>SP</td>\n",
              "      <td>6b7d50bd145f6fc7f33cebabd7e49d0f</td>\n",
              "      <td>delivered</td>\n",
              "      <td>2018-07-29 09:51:30</td>\n",
              "      <td>2018-07-29 10:10:09</td>\n",
              "      <td>2018-07-30 15:16:00</td>\n",
              "      <td>...</td>\n",
              "      <td>22.25</td>\n",
              "      <td>casa_conforto</td>\n",
              "      <td>61.0</td>\n",
              "      <td>407.0</td>\n",
              "      <td>1.0</td>\n",
              "      <td>5200.0</td>\n",
              "      <td>45.0</td>\n",
              "      <td>15.0</td>\n",
              "      <td>35.0</td>\n",
              "      <td>home_confort</td>\n",
              "    </tr>\n",
              "  </tbody>\n",
              "</table>\n",
              "<p>5 rows × 32 columns</p>\n",
              "</div>"
            ],
            "text/plain": [
              "                        customer_id                customer_unique_id  \\\n",
              "0  06b8999e2fba1a1fbc88172c00ba8bc7  861eff4711a542e4b93843c6dd7febb0   \n",
              "1  18955e83d337fd6b2def6b18a428ac77  290c77bc529b7ac935b93aa66c333dc3   \n",
              "2  4e7b3e00288586ebd08712fdd0374a03  060e732b5b29e8181a18229c7b0b2b5e   \n",
              "3  b2b6027bc5c5109e529d4dc6358b12c3  259dac757896d24d7702b9acbbff3f3c   \n",
              "4  4f2d8ab171c80ec8364f7c12e35b23ad  345ecd01c38d18a9036ed96c73b8d066   \n",
              "\n",
              "   customer_zip_code_prefix          customer_city customer_state  \\\n",
              "0                     14409                 franca             SP   \n",
              "1                      9790  sao bernardo do campo             SP   \n",
              "2                      1151              sao paulo             SP   \n",
              "3                      8775        mogi das cruzes             SP   \n",
              "4                     13056               campinas             SP   \n",
              "\n",
              "                           order_id order_status order_purchase_timestamp  \\\n",
              "0  00e7ee1b050b8499577073aeb2a297a1    delivered      2017-05-16 15:05:35   \n",
              "1  29150127e6685892b6eab3eec79f59c7    delivered      2018-01-12 20:48:24   \n",
              "2  b2059ed67ce144a36e2aa97d2c9e9ad2    delivered      2018-05-19 16:07:45   \n",
              "3  951670f92359f4fe4a63112aa7306eba    delivered      2018-03-13 16:06:38   \n",
              "4  6b7d50bd145f6fc7f33cebabd7e49d0f    delivered      2018-07-29 09:51:30   \n",
              "\n",
              "     order_approved_at order_delivered_carrier_date  ... freight_value  \\\n",
              "0  2017-05-16 15:22:12          2017-05-23 10:47:57  ...         21.88   \n",
              "1  2018-01-12 20:58:32          2018-01-15 17:14:59  ...         46.48   \n",
              "2  2018-05-20 16:19:10          2018-06-11 14:31:00  ...         17.79   \n",
              "3  2018-03-13 17:29:19          2018-03-27 23:22:42  ...         23.36   \n",
              "4  2018-07-29 10:10:09          2018-07-30 15:16:00  ...         22.25   \n",
              "\n",
              "   product_category_name  product_name_lenght product_description_lenght  \\\n",
              "0      moveis_escritorio                 41.0                     1141.0   \n",
              "1  utilidades_domesticas                 43.0                     1002.0   \n",
              "2      moveis_escritorio                 55.0                      955.0   \n",
              "3      moveis_escritorio                 48.0                     1066.0   \n",
              "4          casa_conforto                 61.0                      407.0   \n",
              "\n",
              "   product_photos_qty  product_weight_g  product_length_cm  product_height_cm  \\\n",
              "0                 1.0            8683.0               54.0               64.0   \n",
              "1                 3.0           10150.0               89.0               15.0   \n",
              "2                 1.0            8267.0               52.0               52.0   \n",
              "3                 1.0           12160.0               56.0               51.0   \n",
              "4                 1.0            5200.0               45.0               15.0   \n",
              "\n",
              "  product_width_cm product_category_name_english  \n",
              "0             31.0              office_furniture  \n",
              "1             40.0                    housewares  \n",
              "2             17.0              office_furniture  \n",
              "3             28.0              office_furniture  \n",
              "4             35.0                  home_confort  \n",
              "\n",
              "[5 rows x 32 columns]"
            ]
          },
          "execution_count": 104,
          "metadata": {},
          "output_type": "execute_result"
        }
      ],
      "source": [
        "gabungan_df = pd.merge(gabungan_df, product_category_name_df_ziid, on='product_category_name', how='left')\n",
        "gabungan_df.head()"
      ]
    },
    {
      "cell_type": "markdown",
      "metadata": {
        "id": "N8iBixmzfmky"
      },
      "source": [
        "######Mengelompokkan kategori produk yang dibeli dengan cicilan lebih dari 3\n"
      ]
    },
    {
      "cell_type": "code",
      "execution_count": 105,
      "metadata": {
        "colab": {
          "base_uri": "https://localhost:8080/"
        },
        "id": "6hyGebt5f1rI",
        "outputId": "dfe0de4a-3f72-4843-b1b1-a5094f8bfc67"
      },
      "outputs": [
        {
          "name": "stdout",
          "output_type": "stream",
          "text": [
            "product_category_name_english\n",
            "bed_bath_table               4600\n",
            "health_beauty                2972\n",
            "furniture_decor              2593\n",
            "watches_gifts                2521\n",
            "housewares                   2141\n",
            "                             ... \n",
            "cds_dvds_musicals               4\n",
            "arts_and_craftmanship           3\n",
            "home_comfort_2                  2\n",
            "flowers                         1\n",
            "fashion_childrens_clothes       1\n",
            "Length: 70, dtype: int64\n"
          ]
        }
      ],
      "source": [
        "cicilan_category_lebih_3 = gabungan_df[gabungan_df['payment_installments'] > 3].groupby('product_category_name_english').size().sort_values(ascending=False)\n",
        "print(cicilan_category_lebih_3)"
      ]
    },
    {
      "cell_type": "markdown",
      "metadata": {
        "id": "th_Lzl2Fkj9O"
      },
      "source": [
        "**Insight:**\n",
        "\n",
        "- Menggabungkan dataset dataset yang telah dibuat dapat bisa melihat dan mengexplore data-data yang ada juga memungkinkan membuat sebuah perbandingan terhadap suatu kasus\n"
      ]
    },
    {
      "cell_type": "markdown",
      "metadata": {
        "id": "zsyZjqak8DC2"
      },
      "source": [
        "## Visualization & Explanatory Analysis\n"
      ]
    },
    {
      "cell_type": "markdown",
      "metadata": {
        "id": "HZxOiQ6n8DC2"
      },
      "source": [
        "### Pertanyaan 1: Dari negara bagian mana pelanggan cenderung menggunakan cicilan, dan seberapa sering pelanggan memilih cicilan lebih dari 3 kali untuk kategori produk tertentu di tahun 2017?\n"
      ]
    },
    {
      "cell_type": "code",
      "execution_count": 106,
      "metadata": {
        "colab": {
          "base_uri": "https://localhost:8080/"
        },
        "id": "1swJUdAD8DC2",
        "outputId": "240b9bfb-e066-466e-e5db-ee2860b526af"
      },
      "outputs": [
        {
          "ename": "OSError",
          "evalue": "'seaborn' is not a valid package style, path of style file, URL of style file, or library style name (library styles are listed in `style.available`)",
          "output_type": "error",
          "traceback": [
            "\u001b[1;31m---------------------------------------------------------------------------\u001b[0m",
            "\u001b[1;31mFileNotFoundError\u001b[0m                         Traceback (most recent call last)",
            "File \u001b[1;32mc:\\Users\\Lenovo\\AppData\\Local\\Programs\\Python\\Python312\\Lib\\site-packages\\matplotlib\\style\\core.py:137\u001b[0m, in \u001b[0;36muse\u001b[1;34m(style)\u001b[0m\n\u001b[0;32m    136\u001b[0m \u001b[38;5;28;01mtry\u001b[39;00m:\n\u001b[1;32m--> 137\u001b[0m     style \u001b[38;5;241m=\u001b[39m \u001b[43m_rc_params_in_file\u001b[49m\u001b[43m(\u001b[49m\u001b[43mstyle\u001b[49m\u001b[43m)\u001b[49m\n\u001b[0;32m    138\u001b[0m \u001b[38;5;28;01mexcept\u001b[39;00m \u001b[38;5;167;01mOSError\u001b[39;00m \u001b[38;5;28;01mas\u001b[39;00m err:\n",
            "File \u001b[1;32mc:\\Users\\Lenovo\\AppData\\Local\\Programs\\Python\\Python312\\Lib\\site-packages\\matplotlib\\__init__.py:870\u001b[0m, in \u001b[0;36m_rc_params_in_file\u001b[1;34m(fname, transform, fail_on_error)\u001b[0m\n\u001b[0;32m    869\u001b[0m rc_temp \u001b[38;5;241m=\u001b[39m {}\n\u001b[1;32m--> 870\u001b[0m \u001b[43m\u001b[49m\u001b[38;5;28;43;01mwith\u001b[39;49;00m\u001b[43m \u001b[49m\u001b[43m_open_file_or_url\u001b[49m\u001b[43m(\u001b[49m\u001b[43mfname\u001b[49m\u001b[43m)\u001b[49m\u001b[43m \u001b[49m\u001b[38;5;28;43;01mas\u001b[39;49;00m\u001b[43m \u001b[49m\u001b[43mfd\u001b[49m\u001b[43m:\u001b[49m\n\u001b[0;32m    871\u001b[0m \u001b[43m    \u001b[49m\u001b[38;5;28;43;01mtry\u001b[39;49;00m\u001b[43m:\u001b[49m\n",
            "File \u001b[1;32mc:\\Users\\Lenovo\\AppData\\Local\\Programs\\Python\\Python312\\Lib\\contextlib.py:137\u001b[0m, in \u001b[0;36m_GeneratorContextManager.__enter__\u001b[1;34m(self)\u001b[0m\n\u001b[0;32m    136\u001b[0m \u001b[38;5;28;01mtry\u001b[39;00m:\n\u001b[1;32m--> 137\u001b[0m     \u001b[38;5;28;01mreturn\u001b[39;00m \u001b[38;5;28;43mnext\u001b[39;49m\u001b[43m(\u001b[49m\u001b[38;5;28;43mself\u001b[39;49m\u001b[38;5;241;43m.\u001b[39;49m\u001b[43mgen\u001b[49m\u001b[43m)\u001b[49m\n\u001b[0;32m    138\u001b[0m \u001b[38;5;28;01mexcept\u001b[39;00m \u001b[38;5;167;01mStopIteration\u001b[39;00m:\n",
            "File \u001b[1;32mc:\\Users\\Lenovo\\AppData\\Local\\Programs\\Python\\Python312\\Lib\\site-packages\\matplotlib\\__init__.py:847\u001b[0m, in \u001b[0;36m_open_file_or_url\u001b[1;34m(fname)\u001b[0m\n\u001b[0;32m    846\u001b[0m fname \u001b[38;5;241m=\u001b[39m os\u001b[38;5;241m.\u001b[39mpath\u001b[38;5;241m.\u001b[39mexpanduser(fname)\n\u001b[1;32m--> 847\u001b[0m \u001b[38;5;28;01mwith\u001b[39;00m \u001b[38;5;28;43mopen\u001b[39;49m\u001b[43m(\u001b[49m\u001b[43mfname\u001b[49m\u001b[43m,\u001b[49m\u001b[43m \u001b[49m\u001b[43mencoding\u001b[49m\u001b[38;5;241;43m=\u001b[39;49m\u001b[38;5;124;43m'\u001b[39;49m\u001b[38;5;124;43mutf-8\u001b[39;49m\u001b[38;5;124;43m'\u001b[39;49m\u001b[43m)\u001b[49m \u001b[38;5;28;01mas\u001b[39;00m f:\n\u001b[0;32m    848\u001b[0m     \u001b[38;5;28;01myield\u001b[39;00m f\n",
            "\u001b[1;31mFileNotFoundError\u001b[0m: [Errno 2] No such file or directory: 'seaborn'",
            "\nThe above exception was the direct cause of the following exception:\n",
            "\u001b[1;31mOSError\u001b[0m                                   Traceback (most recent call last)",
            "Cell \u001b[1;32mIn[106], line 5\u001b[0m\n\u001b[0;32m      1\u001b[0m \u001b[38;5;66;03m#menyimban value untuk negara bagian dari terbesar ke terkecil\u001b[39;00m\n\u001b[0;32m      2\u001b[0m negara_cicilan_teratas \u001b[38;5;241m=\u001b[39m cicilan_negara_bagian\u001b[38;5;241m.\u001b[39msum(axis\u001b[38;5;241m=\u001b[39m\u001b[38;5;241m1\u001b[39m)\u001b[38;5;241m.\u001b[39msort_values(ascending\u001b[38;5;241m=\u001b[39m\u001b[38;5;28;01mFalse\u001b[39;00m)\n\u001b[1;32m----> 5\u001b[0m \u001b[43mplt\u001b[49m\u001b[38;5;241;43m.\u001b[39;49m\u001b[43mstyle\u001b[49m\u001b[38;5;241;43m.\u001b[39;49m\u001b[43muse\u001b[49m\u001b[43m(\u001b[49m\u001b[38;5;124;43m'\u001b[39;49m\u001b[38;5;124;43mseaborn\u001b[39;49m\u001b[38;5;124;43m'\u001b[39;49m\u001b[43m)\u001b[49m\n\u001b[0;32m      6\u001b[0m sns\u001b[38;5;241m.\u001b[39mset_palette(\u001b[38;5;124m\"\u001b[39m\u001b[38;5;124mviridis\u001b[39m\u001b[38;5;124m\"\u001b[39m)\n",
            "File \u001b[1;32mc:\\Users\\Lenovo\\AppData\\Local\\Programs\\Python\\Python312\\Lib\\site-packages\\matplotlib\\style\\core.py:139\u001b[0m, in \u001b[0;36muse\u001b[1;34m(style)\u001b[0m\n\u001b[0;32m    137\u001b[0m         style \u001b[38;5;241m=\u001b[39m _rc_params_in_file(style)\n\u001b[0;32m    138\u001b[0m     \u001b[38;5;28;01mexcept\u001b[39;00m \u001b[38;5;167;01mOSError\u001b[39;00m \u001b[38;5;28;01mas\u001b[39;00m err:\n\u001b[1;32m--> 139\u001b[0m         \u001b[38;5;28;01mraise\u001b[39;00m \u001b[38;5;167;01mOSError\u001b[39;00m(\n\u001b[0;32m    140\u001b[0m             \u001b[38;5;124mf\u001b[39m\u001b[38;5;124m\"\u001b[39m\u001b[38;5;132;01m{\u001b[39;00mstyle\u001b[38;5;132;01m!r}\u001b[39;00m\u001b[38;5;124m is not a valid package style, path of style \u001b[39m\u001b[38;5;124m\"\u001b[39m\n\u001b[0;32m    141\u001b[0m             \u001b[38;5;124mf\u001b[39m\u001b[38;5;124m\"\u001b[39m\u001b[38;5;124mfile, URL of style file, or library style name (library \u001b[39m\u001b[38;5;124m\"\u001b[39m\n\u001b[0;32m    142\u001b[0m             \u001b[38;5;124mf\u001b[39m\u001b[38;5;124m\"\u001b[39m\u001b[38;5;124mstyles are listed in `style.available`)\u001b[39m\u001b[38;5;124m\"\u001b[39m) \u001b[38;5;28;01mfrom\u001b[39;00m \u001b[38;5;21;01merr\u001b[39;00m\n\u001b[0;32m    143\u001b[0m filtered \u001b[38;5;241m=\u001b[39m {}\n\u001b[0;32m    144\u001b[0m \u001b[38;5;28;01mfor\u001b[39;00m k \u001b[38;5;129;01min\u001b[39;00m style:  \u001b[38;5;66;03m# don't trigger RcParams.__getitem__('backend')\u001b[39;00m\n",
            "\u001b[1;31mOSError\u001b[0m: 'seaborn' is not a valid package style, path of style file, URL of style file, or library style name (library styles are listed in `style.available`)"
          ]
        }
      ],
      "source": [
        "#menyimban value untuk negara bagian dari terbesar ke terkecil\n",
        "negara_cicilan_teratas = cicilan_negara_bagian.sum(axis=1).sort_values(ascending=False)\n",
        "\n",
        "\n",
        "plt.style.use('seaborn')\n",
        "sns.set_palette(\"viridis\")\n"
      ]
    },
    {
      "cell_type": "code",
      "execution_count": 89,
      "metadata": {
        "colab": {
          "base_uri": "https://localhost:8080/",
          "height": 430
        },
        "id": "9L8YtjVq9QXD",
        "outputId": "a8eefeee-abae-4f81-d201-b3b0abdc0a7d"
      },
      "outputs": [
        {
          "data": {
            "image/png": "[encoded data removed]",
            "text/plain": [
              "<Figure size 1400x800 with 1 Axes>"
            ]
          },
          "metadata": {},
          "output_type": "display_data"
        }
      ],
      "source": [
        "# 1. Visualisasi Pembayaran Cicilan berdasarkan Negara Bagian Pelanggan\n",
        "plt.figure(figsize=(14, 8))\n",
        "ax = sns.barplot(x=negara_cicilan_teratas.index, y=negara_cicilan_teratas.values)\n",
        "plt.xlabel('Negara Bagian Pelanggan', fontsize=12)\n",
        "plt.ylabel('Jumlah Pembayaran Cicilan', fontsize=12)\n",
        "plt.title('Jumlah Pembayaran Cicilan berdasarkan Negara Bagian Pelanggan pada 2017', fontsize=16)\n",
        "plt.xticks(rotation=45, ha='right')\n",
        "\n",
        "# Tambahkan label nilai di atas setiap batang\n",
        "for i, nilai in enumerate(negara_cicilan_teratas.values):\n",
        "    ax.text(i, nilai, f'{nilai:,.0f}', ha='center', va='bottom')\n",
        "\n",
        "# Tambahkan gradien warna pada batang\n",
        "jumlah_negara_bagian = len(negara_cicilan_teratas)\n",
        "warna_gradien = plt.cm.ScalarMappable(cmap=\"viridis\", norm=plt.Normalize(vmin=0, vmax=jumlah_negara_bagian))\n",
        "for i, batang in enumerate(ax.patches):\n",
        "    batang.set_facecolor(warna_gradien.to_rgba(i))\n",
        "\n",
        "plt.tight_layout()\n",
        "plt.show()"
      ]
    },
    {
      "cell_type": "code",
      "execution_count": 90,
      "metadata": {
        "colab": {
          "base_uri": "https://localhost:8080/",
          "height": 430
        },
        "id": "vVnFbEmo9D54",
        "outputId": "d2a812da-460d-494c-a3c8-713d874ff1af"
      },
      "outputs": [
        {
          "data": {
            "image/png": "[encoded data removed]",
            "text/plain": [
              "<Figure size 1400x800 with 1 Axes>"
            ]
          },
          "metadata": {},
          "output_type": "display_data"
        }
      ],
      "source": [
        "# 2. Visualisasi Kategori Produk dengan Pembayaran Cicilan Lebih dari 3\n",
        "plt.figure(figsize=(14, 8))\n",
        "ax = sns.barplot(x=cicilan_category_lebih_3.index[:10], y=cicilan_category_lebih_3.values[:10])\n",
        "plt.xlabel('Kategori Produk', fontsize=12)\n",
        "plt.ylabel('Jumlah Pesanan dengan >3 Cicilan', fontsize=12)\n",
        "plt.title('10 Kategori Produk Teratas dengan Pembayaran Cicilan Lebih dari 3 pada 2017', fontsize=16)\n",
        "plt.xticks(rotation=45, ha='right')\n",
        "\n",
        "# Tambahkan label nilai di atas setiap batang\n",
        "for i, nilai in enumerate(cicilan_category_lebih_3.values[:10]):\n",
        "    ax.text(i, nilai, f'{nilai:,.0f}', ha='center', va='bottom')\n",
        "\n",
        "# Tambahkan gradien warna pada batang\n",
        "warna_gradien = plt.cm.ScalarMappable(cmap=\"viridis\", norm=plt.Normalize(vmin=0, vmax=10))\n",
        "for i, batang in enumerate(ax.patches):\n",
        "    batang.set_facecolor(warna_gradien.to_rgba(i))\n",
        "\n",
        "plt.tight_layout()\n",
        "plt.show()"
      ]
    },
    {
      "cell_type": "markdown",
      "metadata": {
        "id": "5oAyspDe8REa"
      },
      "source": [
        "Explanatory Analysis: Negara bagian dengan transaksi cicilan tertinggi kemungkinan memiliki pengeluaran yang lebih besar untuk produk premium seperti bed,bath dan table. Ini memperlihatkan preferensi belaja yang lebih matang dan skema cicilan jangka panjang untuk memfasilitasi pembelian barang bernilai lebih tinggi\n"
      ]
    },
    {
      "cell_type": "markdown",
      "metadata": {
        "id": "DgHI7CiU8DC2"
      },
      "source": [
        "### Pertanyaan 2: Bagaimana perbandingan tingkat ketepatan waktu pengiriman selama periode puncak (November - Desember) 2017 dibandingkan dengan rata-rata bulanan ditahun yang sama? (memakai orders_dataset)\n"
      ]
    },
    {
      "cell_type": "code",
      "execution_count": 91,
      "metadata": {
        "colab": {
          "base_uri": "https://localhost:8080/",
          "height": 378
        },
        "id": "Go0lCsvO8DC2",
        "outputId": "a9ac6e0c-43d6-46ea-8740-b3a437ccdfa6"
      },
      "outputs": [
        {
          "data": {
            "image/png": "[encoded data removed]",
            "text/plain": [
              "<Figure size 1200x600 with 1 Axes>"
            ]
          },
          "metadata": {},
          "output_type": "display_data"
        }
      ],
      "source": [
        "plt.figure(figsize=(12, 6))\n",
        "sns.set_style(\"whitegrid\")\n",
        "sns.set_palette(\"deep\")\n",
        "\n",
        "# Plot tingkat bulanan\n",
        "ax = sns.barplot(x=tepat_waktu_bulanan.index, y=tepat_waktu_bulanan.values, alpha=0.8)\n",
        "plt.axhline(y=average_tepat_waktu_bulanan, color='r', linestyle='--', label='Rata-rata Bulanan')\n",
        "\n",
        "# Sorot periode puncak\n",
        "bulan_puncak = [11, 12]\n",
        "for bulan in bulan_puncak:\n",
        "    ax.patches[bulan-1].set_facecolor('gold')\n",
        "\n",
        "# Tambahkan label nilai pada batang\n",
        "for i, v in enumerate(tepat_waktu_bulanan.values):\n",
        "    ax.text(i, v + 0.5, f'{v:.1f}%', ha='center', va='bottom')\n",
        "\n",
        "plt.title('Tingkat Pengiriman Tepat Waktu Bulanan pada 2017', fontsize=16)\n",
        "plt.xlabel('Bulan', fontsize=12)\n",
        "plt.ylabel('Tingkat Pengiriman Tepat Waktu (%)', fontsize=12)\n",
        "plt.xticks(range(12), ['Jan', 'Feb', 'Mar', 'Apr', 'Mei', 'Jun', 'Jul', 'Agu', 'Sep', 'Okt', 'Nov', 'Des'])\n",
        "plt.legend(['Rata-rata Bulanan', 'Tingkat Bulanan'])\n",
        "\n",
        "plt.tight_layout()\n",
        "plt.show()"
      ]
    },
    {
      "cell_type": "markdown",
      "metadata": {
        "id": "sxa9u-mH8BVd"
      },
      "source": [
        "Explanatory Analysis : Penurunan signifikan pada bulan November dapat dipicu oleh lonjakan pesanan akibat promosi besar seperti Black Friday, yang menyebabkan overload pada kapasistas pengiriman\n"
      ]
    },
    {
      "cell_type": "markdown",
      "metadata": {
        "id": "_0-36BDLklRg"
      },
      "source": [
        "**Insight:**\n",
        "\n",
        "- Sao Paulo mendominasi dengan 18.089 cicilan, jauh lebih tinggi dibangin bagian lainnya\n",
        "  -Kategori Bed, Bath and Table adalah yang paling banyak menggunakan cicilan lebih dari 3 kali\n",
        "  -Pengiriman tepat waktu turun drastis pada bulan November dibanding rata-rata bulanan lainnya\n"
      ]
    },
    {
      "cell_type": "markdown",
      "metadata": {
        "id": "9y4VUsmcYNZ5"
      },
      "source": [
        "## Analisis Lanjutan (Opsional)\n"
      ]
    },
    {
      "cell_type": "code",
      "execution_count": 97,
      "metadata": {
        "id": "iWhnzsJGYUCO"
      },
      "outputs": [],
      "source": []
    },
    {
      "cell_type": "markdown",
      "metadata": {
        "id": "_WeHlCeX8DC2"
      },
      "source": [
        "## Conclusion\n"
      ]
    },
    {
      "cell_type": "markdown",
      "metadata": {
        "id": "ZTcyR48Y8DC2"
      },
      "source": [
        "- Negara bagian dengan transaksi cicilan tertinggi cenderung memiliki minat lebih besar pada produk-produk premium seperti bed, bath, dan table. Hal ini mencerminkan pola belanja yang lebih matang, di mana pembeli memilih cicilan jangka panjang untuk mempermudah pembelian produk bernilai tinggi.\n",
        "- Penurunan pengiriman tepat waktu pada bulan November kemungkinan disebabkan oleh lonjakan pesanan selama promosi besar seperti Black Friday, yang menyebabkan kapasitas pengiriman kewalahan, mengakibatkan keterlambatan pemrosesan pesanan\n"
      ]
    }
  ],
  "metadata": {
    "colab": {
      "provenance": [],
      "toc_visible": true
    },
    "kernelspec": {
      "display_name": "Python 3",
      "language": "python",
      "name": "python3"
    },
    "language_info": {
      "codemirror_mode": {
        "name": "ipython",
        "version": 3
      },
      "file_extension": ".py",
      "mimetype": "text/x-python",
      "name": "python",
      "nbconvert_exporter": "python",
      "pygments_lexer": "ipython3",
      "version": "3.12.5"
    },
    "orig_nbformat": 4,
    "vscode": {
      "interpreter": {
        "hash": "972b3bf27e332e87b5379f2791f6ef9dfc79c71018c370b0d7423235e20fe4d7"
      }
    }
  },
  "nbformat": 4,
  "nbformat_minor": 0
}
